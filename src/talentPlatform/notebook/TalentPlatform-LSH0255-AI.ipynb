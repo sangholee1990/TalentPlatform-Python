{
 "cells": [
  {
   "cell_type": "code",
   "execution_count": 2,
   "outputs": [],
   "source": [
    "# -*- coding: utf-8 -*-\n",
    "import glob\n",
    "# import seaborn as sns\n",
    "import logging\n",
    "import logging.handlers\n",
    "import os\n",
    "import platform\n",
    "import sys\n",
    "import argparse\n",
    "import traceback\n",
    "import warnings\n",
    "from datetime import datetime\n",
    "\n",
    "import matplotlib as mpl\n",
    "import matplotlib.pyplot as plt\n",
    "import numpy as np\n",
    "import pyproj\n",
    "import xarray as xr\n",
    "from scipy.stats import linregress\n",
    "import pandas as pd\n",
    "import cartopy.crs as ccrs\n",
    "import math\n",
    "from scipy import spatial\n",
    "from pandas.tseries.offsets import Day, Hour, Minute, Second\n",
    "from scipy.interpolate import Rbf\n",
    "from numpy import zeros, newaxis\n",
    "\n",
    "# os.environ[\"PROJ_LIB\"] = \"C:\\ProgramData\\Anaconda3\\Library\\share\"\n",
    "# from pygem import IDW\n",
    "import eccodes\n",
    "import pygrib\n",
    "# import pykrige.kriging_tools as kt\n",
    "import haversine as hs\n",
    "import pytz\n",
    "import pvlib\n",
    "import pandas as pd\n",
    "\n",
    "# from auto_ts import auto_timeseries\n",
    "# from plotnine import ggplot\n",
    "# from pycaret.regression import setup\n",
    "# from pycaret.regression import compare_models\n",
    "# from pycaret.regression import *\n",
    "\n",
    "# =================================================\n",
    "# 사용자 매뉴얼\n",
    "# =================================================\n",
    "# [소스 코드의 실행 순서]\n",
    "# 1. 초기 설정 : 폰트 설정\n",
    "# 2. 유틸리티 함수 : 초기화 함수 (로그 설정, 초기 변수, 초기 전달인자 설정) 또는 자주 사용하는 함수\n",
    "# 3. 주 프로그램 :부 프로그램을 호출\n",
    "# 4. 부 프로그램 : 자료 처리를 위한 클래스로서 내부 함수 (초기 변수, 비즈니스 로직, 수행 프로그램 설정)\n",
    "# 4.1. 환경 변수 설정 (로그 설정) : 로그 기록을 위한 설정 정보 읽기\n",
    "# 4.2. 환경 변수 설정 (초기 변수) : 입력 경로 (inpPath) 및 출력 경로 (outPath) 등을 설정\n",
    "# 4.3. 초기 변수 (Argument, Option) 설정 : 파이썬 실행 시 전달인자 설정 (pyhton3 *.py argv1 argv2 argv3 ...)\n",
    "# 4.4. 비즈니스 로직 수행 : 단위 시스템 (unit 파일명)으로 관리 또는 비즈니스 로직 구현\n",
    "\n",
    "# =================================================\n",
    "# 1. 초기 설정\n",
    "# =================================================\n",
    "warnings.filterwarnings(\"ignore\")\n",
    "\n",
    "plt.rc('font', family='Malgun Gothic')\n",
    "plt.rc('axes', unicode_minus=False)\n",
    "# sns.set(font=\"Malgun Gothic\", rc={\"axes.unicode_minus\": False}, style='darkgrid')\n",
    "\n",
    "# 그래프에서 마이너스 글꼴 깨지는 문제에 대한 대처\n",
    "mpl.rcParams['axes.unicode_minus'] = False\n",
    "\n",
    "# 타임존 설정\n",
    "tzKst = pytz.timezone('Asia/Seoul')\n",
    "tzUtc = pytz.timezone('UTC')\n",
    "\n",
    "\n",
    "# =================================================\n",
    "# 2. 유틸리티 함수\n",
    "# =================================================\n",
    "# 로그 설정\n",
    "def initLog(env=None, contextPath=None, prjName=None):\n",
    "    if env is None: env = 'local'\n",
    "    if contextPath is None: contextPath = os.getcwd()\n",
    "    if prjName is None: prjName = 'test'\n",
    "\n",
    "    saveLogFile = \"{}/{}_{}_{}_{}.log\".format(\n",
    "        contextPath if env in 'local' else os.path.join(contextPath, 'resources', 'log', prjName)\n",
    "        , platform.system()\n",
    "        , platform.node()\n",
    "        , prjName\n",
    "        , datetime.now().strftime(\"%Y%m%d\")\n",
    "    )\n",
    "\n",
    "    if not os.path.exists(os.path.dirname(saveLogFile)):\n",
    "        os.makedirs(os.path.dirname(saveLogFile))\n",
    "\n",
    "    # logger instance 생성\n",
    "    log = logging.getLogger(prjName)\n",
    "\n",
    "    if len(log.handlers) > 0:\n",
    "        return log\n",
    "\n",
    "    # format 생성\n",
    "    format = logging.Formatter('%(asctime)s [%(name)s | %(lineno)d | %(filename)s] [%(levelname)-5.5s] %(message)s')\n",
    "\n",
    "    # handler 생성\n",
    "    streamHandler = logging.StreamHandler()\n",
    "    fileHandler = logging.FileHandler(saveLogFile)\n",
    "\n",
    "    # logger instance에 format 설정\n",
    "    streamHandler.setFormatter(format)\n",
    "    fileHandler.setFormatter(format)\n",
    "\n",
    "    # logger instance에 handler 설정\n",
    "    log.addHandler(streamHandler)\n",
    "    log.addHandler(fileHandler)\n",
    "\n",
    "    # logger instance로 log 기록\n",
    "    log.setLevel(level=logging.INFO)\n",
    "\n",
    "    return log\n",
    "\n",
    "\n",
    "#  초기 변수 설정\n",
    "def initGlobalVar(env=None, contextPath=None, prjName=None):\n",
    "    if env is None: env = 'local'\n",
    "    if contextPath is None: contextPath = os.getcwd()\n",
    "    if prjName is None: prjName = 'test'\n",
    "\n",
    "    # 환경 변수 (local, 그 외)에 따라 전역 변수 (입력 자료, 출력 자료 등)를 동적으로 설정\n",
    "    # 즉 local의 경우 현재 작업 경로 (contextPath)를 기준으로 설정\n",
    "    # 그 외의 경우 contextPath/resources/input/prjName와 같은 동적으로 구성\n",
    "    globalVar = {\n",
    "        'prjName': prjName\n",
    "        , 'sysOs': platform.system()\n",
    "        , 'contextPath': contextPath\n",
    "        , 'resPath': contextPath if env in 'local' else os.path.join(contextPath, 'resources')\n",
    "        , 'cfgPath': contextPath if env in 'local' else os.path.join(contextPath, 'resources', 'config')\n",
    "        , 'inpPath': contextPath if env in 'local' else os.path.join(contextPath, 'resources', 'input', prjName)\n",
    "        , 'figPath': contextPath if env in 'local' else os.path.join(contextPath, 'resources', 'fig', prjName)\n",
    "        , 'outPath': contextPath if env in 'local' else os.path.join(contextPath, 'resources', 'output', prjName)\n",
    "        , 'movPath': contextPath if env in 'local' else os.path.join(contextPath, 'resources', 'movie', prjName)\n",
    "        , 'logPath': contextPath if env in 'local' else os.path.join(contextPath, 'resources', 'log', prjName)\n",
    "        , 'mapPath': contextPath if env in 'local' else os.path.join(contextPath, 'resources', 'mapInfo')\n",
    "        , 'sysPath': contextPath if env in 'local' else os.path.join(contextPath, 'resources', 'config', 'system.cfg')\n",
    "        ,\n",
    "        'seleniumPath': contextPath if env in 'local' else os.path.join(contextPath, 'resources', 'config', 'selenium')\n",
    "        , 'fontPath': contextPath if env in 'local' else os.path.join(contextPath, 'resources', 'config', 'fontInfo')\n",
    "    }\n",
    "\n",
    "    return globalVar\n",
    "\n",
    "\n",
    "#  초기 전달인자 설정\n",
    "def initArgument(globalVar, inParams):\n",
    "    # 원도우 또는 맥 환경\n",
    "    if globalVar['sysOs'] in 'Windows' or globalVar['sysOs'] in 'Darwin':\n",
    "        inParInfo = inParams\n",
    "\n",
    "    # 리눅스 환경\n",
    "    if globalVar['sysOs'] in 'Linux':\n",
    "        parser = argparse.ArgumentParser()\n",
    "\n",
    "        for i, argv in enumerate(sys.argv[1:]):\n",
    "            if not argv.__contains__('--'): continue\n",
    "            parser.add_argument(argv)\n",
    "\n",
    "        inParInfo = vars(parser.parse_args())\n",
    "\n",
    "    log.info(\"[CHECK] inParInfo : {}\".format(inParInfo))\n",
    "\n",
    "    for key, val in inParInfo.items():\n",
    "        if val is None: continue\n",
    "        # 전역 변수에 할당\n",
    "        globalVar[key] = val\n",
    "\n",
    "    # 전역 변수\n",
    "    for key, val in globalVar.items():\n",
    "        if env not in 'local' and key.__contains__('Path') and env and not os.path.exists(val):\n",
    "            os.makedirs(val)\n",
    "\n",
    "        globalVar[key] = val.replace('\\\\', '/')\n",
    "\n",
    "        log.info(\"[CHECK] {} / val : {}\".format(key, val))\n",
    "\n",
    "        # self 변수에 할당\n",
    "        # setattr(self, key, val)\n",
    "\n",
    "    return globalVar\n",
    "\n",
    "\n",
    "# 시계열 시각화\n",
    "def makeUserTimeSeriesPlot(dtDate, prdVal, refVal, prdValLabel, refValLabel, xlab, ylab, mainTitle, saveImg):\n",
    "    # 그리드 설정\n",
    "    plt.grid(True)\n",
    "\n",
    "    plt.plot(dtDate, prdVal, label=prdValLabel)\n",
    "    plt.plot(dtDate, refVal, label=refValLabel)\n",
    "\n",
    "    # 제목, x축, y축 설정\n",
    "    plt.title(mainTitle)\n",
    "    plt.xlabel(xlab)\n",
    "    plt.ylabel(ylab)\n",
    "\n",
    "    plt.xticks(rotation=45, ha='right')\n",
    "    plt.legend(loc='upper left')\n",
    "\n",
    "    plt.savefig(saveImg, dpi=600, bbox_inches='tight')\n",
    "    plt.show()\n",
    "    plt.close()\n",
    "\n",
    "\n",
    "# 산점도 시각화\n",
    "def makeUserScatterPlot(prdVal, refVal, xlab, ylab, mainTitle, saveImg, minVal, maxVal, xIntVal, yIntVal, isSame):\n",
    "    # 그리드 설정\n",
    "    plt.grid(True)\n",
    "\n",
    "    plt.scatter(prdVal, refVal)\n",
    "\n",
    "    # 제목, x축, y축 설정\n",
    "    plt.title(mainTitle)\n",
    "    plt.xlabel(xlab)\n",
    "    plt.ylabel(ylab)\n",
    "\n",
    "    # 검증스코어 계산 : Bias (Relative Bias), RMSE (Relative RMSE)\n",
    "    Bias = np.mean(prdVal - refVal)\n",
    "    rBias = (Bias / np.mean(refVal)) * 100.0\n",
    "    RMSE = np.sqrt(np.mean((prdVal - refVal) ** 2))\n",
    "    rRMSE = (RMSE / np.mean(refVal)) * 100.0\n",
    "    MAPE = np.mean(np.abs((prdVal - refVal) / prdVal)) * 100.0\n",
    "\n",
    "    # 선형회귀곡선에 대한 계산\n",
    "    lmFit = linregress(prdVal, refVal)\n",
    "    slope = lmFit[0]\n",
    "    intercept = lmFit[1]\n",
    "    R = lmFit[2]\n",
    "    Pvalue = lmFit[3]\n",
    "    N = len(prdVal)\n",
    "\n",
    "    lmfit = (slope * prdVal) + intercept\n",
    "    plt.plot(prdVal, lmfit, color='red', linewidth=2)\n",
    "\n",
    "    # 라벨 추가\n",
    "    plt.annotate('%s = %.2f x (%s) + %.2f' % (ylab, slope, xlab, intercept), xy=(minVal + xIntVal, maxVal - yIntVal),\n",
    "                 color='red', xycoords='data', horizontalalignment='left', verticalalignment='center')\n",
    "    plt.annotate('R = %.2f  (p-value < %.2f)' % (R, Pvalue), xy=(minVal + xIntVal, maxVal - yIntVal * 2),\n",
    "                 color='red', xycoords='data', horizontalalignment='left', verticalalignment='center')\n",
    "\n",
    "    if (isSame == True):\n",
    "        # plt.axes().set_aspect('equal')\n",
    "\n",
    "        plt.xlim(minVal, maxVal)\n",
    "        plt.ylim(minVal, maxVal)\n",
    "\n",
    "        plt.annotate('Bias = %.2f  (%%Bias = %.2f %%)' % (Bias, rBias), xy=(minVal + xIntVal, maxVal - yIntVal * 3),\n",
    "                     color='black', xycoords='data', horizontalalignment='left', verticalalignment='center')\n",
    "        plt.annotate('RMSE = %.2f  (%%RMSE = %.2f %%)' % (RMSE, rRMSE), xy=(minVal + xIntVal, maxVal - yIntVal * 4),\n",
    "                     color='black', xycoords='data', horizontalalignment='left', verticalalignment='center')\n",
    "        plt.annotate('MAPE = %.2f %%' % (MAPE), xy=(minVal + xIntVal, maxVal - yIntVal * 5),\n",
    "                     color='black', xycoords='data', horizontalalignment='left', verticalalignment='center')\n",
    "        plt.annotate('N = %d' % N, xy=(minVal + xIntVal, maxVal - yIntVal * 6), color='black',\n",
    "                     xycoords='data', horizontalalignment='left', verticalalignment='center')\n",
    "    else:\n",
    "        plt.annotate('N = %d' % N, xy=(minVal + xIntVal, maxVal - yIntVal * 3), color='black',\n",
    "                     xycoords='data', horizontalalignment='left', verticalalignment='center')\n",
    "\n",
    "    plt.savefig(saveImg, dpi=600, bbox_inches='tight')\n",
    "    plt.show()\n",
    "    plt.close()\n",
    "\n",
    "\n",
    "def cartesian(latitude, longitude, elevation=0):\n",
    "    # Convert to radians\n",
    "    latitude = latitude * (math.pi / 180)\n",
    "    longitude = longitude * (math.pi / 180)\n",
    "\n",
    "    R = 6371  # 6378137.0 + elevation  # relative to centre of the earth\n",
    "    X = R * math.cos(latitude) * math.cos(longitude)\n",
    "    Y = R * math.cos(latitude) * math.sin(longitude)\n",
    "    Z = R * math.sin(latitude)\n",
    "\n",
    "    return (X, Y, Z)"
   ],
   "metadata": {
    "collapsed": false,
    "pycharm": {
     "name": "#%%\n"
    }
   }
  },
  {
   "cell_type": "code",
   "execution_count": null,
   "outputs": [],
   "source": [],
   "metadata": {
    "collapsed": false,
    "pycharm": {
     "name": "#%%\n"
    }
   }
  },
  {
   "cell_type": "code",
   "source": [
    "\n",
    "# ================================================================================================\n",
    "# 환경변수 설정\n",
    "# ================================================================================================\n",
    "global env, contextPath, prjName, serviceName, log, globalVar\n",
    "\n",
    "# env = 'local'  # 로컬 : 원도우 환경, 작업환경 (현재 소스 코드 환경 시 .) 설정\n",
    "env = 'dev'  # 개발 : 원도우 환경, 작업환경 (사용자 환경 시 contextPath) 설정\n",
    "# env = 'oper'  # 운영 : 리눅스 환경, 작업환경 (사용자 환경 시 contextPath) 설정\n",
    "\n",
    "contextPath = os.getcwd() if env in 'local' else 'E:/04. TalentPlatform/Github/TalentPlatform-Python'\n",
    "# contextPath = os.getcwd() if env in 'local' else '/SYSTEMS/PROG/PYTHON/PV'\n",
    "\n",
    "prjName = 'test'\n",
    "serviceName = 'LSH0255'\n",
    "\n",
    "# 4.1. 환경 변수 설정 (로그 설정)\n",
    "log = initLog(env, contextPath, prjName)\n",
    "\n",
    "# 4.2. 환경 변수 설정 (초기 변수)\n",
    "globalVar = initGlobalVar(env, contextPath, prjName)\n",
    "inParams = {}\n",
    "initArgument(globalVar, inParams)"
   ],
   "metadata": {
    "collapsed": false,
    "pycharm": {
     "name": "#%%\n"
    }
   },
   "execution_count": 3,
   "outputs": [
    {
     "name": "stderr",
     "output_type": "stream",
     "text": [
      "2021-12-31 15:38:31,034 [test | 167 | 1480403263.py] [INFO ] [CHECK] inParInfo : {}\n",
      "2021-12-31 15:38:31,049 [test | 181 | 1480403263.py] [INFO ] [CHECK] prjName / val : test\n",
      "2021-12-31 15:38:31,049 [test | 181 | 1480403263.py] [INFO ] [CHECK] sysOs / val : Windows\n",
      "2021-12-31 15:38:31,050 [test | 181 | 1480403263.py] [INFO ] [CHECK] contextPath / val : E:/04. TalentPlatform/Github/TalentPlatform-Python\n",
      "2021-12-31 15:38:31,051 [test | 181 | 1480403263.py] [INFO ] [CHECK] resPath / val : E:/04. TalentPlatform/Github/TalentPlatform-Python\\resources\n",
      "2021-12-31 15:38:31,052 [test | 181 | 1480403263.py] [INFO ] [CHECK] cfgPath / val : E:/04. TalentPlatform/Github/TalentPlatform-Python\\resources\\config\n",
      "2021-12-31 15:38:31,053 [test | 181 | 1480403263.py] [INFO ] [CHECK] inpPath / val : E:/04. TalentPlatform/Github/TalentPlatform-Python\\resources\\input\\test\n",
      "2021-12-31 15:38:31,054 [test | 181 | 1480403263.py] [INFO ] [CHECK] figPath / val : E:/04. TalentPlatform/Github/TalentPlatform-Python\\resources\\fig\\test\n",
      "2021-12-31 15:38:31,056 [test | 181 | 1480403263.py] [INFO ] [CHECK] outPath / val : E:/04. TalentPlatform/Github/TalentPlatform-Python\\resources\\output\\test\n",
      "2021-12-31 15:38:31,057 [test | 181 | 1480403263.py] [INFO ] [CHECK] movPath / val : E:/04. TalentPlatform/Github/TalentPlatform-Python\\resources\\movie\\test\n",
      "2021-12-31 15:38:31,057 [test | 181 | 1480403263.py] [INFO ] [CHECK] logPath / val : E:/04. TalentPlatform/Github/TalentPlatform-Python\\resources\\log\\test\n",
      "2021-12-31 15:38:31,059 [test | 181 | 1480403263.py] [INFO ] [CHECK] mapPath / val : E:/04. TalentPlatform/Github/TalentPlatform-Python\\resources\\mapInfo\n",
      "2021-12-31 15:38:31,059 [test | 181 | 1480403263.py] [INFO ] [CHECK] sysPath / val : E:/04. TalentPlatform/Github/TalentPlatform-Python\\resources\\config\\system.cfg\n",
      "2021-12-31 15:38:31,060 [test | 181 | 1480403263.py] [INFO ] [CHECK] seleniumPath / val : E:/04. TalentPlatform/Github/TalentPlatform-Python\\resources\\config\\selenium\n",
      "2021-12-31 15:38:31,060 [test | 181 | 1480403263.py] [INFO ] [CHECK] fontPath / val : E:/04. TalentPlatform/Github/TalentPlatform-Python\\resources\\config\\fontInfo\n"
     ]
    },
    {
     "data": {
      "text/plain": "{'prjName': 'test',\n 'sysOs': 'Windows',\n 'contextPath': 'E:/04. TalentPlatform/Github/TalentPlatform-Python',\n 'resPath': 'E:/04. TalentPlatform/Github/TalentPlatform-Python/resources',\n 'cfgPath': 'E:/04. TalentPlatform/Github/TalentPlatform-Python/resources/config',\n 'inpPath': 'E:/04. TalentPlatform/Github/TalentPlatform-Python/resources/input/test',\n 'figPath': 'E:/04. TalentPlatform/Github/TalentPlatform-Python/resources/fig/test',\n 'outPath': 'E:/04. TalentPlatform/Github/TalentPlatform-Python/resources/output/test',\n 'movPath': 'E:/04. TalentPlatform/Github/TalentPlatform-Python/resources/movie/test',\n 'logPath': 'E:/04. TalentPlatform/Github/TalentPlatform-Python/resources/log/test',\n 'mapPath': 'E:/04. TalentPlatform/Github/TalentPlatform-Python/resources/mapInfo',\n 'sysPath': 'E:/04. TalentPlatform/Github/TalentPlatform-Python/resources/config/system.cfg',\n 'seleniumPath': 'E:/04. TalentPlatform/Github/TalentPlatform-Python/resources/config/selenium',\n 'fontPath': 'E:/04. TalentPlatform/Github/TalentPlatform-Python/resources/config/fontInfo'}"
     },
     "execution_count": 3,
     "metadata": {},
     "output_type": "execute_result"
    }
   ]
  },
  {
   "cell_type": "code",
   "execution_count": 2,
   "outputs": [
    {
     "ename": "NameError",
     "evalue": "name 'globalVar' is not defined",
     "output_type": "error",
     "traceback": [
      "\u001B[1;31m---------------------------------------------------------------------------\u001B[0m",
      "\u001B[1;31mNameError\u001B[0m                                 Traceback (most recent call last)",
      "\u001B[1;32m~\\AppData\\Local\\Temp/ipykernel_31444/1572643196.py\u001B[0m in \u001B[0;36m<module>\u001B[1;34m\u001B[0m\n\u001B[0;32m     27\u001B[0m \u001B[0mposLat\u001B[0m \u001B[1;33m=\u001B[0m \u001B[0mposInfo\u001B[0m\u001B[1;33m[\u001B[0m\u001B[1;34m'lat'\u001B[0m\u001B[1;33m]\u001B[0m\u001B[1;33m\u001B[0m\u001B[1;33m\u001B[0m\u001B[0m\n\u001B[0;32m     28\u001B[0m \u001B[1;33m\u001B[0m\u001B[0m\n\u001B[1;32m---> 29\u001B[1;33m \u001B[0mglobalVar\u001B[0m\u001B[1;33m[\u001B[0m\u001B[1;34m'inpPath'\u001B[0m\u001B[1;33m]\u001B[0m \u001B[1;33m=\u001B[0m \u001B[1;34m'E:/DATA/OUTPUT'\u001B[0m\u001B[1;33m\u001B[0m\u001B[1;33m\u001B[0m\u001B[0m\n\u001B[0m\u001B[0;32m     30\u001B[0m \u001B[0mglobalVar\u001B[0m\u001B[1;33m[\u001B[0m\u001B[1;34m'outPath'\u001B[0m\u001B[1;33m]\u001B[0m \u001B[1;33m=\u001B[0m \u001B[1;34m'E:/DATA/OUTPUT'\u001B[0m\u001B[1;33m\u001B[0m\u001B[1;33m\u001B[0m\u001B[0m\n\u001B[0;32m     31\u001B[0m \u001B[1;33m\u001B[0m\u001B[0m\n",
      "\u001B[1;31mNameError\u001B[0m: name 'globalVar' is not defined"
     ]
    }
   ],
   "source": [
    "\n",
    "# 옵션 설정\n",
    "# sysOpt = {\n",
    "#     # 시작/종료 시간\n",
    "#     'srtDate': globalVar['srtDate']\n",
    "#     , 'endDate': globalVar['endDate']\n",
    "# }\n",
    "\n",
    "sysOpt = {\n",
    "    # 시작/종료 시간\n",
    "    'srtDate': '2021-10-01'\n",
    "    , 'endDate': '2021-11-01'\n",
    "}\n",
    "\n",
    "# 주소 전라북도 임실군 삼계면 오지리   산 82-1\n",
    "# 발전설비용량 : 996.45\n",
    "# Latitude:  35.545380\n",
    "# Longitude:  127.283937\n",
    "\n",
    "posInfo = {\n",
    "    'lat': 35.545380\n",
    "    , 'lon': 127.283937\n",
    "    , 'size': 996.45\n",
    "    , 'addr': '전라북도 임실군 삼계면 오지리 산 82-1'\n",
    "}\n",
    "\n",
    "posLon = posInfo['lon']\n",
    "posLat = posInfo['lat']\n",
    "\n",
    "globalVar['inpPath'] = 'E:/DATA/OUTPUT'\n",
    "globalVar['outPath'] = 'E:/DATA/OUTPUT'\n",
    "\n",
    "dtSrtDate = pd.to_datetime('2020-09-01', format='%Y-%m-%d')\n",
    "dtEndDate = pd.to_datetime('2021-09-12', format='%Y-%m-%d')\n",
    "dtIncDateList = pd.date_range(start=dtSrtDate, end=dtEndDate, freq=Hour(1))\n",
    "\n",
    "prdData = pd.DataFrame({\n",
    "    'dtDate': dtIncDateList\n",
    "    , 'dtDateKst': dtIncDateList.tz_localize(tzKst).tz_convert(tzKst)\n",
    "})\n",
    "\n",
    "# *******************************************************\n",
    "# 관측자료 읽기\n",
    "# *******************************************************\n",
    "# inpFilePattern = 'PV/{}/{}/{}/UMKR_l015_unis_*_{}.grb2'.format(dtDateYm, dtDateDay, dtDateHour,\n",
    "#                                                                   dtDateYmdHm)\n",
    "inpFile = '{}/{}'.format(globalVar['inpPath'], 'TEST/PV/DW태양광발전소발전량(9월12_10월29일).xlsx')\n",
    "trainData = pd.read_excel(inpFile, sheet_name='Sheet1')\n",
    "testData = pd.read_excel(inpFile, sheet_name='Sheet2')\n",
    "\n",
    "# trainData min : 2020-09-01 00:00:00 / max : 2021-09-12 00:00:00\n",
    "trainData['dtDate'] = pd.to_datetime(trainData['time'], format='%Y-%m-%d %H', utc=False)\n",
    "trainData['dtDateKst'] = trainData['dtDate'].dt.tz_localize(tzKst).dt.tz_convert(tzKst)\n",
    "# trainData.index = trainData['dtDate']\n",
    "# trainData.dtDate = trainData.dtDate.tz_localize(tzKst).tz_convert(tzKst)\n",
    "# trainData['dtDate'] = pd.to_datetime(trainData['time'], format='%Y-%m-%d %H', utc=False).tz_convert('Asia/Seoul')\n",
    "\n",
    "trainDataL1 = trainData.loc[trainData['dtDate'].between('2020-09-01', '2021-09-12')]\n",
    "trainDataL2 = trainDataL1.loc[trainData['pv'] > 0]\n",
    "\n",
    "# 2021-09-12 00:00:00 / max : 2021-10-29 23:00:00\n",
    "# testData['dtDate'] = pd.to_datetime(testData['time'], format='%Y-%m-%d %H', utc=False)\n",
    "# testData.index = testData['dtDate']\n",
    "# testData.index = testData.index.tz_localize(tzKst).tz_convert(tzKst)\n",
    "testData['dtDate'] = pd.to_datetime(testData['time'], format='%Y-%m-%d %H', utc=False)\n",
    "testData['dtDateKst'] = testData['dtDate'].dt.tz_localize(tzKst).dt.tz_convert(tzKst)\n",
    "\n",
    "log.info(\n",
    "    \"[CHECK] trainData min : {} / max : {}\".format(trainData['dtDate'].min(), trainData['dtDate'].max()))\n",
    "log.info(\"[CHECK] testData min : {} / max : {}\".format(testData['dtDate'].min(), testData['dtDate'].max()))\n",
    "\n",
    "# plt.plot(trainData['dtDate'], trainData['pv'])\n",
    "# plt.show()\n",
    "#\n",
    "# plt.plot(testData['dtDate'], testData['pv'])\n",
    "# plt.plot(testData['dtDate'], testData['prd'])\n",
    "# plt.plot(testData['dtDate'], testData['prd2'])\n",
    "# plt.show()\n",
    "\n",
    "# ASOS 데이터\n",
    "inpFile = '{}/{}'.format(globalVar['inpPath'], 'TEST/OBS/ASOS_OBS_*.nc')\n",
    "fileList = sorted(glob.glob(inpFile))\n",
    "asosData = xr.open_mfdataset(fileList)\n",
    "asosDataL1 = asosData.sel(lat=posLat, lon=posLon)\n",
    "asosDataL2 = asosDataL1.where(\n",
    "    (asosDataL1['CA_TOT'] >= 0) & (asosDataL1['PA'] >= 940) & (asosDataL1['SS'] > 0), drop=True)\n",
    "asosDataL3 = asosDataL2.to_dataframe()\n",
    "asosDataL3['dtDateKst'] = asosDataL3.index.tz_localize(tzKst).tz_convert(tzKst)\n",
    "\n",
    "# plt.scatter(asosDataL1['time'], asosDataL1['CA_TOT'])\n",
    "# plt.scatter(asosDataL2['time'], asosDataL2['CA_TOT'])\n",
    "# plt.scatter(asosDataL1['time'], asosDataL1['HM'])\n",
    "# plt.scatter(asosDataL1['time'], asosDataL1['PA'])\n",
    "# plt.scatter(asosDataL2['time'], asosDataL2['SI'])\n",
    "# plt.scatter(asosDataL2['time'], asosDataL2['SS'])\n",
    "# plt.scatter(asosDataL1['time'], asosDataL1['TA'])\n",
    "# plt.scatter(asosDataL1['time'], asosDataL1['TD'])\n",
    "# plt.scatter(asosDataL1['time'], asosDataL1['WD'])\n",
    "# plt.scatter(asosDataL1['time'], asosDataL1['WS'])\n",
    "# plt.show()\n",
    "\n",
    "# PM10 데이터\n",
    "inpFile = '{}/{}'.format(globalVar['inpPath'], 'TEST/OBS/PM10_OBS_*.nc')\n",
    "fileList = sorted(glob.glob(inpFile))\n",
    "pmData = xr.open_mfdataset(fileList)\n",
    "pmDataL1 = pmData.sel(lat=posLat, lon=posLon)\n",
    "pmDataL2 = pmDataL1.where(pmDataL1['PM10'] <= 500, drop=True)\n",
    "pmDataL3 = pmDataL2.to_dataframe()\n",
    "pmDataL3['dtDateKst'] = pmDataL3.index.tz_localize(tzKst).tz_convert(tzKst)\n",
    "\n",
    "# plt.scatter(pmDataL1['time'], pmDataL1['PM10'])\n",
    "# plt.scatter(pmDataL2['time'], pmDataL2['PM10'])\n",
    "# plt.show()\n",
    "\n",
    "# GK2A 데이터\n",
    "inpFile = '{}/{}'.format(globalVar['inpPath'], 'TEST/SAT/GK2A_*.nc')\n",
    "fileList = sorted(glob.glob(inpFile))\n",
    "gk2aData = xr.open_mfdataset(fileList)\n",
    "gk2aDataL1 = gk2aData.sel(lat=posLat, lon=posLon)\n",
    "gk2aDataL2 = gk2aDataL1.where(gk2aDataL1['DSR'] > 0, drop=True)\n",
    "\n",
    "gk2aDataL3 = gk2aDataL2.to_dataframe()\n",
    "gk2aDataL3['dtDateKst'] = gk2aDataL3.index.tz_localize(tzUtc).tz_convert(tzKst)\n",
    "\n",
    "# plt.scatter(gk2aDataL1['time'], gk2aDataL1['DSR'])\n",
    "# plt.scatter(gk2aDataL2['time'], gk2aDataL2['DSR'])\n",
    "# plt.scatter(gk2aDataL2['time'], gk2aDataL2['CA'])\n",
    "# plt.scatter(gk2aDataL2['time'], gk2aDataL2['CLD'])\n",
    "# plt.scatter(gk2aDataL2['time'], gk2aDataL2['CF'])\n",
    "# plt.show()\n",
    "\n",
    "# H8\n",
    "inpFile = '{}/{}'.format(globalVar['inpPath'], 'TEST/SAT/H8_*.nc')\n",
    "fileList = sorted(glob.glob(inpFile))\n",
    "h8Data = xr.open_mfdataset(fileList)\n",
    "h8DataL1 = h8Data.sel(lat=posLat, lon=posLon)\n",
    "h8DataL2 = h8DataL1.where(h8DataL1['SWR'] > 0, drop=True)\n",
    "h8DataL3 = h8DataL2.to_dataframe()\n",
    "h8DataL3['dtDateKst'] = h8DataL3.index.tz_localize(tzUtc).tz_convert(tzKst)\n",
    "\n",
    "# plt.scatter(h8DataL1['time'], h8DataL1['SWR'])\n",
    "# plt.scatter(h8DataL2['time'], h8DataL2['SWR'])\n",
    "# plt.show()\n",
    "\n",
    "trainDataL3 = prdData.merge(trainDataL2, how='left', left_on='dtDateKst', right_on='dtDateKst') \\\n",
    "    .merge(asosDataL3, how='left', left_on='dtDateKst', right_on='dtDateKst') \\\n",
    "    .merge(pmDataL3, how='left', left_on='dtDateKst', right_on='dtDateKst') \\\n",
    "    .merge(gk2aDataL3, how='left', left_on='dtDateKst', right_on='dtDateKst') \\\n",
    "    .merge(h8DataL3, how='left', left_on='dtDateKst', right_on='dtDateKst')\n",
    "\n",
    "# covid_data_daily.rename({'Korea, South': 'val'}, axis='columns')\n",
    "trainDataL4 = trainDataL3.rename(\n",
    "    {'dtDate_x': 'dtDate'}, axis='columns'\n",
    ")[['dtDate', 'CA_TOT', 'DSR', 'CLD', 'CF', 'SWR', 'pv']].dropna()\n",
    "\n",
    "# plt.scatter(trainDataL3['dtDate'], trainDataL3['CA_TOT'])\n",
    "# plt.scatter(trainDataL4['dtDate'], trainDataL4['CA_TOT'])\n",
    "# plt.scatter(asosDataL1['time'], asosDataL1['HM'])\n",
    "# plt.scatter(asosDataL1['time'], asosDataL1['PA'])\n",
    "# # plt.scatter(asosDataL1['time'], asosDataL1['SI'])\n",
    "# plt.scatter(asosDataL1['time'], asosDataL1['SS'])\n",
    "# plt.scatter(asosDataL1['time'], asosDataL1['TA'])\n",
    "# plt.scatter(asosDataL1['time'], asosDataL1['TD'])\n",
    "# plt.scatter(asosDataL1['time'], asosDataL1['WD'])\n",
    "# plt.scatter(asosDataL1['time'], asosDataL1['WS'])\n",
    "# plt.show()\n",
    "\n",
    "# from auto_ts import auto_timeseries\n",
    "from plotnine import ggplot\n",
    "from pycaret.regression import setup\n",
    "from pycaret.regression import compare_models\n",
    "from pycaret.regression import *\n",
    "\n",
    "\n",
    "# model = auto_timeseries(score_type='rmse', time_interval='Month', non_seasonal_pdq=None, seasonality=False,\n",
    "#                         seasonal_period=12, model_type=['Prophet'], verbose=2)\n",
    "# model = auto_timeseries(score_type='rmse', time_interval='H', model_type='best')\n",
    "# model.fit(traindata=trainDataL4, ts_column=\"dtDate\", target=\"pv\")\n",
    "# model.get_best_model()\n",
    "# prd22 = model.predict(testdata=trainDataL4)\n",
    "\n",
    "# pyModel = setup(data = dataL2, target = 'Product Amount')\n",
    "# trainDataL5 = trainDataL4[['CA_TOT', 'DSR', 'CLD', 'CF', 'SWR', 'pv']]\n",
    "trainDataL5 = trainDataL4[['SWR', 'pv']]\n",
    "# trainDataL6 = trainDataL5[['CA_TOT', 'DSR', 'CLD', 'CF', 'SWR', 'pv']]\n",
    "# trainDataL5.dtypes\n"
   ],
   "metadata": {
    "collapsed": false,
    "pycharm": {
     "name": "#%%\n"
    }
   }
  },
  {
   "cell_type": "code",
   "source": [
    "import pandas as pd\n",
    "\n",
    "# 옵션 설정\n",
    "# sysOpt = {\n",
    "#     # 시작/종료 시간\n",
    "#     'srtDate': globalVar['srtDate']\n",
    "#     , 'endDate': globalVar['endDate']\n",
    "# }\n",
    "\n",
    "sysOpt = {\n",
    "    # 시작/종료 시간\n",
    "    'srtDate': '2021-10-01'\n",
    "    , 'endDate': '2021-11-01'\n",
    "}\n",
    "\n",
    "# 주소 전라북도 임실군 삼계면 오지리   산 82-1\n",
    "# 발전설비용량 : 996.45\n",
    "# Latitude:  35.545380\n",
    "# Longitude:  127.283937\n",
    "\n",
    "posInfo = {\n",
    "    'lat': 35.545380\n",
    "    , 'lon': 127.283937\n",
    "    , 'size': 996.45\n",
    "    , 'addr': '전라북도 임실군 삼계면 오지리 산 82-1'\n",
    "}\n",
    "\n",
    "posLon = posInfo['lon']\n",
    "posLat = posInfo['lat']\n",
    "\n",
    "globalVar['inpPath'] = 'E:/DATA/OUTPUT'\n",
    "globalVar['outPath'] = 'E:/DATA/OUTPUT'\n",
    "\n",
    "dtSrtDate = pd.to_datetime('2020-09-01', format='%Y-%m-%d')\n",
    "dtEndDate = pd.to_datetime('2021-09-12', format='%Y-%m-%d')\n",
    "dtIncDateList = pd.date_range(start=dtSrtDate, end=dtEndDate, freq=Hour(1))\n",
    "dtDateList = pd.date_range(start=dtSrtDate, end=dtEndDate, freq=Day(1))\n",
    "\n",
    "prdData = pd.DataFrame({\n",
    "    'dtDate': dtIncDateList\n",
    "    , 'dtDateKst': dtIncDateList.tz_localize(tzKst).tz_convert(tzKst)\n",
    "})\n",
    "\n",
    "# *******************************************************\n",
    "# 관측자료 읽기\n",
    "# *******************************************************\n",
    "# inpFilePattern = 'PV/{}/{}/{}/UMKR_l015_unis_*_{}.grb2'.format(dtDateYm, dtDateDay, dtDateHour,\n",
    "#                                                                   dtDateYmdHm)\n",
    "inpFile = '{}/{}'.format(globalVar['inpPath'], 'TEST/PV/DW태양광발전소발전량(9월12_10월29일).xlsx')\n",
    "trainData = pd.read_excel(inpFile, sheet_name='Sheet1')\n",
    "testData = pd.read_excel(inpFile, sheet_name='Sheet2')\n",
    "\n",
    "# trainData min : 2020-09-01 00:00:00 / max : 2021-09-12 00:00:00\n",
    "trainData['dtDate'] = pd.to_datetime(trainData['time'], format='%Y-%m-%d %H', utc=False)\n",
    "trainData['dtDateKst'] = trainData['dtDate'].dt.tz_localize(tzKst).dt.tz_convert(tzKst)\n",
    "# trainData.index = trainData['dtDate']\n",
    "# trainData.dtDate = trainData.dtDate.tz_localize(tzKst).tz_convert(tzKst)\n",
    "# trainData['dtDate'] = pd.to_datetime(trainData['time'], format='%Y-%m-%d %H', utc=False).tz_convert('Asia/Seoul')\n",
    "\n",
    "trainDataL1 = trainData.loc[trainData['dtDate'].between('2020-09-01', '2021-09-12')]\n",
    "trainDataL2 = trainDataL1.loc[trainData['pv'] > 0]\n",
    "\n",
    "# 2021-09-12 00:00:00 / max : 2021-10-29 23:00:00\n",
    "# testData['dtDate'] = pd.to_datetime(testData['time'], format='%Y-%m-%d %H', utc=False)\n",
    "# testData.index = testData['dtDate']\n",
    "# testData.index = testData.index.tz_localize(tzKst).tz_convert(tzKst)\n",
    "testData['dtDate'] = pd.to_datetime(testData['time'], format='%Y-%m-%d %H', utc=False)\n",
    "testData['dtDateKst'] = testData['dtDate'].dt.tz_localize(tzKst).dt.tz_convert(tzKst)\n",
    "\n",
    "log.info(\"[CHECK] trainData min : {} / max : {}\".format(trainData['dtDate'].min(), trainData['dtDate'].max()))\n",
    "log.info(\"[CHECK] testData min : {} / max : {}\".format(testData['dtDate'].min(), testData['dtDate'].max()))\n",
    "\n",
    "# plt.plot(trainData['dtDate'], trainData['pv'])\n",
    "# plt.show()\n",
    "#\n",
    "# plt.plot(testData['dtDate'], testData['pv'])\n",
    "# plt.plot(testData['dtDate'], testData['prd'])\n",
    "# plt.plot(testData['dtDate'], testData['prd2'])\n",
    "# plt.show()\n",
    "# dtIncDateList\n",
    "\n",
    "# ASOS 데이터\n",
    "inpFile = '{}/{}'.format(globalVar['inpPath'], 'TEST/OBS/ASOS_OBS_*.nc')\n",
    "fileList = sorted(glob.glob(inpFile))\n",
    "asosData = xr.open_mfdataset(fileList)\n",
    "asosDataL1 = asosData.where((asosData['CA_TOT'] >= 0) & (asosData['PA'] >= 940) & (asosData['SS'] > 0))\n",
    "asosDataL2 = asosData.interpolate_na()\n",
    "# asosDataL2 = asosData\n",
    "asosDataL3 = asosDataL2.sel(lat=posLat, lon=posLon)\n",
    "asosDataL4 = asosDataL3.to_dataframe()\n",
    "asosDataL4['dtDateKst'] = asosDataL4.index.tz_localize(tzKst).tz_convert(tzKst)\n",
    "\n",
    "# plt.scatter(asosDataL1['time'], asosDataL1['CA_TOT'])\n",
    "# plt.scatter(asosDataL2['time'], asosDataL2['CA_TOT'])\n",
    "# plt.scatter(asosDataL1['time'], asosDataL1['HM'])\n",
    "# plt.scatter(asosDataL1['time'], asosDataL1['PA'])\n",
    "# plt.scatter(asosDataL2['time'], asosDataL2['SI'])\n",
    "# plt.scatter(asosDataL2['time'], asosDataL2['SS'])\n",
    "# plt.scatter(asosDataL1['time'], asosDataL1['TA'])\n",
    "# plt.scatter(asosDataL1['time'], asosDataL1['TD'])\n",
    "# plt.scatter(asosDataL1['time'], asosDataL1['WD'])\n",
    "# plt.scatter(asosDataL1['time'], asosDataL1['WS'])\n",
    "# plt.scatter(asosDataL2['time'], asosDataL2['WS'])\n",
    "# plt.scatter(asosDataL3['time'], asosDataL3['WS'])\n",
    "# plt.show()\n",
    "\n",
    "# PM10 데이터\n",
    "inpFile = '{}/{}'.format(globalVar['inpPath'], 'TEST/OBS/PM10_OBS_*.nc')\n",
    "fileList = sorted(glob.glob(inpFile))\n",
    "pmData = xr.open_mfdataset(fileList)\n",
    "pmDataL1 = pmData.where(pmData['PM10'] <= 500)\n",
    "pmDataL2 = pmDataL1.interpolate_na()\n",
    "# pmDataL2 = pmDataL1\n",
    "pmDataL3 = pmDataL2.sel(lat=posLat, lon=posLon)\n",
    "pmDataL4 = pmDataL3.to_dataframe()\n",
    "pmDataL4['dtDateKst'] = pmDataL4.index.tz_localize(tzKst).tz_convert(tzKst)\n",
    "\n",
    "# plt.scatter(pmDataL2['time'], pmDataL2['PM10'])\n",
    "# plt.scatter(pmDataL2['time'], pmDataL2['PM10'])\n",
    "# plt.scatter(pmDataL3['dtDateKst'], pmDataL3['PM10'])\n",
    "# plt.show()\n",
    "\n",
    "# GK2A 데이터\n",
    "inpFile = '{}/{}'.format(globalVar['inpPath'], 'TEST/SAT/GK2A_*.nc')\n",
    "fileList = sorted(glob.glob(inpFile))\n",
    "gk2aData = xr.open_mfdataset(fileList)\n",
    "gk2aDataL1 = gk2aData.where(gk2aData['DSR'] > 0)\n",
    "gk2aDataL2 = gk2aDataL1.interpolate_na(method = 'linear', fill_value=\"extrapolate\")\n",
    "# gk2aDataL2 = gk2aDataL1\n",
    "gk2aDataL3 = gk2aDataL2.sel(lat=posLat, lon=posLon)\n",
    "gk2aDataL4 = gk2aDataL3.to_dataframe()\n",
    "gk2aDataL4['dtDateKst'] = gk2aDataL4.index.tz_localize(tzUtc).tz_convert(tzKst)\n",
    "\n",
    "\n",
    "# plt.scatter(gk2aDataL1['time'], gk2aDataL1['DSR'])\n",
    "# plt.scatter(gk2aDataL2['time'], gk2aDataL2['DSR'])\n",
    "# plt.scatter(gk2aDataL2['time'], gk2aDataL2['CA'])\n",
    "# plt.scatter(gk2aDataL2['time'], gk2aDataL2['CLD'])\n",
    "# plt.scatter(gk2aDataL2['time'], gk2aDataL2['CF'])\n",
    "# plt.show()\n",
    "\n",
    "# H8\n",
    "inpFile = '{}/{}'.format(globalVar['inpPath'], 'TEST/SAT/H8_*.nc')\n",
    "fileList = sorted(glob.glob(inpFile))\n",
    "h8Data = xr.open_mfdataset(fileList)\n",
    "h8DataL1 = h8Data.where(h8Data['SWR'] > 0)\n",
    "h8DataL2 = h8DataL1.interpolate_na()\n",
    "# h8DataL2 = h8DataL1\n",
    "h8DataL3 = h8DataL2.sel(lat=posLat, lon=posLon)\n",
    "h8DataL4 = h8DataL3.to_dataframe()\n",
    "h8DataL4['dtDateKst'] = h8DataL4.index.tz_localize(tzUtc).tz_convert(tzKst)\n",
    "\n",
    "# plt.scatter(h8DataL1['time'], h8DataL1['SWR'])\n",
    "# plt.scatter(h8DataL2['time'], h8DataL2['SWR'])\n",
    "# plt.show()\n",
    "\n",
    "trainDataL3 = prdData.merge(trainDataL2, how='left', left_on='dtDateKst', right_on='dtDateKst') \\\n",
    "    .merge(asosDataL4, how='left', left_on='dtDateKst', right_on='dtDateKst') \\\n",
    "    .merge(pmDataL4, how='left', left_on='dtDateKst', right_on='dtDateKst') \\\n",
    "    .merge(gk2aDataL4, how='left', left_on='dtDateKst', right_on='dtDateKst') \\\n",
    "    .merge(h8DataL4, how='left', left_on='dtDateKst', right_on='dtDateKst')\n",
    "\n",
    "\n",
    "\n",
    "# covid_data_daily.rename({'Korea, South': 'val'}, axis='columns')\n",
    "trainDataL4 = trainDataL3.rename(\n",
    "    {'dtDate_x': 'dtDate'}, axis='columns'\n",
    "# )[['dtDate', 'CA_TOT', 'HM', 'PA', 'TA', 'TD', 'WD', 'WS', 'PM10', 'DSR', 'CLD', 'CF', 'SWR', 'pv']]\n",
    "# )[['dtDate', 'dtDateKst', 'CA_TOT', 'HM', 'PA', 'TA', 'TD', 'WD', 'WS', 'PM10', 'DSR', 'CF', 'CLD', 'SWR', 'pv']].dropna()\n",
    ")[['dtDate', 'dtDateKst', 'CA_TOT', 'HM', 'PA', 'TA', 'TD', 'WD', 'WS', 'PM10', 'CF', 'CLD', 'SWR', 'pv']]\n",
    "\n",
    "# sDateTime = \"20190701000000\"\n",
    "# dtDateTime = pd.to_datetime(sDateTime, format='%Y%m%d%H%M%S')\n",
    "#\n",
    "# dataL1 = data\n",
    "#\n",
    "\n",
    "trainDataL6 = trainDataL4.reset_index(drop=True)\n",
    "# trainDataL6 = trainDataL4\n",
    "\n",
    "for i in trainDataL6.index:\n",
    "    lat = posLat\n",
    "    lon = posLon\n",
    "    pa = trainDataL6._get_value(i, 'PA')\n",
    "    ta = trainDataL6._get_value(i, 'TA')\n",
    "    dtDateTime = trainDataL6._get_value(i, 'dtDateKst')\n",
    "\n",
    "    solPosInfo = pvlib.solarposition.get_solarposition(dtDateTime, lat, lon, pressure=pa, temperature=ta, method='nrel_numpy')\n",
    "    trainDataL6._set_value(i, 'sza', solPosInfo['zenith'].values)\n",
    "    # trainDataL6._set_value(i, 'vza', solPosInfo['elevation'].values)\n",
    "    trainDataL6._set_value(i, 'aza', solPosInfo['azimuth'].values)\n",
    "    trainDataL6._set_value(i, 'et', solPosInfo['equation_of_time'].values)\n",
    "\n"
   ],
   "metadata": {
    "collapsed": false,
    "pycharm": {
     "name": "#%%\n"
    }
   },
   "execution_count": 6,
   "outputs": [
    {
     "name": "stderr",
     "output_type": "stream",
     "text": [
      "2021-12-31 10:26:31,376 [test | 70 | 1554116650.py] [INFO ] [CHECK] trainData min : 2020-09-01 00:00:00 / max : 2021-10-29 23:00:00\n",
      "2021-12-31 10:26:31,378 [test | 71 | 1554116650.py] [INFO ] [CHECK] testData min : 2021-09-12 00:00:00 / max : 2021-10-29 23:00:00\n"
     ]
    }
   ]
  },
  {
   "cell_type": "code",
   "execution_count": 7,
   "outputs": [
    {
     "data": {
      "text/plain": "                  dtDate                 dtDateKst    CA_TOT         HM  \\\n0    2020-09-01 00:00:00 2020-09-01 00:00:00+09:00  0.009163  88.892297   \n1    2020-09-01 01:00:00 2020-09-01 01:00:00+09:00  5.948927  90.764878   \n2    2020-09-01 02:00:00 2020-09-01 02:00:00+09:00  5.183798  93.322567   \n3    2020-09-01 03:00:00 2020-09-01 03:00:00+09:00  5.341344  87.416693   \n4    2020-09-01 04:00:00 2020-09-01 04:00:00+09:00  5.757849  92.403792   \n...                  ...                       ...       ...        ...   \n9092 2021-09-11 20:00:00 2021-09-11 20:00:00+09:00 -0.017783  92.122505   \n9093 2021-09-11 21:00:00 2021-09-11 21:00:00+09:00 -0.008410  94.438007   \n9094 2021-09-11 22:00:00 2021-09-11 22:00:00+09:00  0.752233  95.914425   \n9095 2021-09-11 23:00:00 2021-09-11 23:00:00+09:00 -0.022608  97.435648   \n9096 2021-09-12 00:00:00 2021-09-12 00:00:00+09:00 -0.001243  99.017217   \n\n              PA         TA         TD         WD        WS       PM10  CF  \\\n0     987.227074  23.486183  21.478494   2.829586  1.139908   5.099294 NaN   \n1     986.960939  23.275037  21.574623   2.340123  1.193194  11.118132 NaN   \n2     986.590191  22.487584  21.231781   1.617675  1.021729  14.217076 NaN   \n3     985.901259  22.513401  20.214509  10.484047  1.400860  14.731632 NaN   \n4     985.555598  21.906141  20.466991   2.912047  0.972121  15.954340 NaN   \n...          ...        ...        ...        ...       ...        ...  ..   \n9092  987.442155  21.613608  20.274305   3.376898  0.585084  35.127111 NaN   \n9093  987.769306  20.932248  20.045222   1.976371  0.703916  25.365862 NaN   \n9094  988.168906  20.527973  19.872287   1.183558  0.589824  30.186221 NaN   \n9095  988.013266  20.416435  19.933298   1.588771  0.582085  28.654345 NaN   \n9096  987.797780  19.650271  19.416619  19.550414  0.754182  26.426542 NaN   \n\n      CLD  SWR  pv         sza         aza        et  \n0     NaN  NaN NaN  135.529429  349.023138 -0.124322  \n1     NaN  NaN NaN  135.618314   10.291824 -0.111087  \n2     NaN  NaN NaN  131.401487   29.979763 -0.097844  \n3     NaN  NaN NaN  123.859580   46.178586 -0.084592  \n4     NaN  NaN NaN  114.160136   59.066757 -0.071331  \n...   ...  ...  ..         ...         ...       ...  \n9092  NaN  NaN NaN  105.933009  287.549597  3.441922  \n9093  NaN  NaN NaN  117.189253  298.171343  3.456582  \n9094  NaN  NaN NaN  127.242328  311.310923  3.471244  \n9095  NaN  NaN NaN  135.168606  328.246481  3.485911  \n9096  NaN  NaN NaN  139.626854  349.433384  3.500581  \n\n[9097 rows x 17 columns]",
      "text/html": "<div>\n<style scoped>\n    .dataframe tbody tr th:only-of-type {\n        vertical-align: middle;\n    }\n\n    .dataframe tbody tr th {\n        vertical-align: top;\n    }\n\n    .dataframe thead th {\n        text-align: right;\n    }\n</style>\n<table border=\"1\" class=\"dataframe\">\n  <thead>\n    <tr style=\"text-align: right;\">\n      <th></th>\n      <th>dtDate</th>\n      <th>dtDateKst</th>\n      <th>CA_TOT</th>\n      <th>HM</th>\n      <th>PA</th>\n      <th>TA</th>\n      <th>TD</th>\n      <th>WD</th>\n      <th>WS</th>\n      <th>PM10</th>\n      <th>CF</th>\n      <th>CLD</th>\n      <th>SWR</th>\n      <th>pv</th>\n      <th>sza</th>\n      <th>aza</th>\n      <th>et</th>\n    </tr>\n  </thead>\n  <tbody>\n    <tr>\n      <th>0</th>\n      <td>2020-09-01 00:00:00</td>\n      <td>2020-09-01 00:00:00+09:00</td>\n      <td>0.009163</td>\n      <td>88.892297</td>\n      <td>987.227074</td>\n      <td>23.486183</td>\n      <td>21.478494</td>\n      <td>2.829586</td>\n      <td>1.139908</td>\n      <td>5.099294</td>\n      <td>NaN</td>\n      <td>NaN</td>\n      <td>NaN</td>\n      <td>NaN</td>\n      <td>135.529429</td>\n      <td>349.023138</td>\n      <td>-0.124322</td>\n    </tr>\n    <tr>\n      <th>1</th>\n      <td>2020-09-01 01:00:00</td>\n      <td>2020-09-01 01:00:00+09:00</td>\n      <td>5.948927</td>\n      <td>90.764878</td>\n      <td>986.960939</td>\n      <td>23.275037</td>\n      <td>21.574623</td>\n      <td>2.340123</td>\n      <td>1.193194</td>\n      <td>11.118132</td>\n      <td>NaN</td>\n      <td>NaN</td>\n      <td>NaN</td>\n      <td>NaN</td>\n      <td>135.618314</td>\n      <td>10.291824</td>\n      <td>-0.111087</td>\n    </tr>\n    <tr>\n      <th>2</th>\n      <td>2020-09-01 02:00:00</td>\n      <td>2020-09-01 02:00:00+09:00</td>\n      <td>5.183798</td>\n      <td>93.322567</td>\n      <td>986.590191</td>\n      <td>22.487584</td>\n      <td>21.231781</td>\n      <td>1.617675</td>\n      <td>1.021729</td>\n      <td>14.217076</td>\n      <td>NaN</td>\n      <td>NaN</td>\n      <td>NaN</td>\n      <td>NaN</td>\n      <td>131.401487</td>\n      <td>29.979763</td>\n      <td>-0.097844</td>\n    </tr>\n    <tr>\n      <th>3</th>\n      <td>2020-09-01 03:00:00</td>\n      <td>2020-09-01 03:00:00+09:00</td>\n      <td>5.341344</td>\n      <td>87.416693</td>\n      <td>985.901259</td>\n      <td>22.513401</td>\n      <td>20.214509</td>\n      <td>10.484047</td>\n      <td>1.400860</td>\n      <td>14.731632</td>\n      <td>NaN</td>\n      <td>NaN</td>\n      <td>NaN</td>\n      <td>NaN</td>\n      <td>123.859580</td>\n      <td>46.178586</td>\n      <td>-0.084592</td>\n    </tr>\n    <tr>\n      <th>4</th>\n      <td>2020-09-01 04:00:00</td>\n      <td>2020-09-01 04:00:00+09:00</td>\n      <td>5.757849</td>\n      <td>92.403792</td>\n      <td>985.555598</td>\n      <td>21.906141</td>\n      <td>20.466991</td>\n      <td>2.912047</td>\n      <td>0.972121</td>\n      <td>15.954340</td>\n      <td>NaN</td>\n      <td>NaN</td>\n      <td>NaN</td>\n      <td>NaN</td>\n      <td>114.160136</td>\n      <td>59.066757</td>\n      <td>-0.071331</td>\n    </tr>\n    <tr>\n      <th>...</th>\n      <td>...</td>\n      <td>...</td>\n      <td>...</td>\n      <td>...</td>\n      <td>...</td>\n      <td>...</td>\n      <td>...</td>\n      <td>...</td>\n      <td>...</td>\n      <td>...</td>\n      <td>...</td>\n      <td>...</td>\n      <td>...</td>\n      <td>...</td>\n      <td>...</td>\n      <td>...</td>\n      <td>...</td>\n    </tr>\n    <tr>\n      <th>9092</th>\n      <td>2021-09-11 20:00:00</td>\n      <td>2021-09-11 20:00:00+09:00</td>\n      <td>-0.017783</td>\n      <td>92.122505</td>\n      <td>987.442155</td>\n      <td>21.613608</td>\n      <td>20.274305</td>\n      <td>3.376898</td>\n      <td>0.585084</td>\n      <td>35.127111</td>\n      <td>NaN</td>\n      <td>NaN</td>\n      <td>NaN</td>\n      <td>NaN</td>\n      <td>105.933009</td>\n      <td>287.549597</td>\n      <td>3.441922</td>\n    </tr>\n    <tr>\n      <th>9093</th>\n      <td>2021-09-11 21:00:00</td>\n      <td>2021-09-11 21:00:00+09:00</td>\n      <td>-0.008410</td>\n      <td>94.438007</td>\n      <td>987.769306</td>\n      <td>20.932248</td>\n      <td>20.045222</td>\n      <td>1.976371</td>\n      <td>0.703916</td>\n      <td>25.365862</td>\n      <td>NaN</td>\n      <td>NaN</td>\n      <td>NaN</td>\n      <td>NaN</td>\n      <td>117.189253</td>\n      <td>298.171343</td>\n      <td>3.456582</td>\n    </tr>\n    <tr>\n      <th>9094</th>\n      <td>2021-09-11 22:00:00</td>\n      <td>2021-09-11 22:00:00+09:00</td>\n      <td>0.752233</td>\n      <td>95.914425</td>\n      <td>988.168906</td>\n      <td>20.527973</td>\n      <td>19.872287</td>\n      <td>1.183558</td>\n      <td>0.589824</td>\n      <td>30.186221</td>\n      <td>NaN</td>\n      <td>NaN</td>\n      <td>NaN</td>\n      <td>NaN</td>\n      <td>127.242328</td>\n      <td>311.310923</td>\n      <td>3.471244</td>\n    </tr>\n    <tr>\n      <th>9095</th>\n      <td>2021-09-11 23:00:00</td>\n      <td>2021-09-11 23:00:00+09:00</td>\n      <td>-0.022608</td>\n      <td>97.435648</td>\n      <td>988.013266</td>\n      <td>20.416435</td>\n      <td>19.933298</td>\n      <td>1.588771</td>\n      <td>0.582085</td>\n      <td>28.654345</td>\n      <td>NaN</td>\n      <td>NaN</td>\n      <td>NaN</td>\n      <td>NaN</td>\n      <td>135.168606</td>\n      <td>328.246481</td>\n      <td>3.485911</td>\n    </tr>\n    <tr>\n      <th>9096</th>\n      <td>2021-09-12 00:00:00</td>\n      <td>2021-09-12 00:00:00+09:00</td>\n      <td>-0.001243</td>\n      <td>99.017217</td>\n      <td>987.797780</td>\n      <td>19.650271</td>\n      <td>19.416619</td>\n      <td>19.550414</td>\n      <td>0.754182</td>\n      <td>26.426542</td>\n      <td>NaN</td>\n      <td>NaN</td>\n      <td>NaN</td>\n      <td>NaN</td>\n      <td>139.626854</td>\n      <td>349.433384</td>\n      <td>3.500581</td>\n    </tr>\n  </tbody>\n</table>\n<p>9097 rows × 17 columns</p>\n</div>"
     },
     "execution_count": 7,
     "metadata": {},
     "output_type": "execute_result"
    }
   ],
   "source": [
    "trainDataL6"
   ],
   "metadata": {
    "collapsed": false,
    "pycharm": {
     "name": "#%%\n"
    }
   }
  },
  {
   "cell_type": "code",
   "execution_count": 30,
   "outputs": [],
   "source": [
    "trainDataL7 = trainDataL6[['CA_TOT', 'HM', 'PA', 'TA', 'TD', 'WD', 'WS', 'PM10', 'SWR', 'sza', 'aza', 'et', 'pv']]\n",
    "# # from pycaret.datasets import get_data\n"
   ],
   "metadata": {
    "collapsed": false,
    "pycharm": {
     "name": "#%%\n"
    }
   }
  },
  {
   "cell_type": "code",
   "execution_count": 31,
   "outputs": [
    {
     "data": {
      "text/plain": "<pandas.io.formats.style.Styler at 0x24b193feb20>",
      "text/html": "<style type=\"text/css\">\n#T_9c071_row2_col0, #T_9c071_row2_col1, #T_9c071_row2_col2, #T_9c071_row2_col3, #T_9c071_row2_col4, #T_9c071_row2_col5 {\n  background: yellow;\n}\n</style>\n<table id=\"T_9c071_\">\n  <thead>\n    <tr>\n      <th class=\"blank level0\" >&nbsp;</th>\n      <th class=\"col_heading level0 col0\" >MAE</th>\n      <th class=\"col_heading level0 col1\" >MSE</th>\n      <th class=\"col_heading level0 col2\" >RMSE</th>\n      <th class=\"col_heading level0 col3\" >R2</th>\n      <th class=\"col_heading level0 col4\" >RMSLE</th>\n      <th class=\"col_heading level0 col5\" >MAPE</th>\n    </tr>\n  </thead>\n  <tbody>\n    <tr>\n      <th id=\"T_9c071_level0_row0\" class=\"row_heading level0 row0\" >0</th>\n      <td id=\"T_9c071_row0_col0\" class=\"data row0 col0\" >39.0946</td>\n      <td id=\"T_9c071_row0_col1\" class=\"data row0 col1\" >4020.3132</td>\n      <td id=\"T_9c071_row0_col2\" class=\"data row0 col2\" >63.4059</td>\n      <td id=\"T_9c071_row0_col3\" class=\"data row0 col3\" >0.9335</td>\n      <td id=\"T_9c071_row0_col4\" class=\"data row0 col4\" >0.5930</td>\n      <td id=\"T_9c071_row0_col5\" class=\"data row0 col5\" >1.7199</td>\n    </tr>\n    <tr>\n      <th id=\"T_9c071_level0_row1\" class=\"row_heading level0 row1\" >1</th>\n      <td id=\"T_9c071_row1_col0\" class=\"data row1 col0\" >40.1558</td>\n      <td id=\"T_9c071_row1_col1\" class=\"data row1 col1\" >4114.8371</td>\n      <td id=\"T_9c071_row1_col2\" class=\"data row1 col2\" >64.1470</td>\n      <td id=\"T_9c071_row1_col3\" class=\"data row1 col3\" >0.9357</td>\n      <td id=\"T_9c071_row1_col4\" class=\"data row1 col4\" >0.6524</td>\n      <td id=\"T_9c071_row1_col5\" class=\"data row1 col5\" >2.4264</td>\n    </tr>\n    <tr>\n      <th id=\"T_9c071_level0_row2\" class=\"row_heading level0 row2\" >Mean</th>\n      <td id=\"T_9c071_row2_col0\" class=\"data row2 col0\" >39.6252</td>\n      <td id=\"T_9c071_row2_col1\" class=\"data row2 col1\" >4067.5752</td>\n      <td id=\"T_9c071_row2_col2\" class=\"data row2 col2\" >63.7765</td>\n      <td id=\"T_9c071_row2_col3\" class=\"data row2 col3\" >0.9346</td>\n      <td id=\"T_9c071_row2_col4\" class=\"data row2 col4\" >0.6227</td>\n      <td id=\"T_9c071_row2_col5\" class=\"data row2 col5\" >2.0731</td>\n    </tr>\n    <tr>\n      <th id=\"T_9c071_level0_row3\" class=\"row_heading level0 row3\" >SD</th>\n      <td id=\"T_9c071_row3_col0\" class=\"data row3 col0\" >0.5306</td>\n      <td id=\"T_9c071_row3_col1\" class=\"data row3 col1\" >47.2619</td>\n      <td id=\"T_9c071_row3_col2\" class=\"data row3 col2\" >0.3705</td>\n      <td id=\"T_9c071_row3_col3\" class=\"data row3 col3\" >0.0011</td>\n      <td id=\"T_9c071_row3_col4\" class=\"data row3 col4\" >0.0297</td>\n      <td id=\"T_9c071_row3_col5\" class=\"data row3 col5\" >0.3533</td>\n    </tr>\n  </tbody>\n</table>\n"
     },
     "metadata": {},
     "output_type": "display_data"
    }
   ],
   "source": [
    "from pycaret.regression import *\n",
    "\n",
    "pyModel = setup(\n",
    "    data=trainDataL6\n",
    "    , target='pv'\n",
    "    , session_id=1\n",
    "    # , html=False, silent=True, verbose=False\n",
    "    , fold_shuffle=True\n",
    "    # , normalize=True\n",
    ")\n",
    "\n",
    "#\n",
    "# from pycaret.datasets import get_data\n",
    "# boston = get_data('boston')\n",
    "# # import regression module\n",
    "# from pycaret.regression import *\n",
    "# # intialize the setup\n",
    "# exp_reg = pycaret.regression.setup(boston, target='medv', fold_shuffle=True)\n",
    "# boston.dtypes\n",
    "\n",
    "# bestModel = compare_models()\n",
    "# bestModel = compare_models(n_select = 1)\n",
    "# bestModel = compare_models(sort = 'RMSE', n_select = 1)\n",
    "\n",
    "# 각 모형에 따른 자동 머신러닝\n",
    "modelList = compare_models(sort='RMSE', n_select=3)\n",
    "\n",
    "# 앙상블 모형\n",
    "blendModel = blend_models(estimator_list=modelList, fold=2)\n",
    "\n",
    "# 앙상블 튜닝\n",
    "tuneModel = tune_model(blendModel, fold=2, choose_better=True)\n",
    "\n",
    "# 학습 모델\n",
    "fnlModel = finalize_model(tuneModel)\n",
    "\n",
    "# pred_holdout = predict_model(final_model)\n",
    "\n",
    "# print(fnlModel)"
   ],
   "metadata": {
    "collapsed": false,
    "pycharm": {
     "name": "#%%\n"
    }
   }
  },
  {
   "cell_type": "code",
   "execution_count": 32,
   "outputs": [
    {
     "data": {
      "text/plain": "<Figure size 576x396 with 1 Axes>",
      "image/png": "[encoded data removed]"
     },
     "metadata": {},
     "output_type": "display_data"
    }
   ],
   "source": [
    "# 회귀 시각화\n",
    "plot_model(fnlModel, plot='error')\n"
   ],
   "metadata": {
    "collapsed": false,
    "pycharm": {
     "name": "#%%\n"
    }
   }
  },
  {
   "cell_type": "code",
   "execution_count": 26,
   "outputs": [],
   "source": [
    "dd = predict_model(fnlModel, data=trainDataL6)"
   ],
   "metadata": {
    "collapsed": false,
    "pycharm": {
     "name": "#%%\n"
    }
   }
  },
  {
   "cell_type": "code",
   "execution_count": 27,
   "outputs": [
    {
     "data": {
      "text/plain": "                  dtDate                 dtDateKst    CA_TOT         HM  \\\n0    2020-09-01 00:00:00 2020-09-01 00:00:00+09:00  0.009163  88.892297   \n1    2020-09-01 01:00:00 2020-09-01 01:00:00+09:00  5.948927  90.764878   \n2    2020-09-01 02:00:00 2020-09-01 02:00:00+09:00  5.183798  93.322567   \n3    2020-09-01 03:00:00 2020-09-01 03:00:00+09:00  5.341344  87.416693   \n4    2020-09-01 04:00:00 2020-09-01 04:00:00+09:00  5.757849  92.403792   \n...                  ...                       ...       ...        ...   \n9092 2021-09-11 20:00:00 2021-09-11 20:00:00+09:00 -0.017783  92.122505   \n9093 2021-09-11 21:00:00 2021-09-11 21:00:00+09:00 -0.008410  94.438007   \n9094 2021-09-11 22:00:00 2021-09-11 22:00:00+09:00  0.752233  95.914425   \n9095 2021-09-11 23:00:00 2021-09-11 23:00:00+09:00 -0.022608  97.435648   \n9096 2021-09-12 00:00:00 2021-09-12 00:00:00+09:00 -0.001243  99.017217   \n\n              PA         TA         TD         WD        WS       PM10  CF  \\\n0     987.227074  23.486183  21.478494   2.829586  1.139908   5.099294 NaN   \n1     986.960939  23.275037  21.574623   2.340123  1.193194  11.118132 NaN   \n2     986.590191  22.487584  21.231781   1.617675  1.021729  14.217076 NaN   \n3     985.901259  22.513401  20.214509  10.484047  1.400860  14.731632 NaN   \n4     985.555598  21.906141  20.466991   2.912047  0.972121  15.954340 NaN   \n...          ...        ...        ...        ...       ...        ...  ..   \n9092  987.442155  21.613608  20.274305   3.376898  0.585084  35.127111 NaN   \n9093  987.769306  20.932248  20.045222   1.976371  0.703916  25.365862 NaN   \n9094  988.168906  20.527973  19.872287   1.183558  0.589824  30.186221 NaN   \n9095  988.013266  20.416435  19.933298   1.588771  0.582085  28.654345 NaN   \n9096  987.797780  19.650271  19.416619  19.550414  0.754182  26.426542 NaN   \n\n      CLD  SWR  pv         sza         aza        et     Label  \n0     NaN  NaN NaN  135.529429  349.023138 -0.124322 -4.650304  \n1     NaN  NaN NaN  135.618314   10.291824 -0.111087  2.739254  \n2     NaN  NaN NaN  131.401487   29.979763 -0.097844  0.071672  \n3     NaN  NaN NaN  123.859580   46.178586 -0.084592  1.441032  \n4     NaN  NaN NaN  114.160136   59.066757 -0.071331  1.263397  \n...   ...  ...  ..         ...         ...       ...       ...  \n9092  NaN  NaN NaN  105.933009  287.549597  3.441922 -8.215730  \n9093  NaN  NaN NaN  117.189253  298.171343  3.456582 -5.227140  \n9094  NaN  NaN NaN  127.242328  311.310923  3.471244 -6.692388  \n9095  NaN  NaN NaN  135.168606  328.246481  3.485911 -7.010939  \n9096  NaN  NaN NaN  139.626854  349.433384  3.500581 -7.310856  \n\n[9097 rows x 18 columns]",
      "text/html": "<div>\n<style scoped>\n    .dataframe tbody tr th:only-of-type {\n        vertical-align: middle;\n    }\n\n    .dataframe tbody tr th {\n        vertical-align: top;\n    }\n\n    .dataframe thead th {\n        text-align: right;\n    }\n</style>\n<table border=\"1\" class=\"dataframe\">\n  <thead>\n    <tr style=\"text-align: right;\">\n      <th></th>\n      <th>dtDate</th>\n      <th>dtDateKst</th>\n      <th>CA_TOT</th>\n      <th>HM</th>\n      <th>PA</th>\n      <th>TA</th>\n      <th>TD</th>\n      <th>WD</th>\n      <th>WS</th>\n      <th>PM10</th>\n      <th>CF</th>\n      <th>CLD</th>\n      <th>SWR</th>\n      <th>pv</th>\n      <th>sza</th>\n      <th>aza</th>\n      <th>et</th>\n      <th>Label</th>\n    </tr>\n  </thead>\n  <tbody>\n    <tr>\n      <th>0</th>\n      <td>2020-09-01 00:00:00</td>\n      <td>2020-09-01 00:00:00+09:00</td>\n      <td>0.009163</td>\n      <td>88.892297</td>\n      <td>987.227074</td>\n      <td>23.486183</td>\n      <td>21.478494</td>\n      <td>2.829586</td>\n      <td>1.139908</td>\n      <td>5.099294</td>\n      <td>NaN</td>\n      <td>NaN</td>\n      <td>NaN</td>\n      <td>NaN</td>\n      <td>135.529429</td>\n      <td>349.023138</td>\n      <td>-0.124322</td>\n      <td>-4.650304</td>\n    </tr>\n    <tr>\n      <th>1</th>\n      <td>2020-09-01 01:00:00</td>\n      <td>2020-09-01 01:00:00+09:00</td>\n      <td>5.948927</td>\n      <td>90.764878</td>\n      <td>986.960939</td>\n      <td>23.275037</td>\n      <td>21.574623</td>\n      <td>2.340123</td>\n      <td>1.193194</td>\n      <td>11.118132</td>\n      <td>NaN</td>\n      <td>NaN</td>\n      <td>NaN</td>\n      <td>NaN</td>\n      <td>135.618314</td>\n      <td>10.291824</td>\n      <td>-0.111087</td>\n      <td>2.739254</td>\n    </tr>\n    <tr>\n      <th>2</th>\n      <td>2020-09-01 02:00:00</td>\n      <td>2020-09-01 02:00:00+09:00</td>\n      <td>5.183798</td>\n      <td>93.322567</td>\n      <td>986.590191</td>\n      <td>22.487584</td>\n      <td>21.231781</td>\n      <td>1.617675</td>\n      <td>1.021729</td>\n      <td>14.217076</td>\n      <td>NaN</td>\n      <td>NaN</td>\n      <td>NaN</td>\n      <td>NaN</td>\n      <td>131.401487</td>\n      <td>29.979763</td>\n      <td>-0.097844</td>\n      <td>0.071672</td>\n    </tr>\n    <tr>\n      <th>3</th>\n      <td>2020-09-01 03:00:00</td>\n      <td>2020-09-01 03:00:00+09:00</td>\n      <td>5.341344</td>\n      <td>87.416693</td>\n      <td>985.901259</td>\n      <td>22.513401</td>\n      <td>20.214509</td>\n      <td>10.484047</td>\n      <td>1.400860</td>\n      <td>14.731632</td>\n      <td>NaN</td>\n      <td>NaN</td>\n      <td>NaN</td>\n      <td>NaN</td>\n      <td>123.859580</td>\n      <td>46.178586</td>\n      <td>-0.084592</td>\n      <td>1.441032</td>\n    </tr>\n    <tr>\n      <th>4</th>\n      <td>2020-09-01 04:00:00</td>\n      <td>2020-09-01 04:00:00+09:00</td>\n      <td>5.757849</td>\n      <td>92.403792</td>\n      <td>985.555598</td>\n      <td>21.906141</td>\n      <td>20.466991</td>\n      <td>2.912047</td>\n      <td>0.972121</td>\n      <td>15.954340</td>\n      <td>NaN</td>\n      <td>NaN</td>\n      <td>NaN</td>\n      <td>NaN</td>\n      <td>114.160136</td>\n      <td>59.066757</td>\n      <td>-0.071331</td>\n      <td>1.263397</td>\n    </tr>\n    <tr>\n      <th>...</th>\n      <td>...</td>\n      <td>...</td>\n      <td>...</td>\n      <td>...</td>\n      <td>...</td>\n      <td>...</td>\n      <td>...</td>\n      <td>...</td>\n      <td>...</td>\n      <td>...</td>\n      <td>...</td>\n      <td>...</td>\n      <td>...</td>\n      <td>...</td>\n      <td>...</td>\n      <td>...</td>\n      <td>...</td>\n      <td>...</td>\n    </tr>\n    <tr>\n      <th>9092</th>\n      <td>2021-09-11 20:00:00</td>\n      <td>2021-09-11 20:00:00+09:00</td>\n      <td>-0.017783</td>\n      <td>92.122505</td>\n      <td>987.442155</td>\n      <td>21.613608</td>\n      <td>20.274305</td>\n      <td>3.376898</td>\n      <td>0.585084</td>\n      <td>35.127111</td>\n      <td>NaN</td>\n      <td>NaN</td>\n      <td>NaN</td>\n      <td>NaN</td>\n      <td>105.933009</td>\n      <td>287.549597</td>\n      <td>3.441922</td>\n      <td>-8.215730</td>\n    </tr>\n    <tr>\n      <th>9093</th>\n      <td>2021-09-11 21:00:00</td>\n      <td>2021-09-11 21:00:00+09:00</td>\n      <td>-0.008410</td>\n      <td>94.438007</td>\n      <td>987.769306</td>\n      <td>20.932248</td>\n      <td>20.045222</td>\n      <td>1.976371</td>\n      <td>0.703916</td>\n      <td>25.365862</td>\n      <td>NaN</td>\n      <td>NaN</td>\n      <td>NaN</td>\n      <td>NaN</td>\n      <td>117.189253</td>\n      <td>298.171343</td>\n      <td>3.456582</td>\n      <td>-5.227140</td>\n    </tr>\n    <tr>\n      <th>9094</th>\n      <td>2021-09-11 22:00:00</td>\n      <td>2021-09-11 22:00:00+09:00</td>\n      <td>0.752233</td>\n      <td>95.914425</td>\n      <td>988.168906</td>\n      <td>20.527973</td>\n      <td>19.872287</td>\n      <td>1.183558</td>\n      <td>0.589824</td>\n      <td>30.186221</td>\n      <td>NaN</td>\n      <td>NaN</td>\n      <td>NaN</td>\n      <td>NaN</td>\n      <td>127.242328</td>\n      <td>311.310923</td>\n      <td>3.471244</td>\n      <td>-6.692388</td>\n    </tr>\n    <tr>\n      <th>9095</th>\n      <td>2021-09-11 23:00:00</td>\n      <td>2021-09-11 23:00:00+09:00</td>\n      <td>-0.022608</td>\n      <td>97.435648</td>\n      <td>988.013266</td>\n      <td>20.416435</td>\n      <td>19.933298</td>\n      <td>1.588771</td>\n      <td>0.582085</td>\n      <td>28.654345</td>\n      <td>NaN</td>\n      <td>NaN</td>\n      <td>NaN</td>\n      <td>NaN</td>\n      <td>135.168606</td>\n      <td>328.246481</td>\n      <td>3.485911</td>\n      <td>-7.010939</td>\n    </tr>\n    <tr>\n      <th>9096</th>\n      <td>2021-09-12 00:00:00</td>\n      <td>2021-09-12 00:00:00+09:00</td>\n      <td>-0.001243</td>\n      <td>99.017217</td>\n      <td>987.797780</td>\n      <td>19.650271</td>\n      <td>19.416619</td>\n      <td>19.550414</td>\n      <td>0.754182</td>\n      <td>26.426542</td>\n      <td>NaN</td>\n      <td>NaN</td>\n      <td>NaN</td>\n      <td>NaN</td>\n      <td>139.626854</td>\n      <td>349.433384</td>\n      <td>3.500581</td>\n      <td>-7.310856</td>\n    </tr>\n  </tbody>\n</table>\n<p>9097 rows × 18 columns</p>\n</div>"
     },
     "execution_count": 27,
     "metadata": {},
     "output_type": "execute_result"
    }
   ],
   "source": [
    "dd"
   ],
   "metadata": {
    "collapsed": false,
    "pycharm": {
     "name": "#%%\n"
    }
   }
  },
  {
   "cell_type": "code",
   "execution_count": 29,
   "outputs": [
    {
     "data": {
      "text/plain": "<Figure size 576x396 with 1 Axes>",
      "image/png": "[encoded data removed]"
     },
     "metadata": {},
     "output_type": "display_data"
    }
   ],
   "source": [
    "plt.plot(dd['dtDate'], dd['pv'])\n",
    "plt.plot(dd['dtDate'], dd['Label'])\n",
    "plt.show()"
   ],
   "metadata": {
    "collapsed": false,
    "pycharm": {
     "name": "#%%\n"
    }
   }
  },
  {
   "cell_type": "code",
   "execution_count": 22,
   "outputs": [
    {
     "data": {
      "text/plain": "<Figure size 576x396 with 1 Axes>",
      "image/png": "[encoded data removed]"
     },
     "metadata": {},
     "output_type": "display_data"
    }
   ],
   "source": [
    "plt.scatter(dd['pv'], dd['Label'])\n",
    "# plt.plot(test['dtDate'], test['pv'])\n",
    "# plt.plot(test['dtDate'], test['pv'])\n",
    "plt.show()\n"
   ],
   "metadata": {
    "collapsed": false,
    "pycharm": {
     "name": "#%%\n"
    }
   }
  },
  {
   "cell_type": "code",
   "execution_count": 1,
   "outputs": [
    {
     "data": {
      "text/plain": "        Date  Total\n0   7/8/2021   3773\n1   7/9/2021   3172\n2  7/10/2021   2079\n3  7/11/2021   2725\n4  7/12/2021   4542",
      "text/html": "<div>\n<style scoped>\n    .dataframe tbody tr th:only-of-type {\n        vertical-align: middle;\n    }\n\n    .dataframe tbody tr th {\n        vertical-align: top;\n    }\n\n    .dataframe thead th {\n        text-align: right;\n    }\n</style>\n<table border=\"1\" class=\"dataframe\">\n  <thead>\n    <tr style=\"text-align: right;\">\n      <th></th>\n      <th>Date</th>\n      <th>Total</th>\n    </tr>\n  </thead>\n  <tbody>\n    <tr>\n      <th>0</th>\n      <td>7/8/2021</td>\n      <td>3773</td>\n    </tr>\n    <tr>\n      <th>1</th>\n      <td>7/9/2021</td>\n      <td>3172</td>\n    </tr>\n    <tr>\n      <th>2</th>\n      <td>7/10/2021</td>\n      <td>2079</td>\n    </tr>\n    <tr>\n      <th>3</th>\n      <td>7/11/2021</td>\n      <td>2725</td>\n    </tr>\n    <tr>\n      <th>4</th>\n      <td>7/12/2021</td>\n      <td>4542</td>\n    </tr>\n  </tbody>\n</table>\n</div>"
     },
     "metadata": {},
     "output_type": "display_data"
    },
    {
     "data": {
      "text/plain": "            Total\nDate             \n2021-07-08   3773\n2021-07-09   3172\n2021-07-10   2079\n2021-07-11   2725\n2021-07-12   4542",
      "text/html": "<div>\n<style scoped>\n    .dataframe tbody tr th:only-of-type {\n        vertical-align: middle;\n    }\n\n    .dataframe tbody tr th {\n        vertical-align: top;\n    }\n\n    .dataframe thead th {\n        text-align: right;\n    }\n</style>\n<table border=\"1\" class=\"dataframe\">\n  <thead>\n    <tr style=\"text-align: right;\">\n      <th></th>\n      <th>Total</th>\n    </tr>\n    <tr>\n      <th>Date</th>\n      <th></th>\n    </tr>\n  </thead>\n  <tbody>\n    <tr>\n      <th>2021-07-08</th>\n      <td>3773</td>\n    </tr>\n    <tr>\n      <th>2021-07-09</th>\n      <td>3172</td>\n    </tr>\n    <tr>\n      <th>2021-07-10</th>\n      <td>2079</td>\n    </tr>\n    <tr>\n      <th>2021-07-11</th>\n      <td>2725</td>\n    </tr>\n    <tr>\n      <th>2021-07-12</th>\n      <td>4542</td>\n    </tr>\n  </tbody>\n</table>\n</div>"
     },
     "execution_count": 1,
     "metadata": {},
     "output_type": "execute_result"
    }
   ],
   "source": [
    "\n",
    "import pandas as pd\n",
    "from pycaret.datasets import get_data\n",
    "data = get_data('pycaret_downloads')\n",
    "data['Date'] = pd.to_datetime(data['Date'])\n",
    "data = data.groupby('Date').sum()\n",
    "data = data.asfreq('D')\n",
    "data.head()"
   ],
   "metadata": {
    "collapsed": false,
    "pycharm": {
     "name": "#%%\n"
    }
   }
  },
  {
   "cell_type": "code",
   "execution_count": 2,
   "outputs": [
    {
     "data": {
      "text/plain": "<AxesSubplot:xlabel='Date'>"
     },
     "execution_count": 2,
     "metadata": {},
     "output_type": "execute_result"
    },
    {
     "data": {
      "text/plain": "<Figure size 432x288 with 1 Axes>",
      "image/png": "[encoded data removed]"
     },
     "metadata": {
      "needs_background": "light"
     },
     "output_type": "display_data"
    }
   ],
   "source": [
    "# plot the data\n",
    "data.plot()"
   ],
   "metadata": {
    "collapsed": false,
    "pycharm": {
     "name": "#%%\n"
    }
   }
  },
  {
   "cell_type": "code",
   "execution_count": 23,
   "outputs": [
    {
     "data": {
      "text/plain": "<pandas.io.formats.style.Styler at 0x17288eca070>",
      "text/html": "<style type=\"text/css\">\n#T_7b4f2_row9_col1, #T_7b4f2_row11_col1, #T_7b4f2_row13_col1, #T_7b4f2_row14_col1 {\n  background-color: lightgreen;\n}\n</style>\n<table id=\"T_7b4f2_\">\n  <thead>\n    <tr>\n      <th class=\"blank level0\" >&nbsp;</th>\n      <th class=\"col_heading level0 col0\" >Description</th>\n      <th class=\"col_heading level0 col1\" >Value</th>\n    </tr>\n  </thead>\n  <tbody>\n    <tr>\n      <th id=\"T_7b4f2_level0_row0\" class=\"row_heading level0 row0\" >0</th>\n      <td id=\"T_7b4f2_row0_col0\" class=\"data row0 col0\" >session_id</td>\n      <td id=\"T_7b4f2_row0_col1\" class=\"data row0 col1\" >123</td>\n    </tr>\n    <tr>\n      <th id=\"T_7b4f2_level0_row1\" class=\"row_heading level0 row1\" >1</th>\n      <td id=\"T_7b4f2_row1_col0\" class=\"data row1 col0\" >Original Data</td>\n      <td id=\"T_7b4f2_row1_col1\" class=\"data row1 col1\" >(90, 1)</td>\n    </tr>\n    <tr>\n      <th id=\"T_7b4f2_level0_row2\" class=\"row_heading level0 row2\" >2</th>\n      <td id=\"T_7b4f2_row2_col0\" class=\"data row2 col0\" >Missing Values</td>\n      <td id=\"T_7b4f2_row2_col1\" class=\"data row2 col1\" >False</td>\n    </tr>\n    <tr>\n      <th id=\"T_7b4f2_level0_row3\" class=\"row_heading level0 row3\" >3</th>\n      <td id=\"T_7b4f2_row3_col0\" class=\"data row3 col0\" >Transformed Train Set</td>\n      <td id=\"T_7b4f2_row3_col1\" class=\"data row3 col1\" >(83,)</td>\n    </tr>\n    <tr>\n      <th id=\"T_7b4f2_level0_row4\" class=\"row_heading level0 row4\" >4</th>\n      <td id=\"T_7b4f2_row4_col0\" class=\"data row4 col0\" >Transformed Test Set</td>\n      <td id=\"T_7b4f2_row4_col1\" class=\"data row4 col1\" >(7,)</td>\n    </tr>\n    <tr>\n      <th id=\"T_7b4f2_level0_row5\" class=\"row_heading level0 row5\" >5</th>\n      <td id=\"T_7b4f2_row5_col0\" class=\"data row5 col0\" >Fold Generator</td>\n      <td id=\"T_7b4f2_row5_col1\" class=\"data row5 col1\" >ExpandingWindowSplitter</td>\n    </tr>\n    <tr>\n      <th id=\"T_7b4f2_level0_row6\" class=\"row_heading level0 row6\" >6</th>\n      <td id=\"T_7b4f2_row6_col0\" class=\"data row6 col0\" >Fold Number</td>\n      <td id=\"T_7b4f2_row6_col1\" class=\"data row6 col1\" >3</td>\n    </tr>\n    <tr>\n      <th id=\"T_7b4f2_level0_row7\" class=\"row_heading level0 row7\" >7</th>\n      <td id=\"T_7b4f2_row7_col0\" class=\"data row7 col0\" >Enforce Prediction Interval</td>\n      <td id=\"T_7b4f2_row7_col1\" class=\"data row7 col1\" >False</td>\n    </tr>\n    <tr>\n      <th id=\"T_7b4f2_level0_row8\" class=\"row_heading level0 row8\" >8</th>\n      <td id=\"T_7b4f2_row8_col0\" class=\"data row8 col0\" >Seasonal Period Tested</td>\n      <td id=\"T_7b4f2_row8_col1\" class=\"data row8 col1\" >7</td>\n    </tr>\n    <tr>\n      <th id=\"T_7b4f2_level0_row9\" class=\"row_heading level0 row9\" >9</th>\n      <td id=\"T_7b4f2_row9_col0\" class=\"data row9 col0\" >Seasonality Detected</td>\n      <td id=\"T_7b4f2_row9_col1\" class=\"data row9 col1\" >True</td>\n    </tr>\n    <tr>\n      <th id=\"T_7b4f2_level0_row10\" class=\"row_heading level0 row10\" >10</th>\n      <td id=\"T_7b4f2_row10_col0\" class=\"data row10 col0\" >Seasonality Used in Models</td>\n      <td id=\"T_7b4f2_row10_col1\" class=\"data row10 col1\" >7</td>\n    </tr>\n    <tr>\n      <th id=\"T_7b4f2_level0_row11\" class=\"row_heading level0 row11\" >11</th>\n      <td id=\"T_7b4f2_row11_col0\" class=\"data row11 col0\" >Target Strictly Positive</td>\n      <td id=\"T_7b4f2_row11_col1\" class=\"data row11 col1\" >True</td>\n    </tr>\n    <tr>\n      <th id=\"T_7b4f2_level0_row12\" class=\"row_heading level0 row12\" >12</th>\n      <td id=\"T_7b4f2_row12_col0\" class=\"data row12 col0\" >Target White Noise</td>\n      <td id=\"T_7b4f2_row12_col1\" class=\"data row12 col1\" >No</td>\n    </tr>\n    <tr>\n      <th id=\"T_7b4f2_level0_row13\" class=\"row_heading level0 row13\" >13</th>\n      <td id=\"T_7b4f2_row13_col0\" class=\"data row13 col0\" >Recommended d</td>\n      <td id=\"T_7b4f2_row13_col1\" class=\"data row13 col1\" >1</td>\n    </tr>\n    <tr>\n      <th id=\"T_7b4f2_level0_row14\" class=\"row_heading level0 row14\" >14</th>\n      <td id=\"T_7b4f2_row14_col0\" class=\"data row14 col0\" >Recommended Seasonal D</td>\n      <td id=\"T_7b4f2_row14_col1\" class=\"data row14 col1\" >1</td>\n    </tr>\n    <tr>\n      <th id=\"T_7b4f2_level0_row15\" class=\"row_heading level0 row15\" >15</th>\n      <td id=\"T_7b4f2_row15_col0\" class=\"data row15 col0\" >CPU Jobs</td>\n      <td id=\"T_7b4f2_row15_col1\" class=\"data row15 col1\" >-1</td>\n    </tr>\n    <tr>\n      <th id=\"T_7b4f2_level0_row16\" class=\"row_heading level0 row16\" >16</th>\n      <td id=\"T_7b4f2_row16_col0\" class=\"data row16 col0\" >Use GPU</td>\n      <td id=\"T_7b4f2_row16_col1\" class=\"data row16 col1\" >False</td>\n    </tr>\n    <tr>\n      <th id=\"T_7b4f2_level0_row17\" class=\"row_heading level0 row17\" >17</th>\n      <td id=\"T_7b4f2_row17_col0\" class=\"data row17 col0\" >Log Experiment</td>\n      <td id=\"T_7b4f2_row17_col1\" class=\"data row17 col1\" >False</td>\n    </tr>\n    <tr>\n      <th id=\"T_7b4f2_level0_row18\" class=\"row_heading level0 row18\" >18</th>\n      <td id=\"T_7b4f2_row18_col0\" class=\"data row18 col0\" >Experiment Name</td>\n      <td id=\"T_7b4f2_row18_col1\" class=\"data row18 col1\" >ts-default-name</td>\n    </tr>\n    <tr>\n      <th id=\"T_7b4f2_level0_row19\" class=\"row_heading level0 row19\" >19</th>\n      <td id=\"T_7b4f2_row19_col0\" class=\"data row19 col0\" >USI</td>\n      <td id=\"T_7b4f2_row19_col1\" class=\"data row19 col1\" >ed81</td>\n    </tr>\n    <tr>\n      <th id=\"T_7b4f2_level0_row20\" class=\"row_heading level0 row20\" >20</th>\n      <td id=\"T_7b4f2_row20_col0\" class=\"data row20 col0\" >Imputation Type</td>\n      <td id=\"T_7b4f2_row20_col1\" class=\"data row20 col1\" >simple</td>\n    </tr>\n  </tbody>\n</table>\n"
     },
     "metadata": {},
     "output_type": "display_data"
    },
    {
     "data": {
      "text/plain": "<pycaret.internal.pycaret_experiment.time_series_experiment.TimeSeriesExperiment at 0x17288e0b1c0>"
     },
     "execution_count": 23,
     "metadata": {},
     "output_type": "execute_result"
    }
   ],
   "source": [
    "# with functional API\n",
    "from pycaret.time_series import *\n",
    "setup(data, fh = 7, fold = 3, session_id = 123)\n",
    "# with new object-oriented API\n",
    "from pycaret.internal.pycaret_experiment import TimeSeriesExperiment\n",
    "exp = TimeSeriesExperiment()\n",
    "exp.setup(data, fh = 7, fold = 3, session_id = 123)\n"
   ],
   "metadata": {
    "collapsed": false,
    "pycharm": {
     "name": "#%%\n"
    }
   }
  }
 ],
 "metadata": {
  "interpreter": {
   "hash": "20095610f18a3268815da2e700e8452467ae104b71ca0ca74a40afa76fc500a6"
  },
  "kernelspec": {
   "name": "pycharm-22d9f6ad",
   "language": "python",
   "display_name": "PyCharm (PyCharm)"
  },
  "language_info": {
   "name": "python",
   "version": ""
  },
  "orig_nbformat": 4
 },
 "nbformat": 4,
 "nbformat_minor": 2
}