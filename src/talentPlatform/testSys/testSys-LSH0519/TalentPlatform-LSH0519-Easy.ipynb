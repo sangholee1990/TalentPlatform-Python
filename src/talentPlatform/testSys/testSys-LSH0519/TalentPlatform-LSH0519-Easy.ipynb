{
 "nbformat": 4,
 "nbformat_minor": 0,
 "metadata": {
  "colab": {
   "provenance": [],
   "authorship_tag": "ABX9TyOg1unpQlRndPsR1QTiwbxG"
  },
  "kernelspec": {
   "name": "python3",
   "display_name": "Python 3 (ipykernel)",
   "language": "python"
  },
  "language_info": {
   "name": "python"
  }
 },
 "cells": [
  {
   "cell_type": "code",
   "metadata": {
    "colab": {
     "base_uri": "https://localhost:8080/"
    },
    "id": "VXkLZjbiVfci",
    "executionInfo": {
     "status": "ok",
     "timestamp": 1702037606722,
     "user_tz": -540,
     "elapsed": 597,
     "user": {
      "displayName": "해솔Haesol",
      "userId": "10889875267218328279"
     }
    },
    "outputId": "6825951a-9e23-4464-b4f3-08d7a12c6b57",
    "ExecuteTime": {
     "end_time": "2024-04-19T00:00:36.633466Z",
     "start_time": "2024-04-19T00:00:36.373692Z"
    }
   },
   "source": [
    "# 라이브러리 읽기\n",
    "import pandas as pd\n",
    "from datetime import datetime\n",
    "\n",
    "# 파일 읽기\n",
    "# data = pd.read_csv('./서울시 코로나19 확진자 발생동향.csv', encoding='EUC-KR')\n",
    "data = pd.read_csv('./LSH0519/서울시 코로나19 확진자 발생동향.csv', encoding='EUC-KR')\n",
    "\n",
    "# 컬럼 정보\n",
    "data.columns\n",
    "\n",
    "# 특정 컬럼 (서울시 기준일) 공백 제거\n",
    "data['서울시 기준일'] = data['서울시 기준일'].str.replace(' ', '', regex=True)\n",
    "\n",
    "# 특정 컬럼 (서울시 기준일)에서 문자열 길이를 통해 날짜형 변환\n",
    "data['dtYmdH'] = data['서울시 기준일'].apply(lambda x: pd.to_datetime(x, format='%Y.%m.%d.%H') if len(x) == 13 else pd.to_datetime(x, format='%y.%m.%d.%H'))\n",
    "\n",
    "# 날짜형에서 연월일 변환\n",
    "data['dtYmd'] = data['dtYmdH'].dt.strftime('%Y%m%d')\n",
    "\n",
    "# 날짜형에서 연월 변환\n",
    "data['dtYm'] = data['dtYmdH'].dt.strftime('%Y%m')\n",
    "\n",
    "# 월별에 따른 확진자 및 사망자 합계\n",
    "dataL1 = data.groupby(data['dtYm'])[['전국 추가 확진', '전국 당일 사망자']].sum().reset_index(drop=False)\n",
    "print(f'[CHECK] dataL1 : {dataL1}')"
   ],
   "outputs": [
    {
     "name": "stdout",
     "output_type": "stream",
     "text": [
      "[CHECK] dataL1 :       dtYm   전국 추가 확진  전국 당일 사망자\n",
      "0   202002        0.0        0.0\n",
      "1   202003        0.0        0.0\n",
      "2   202004       82.0        0.0\n",
      "3   202005      709.0        0.0\n",
      "4   202006     1335.0        0.0\n",
      "5   202007     1530.0        0.0\n",
      "6   202008     5642.0        0.0\n",
      "7   202009     3865.0        0.0\n",
      "8   202010     2713.0        0.0\n",
      "9   202011     7769.0        0.0\n",
      "10  202012    26554.0        0.0\n",
      "11  202101    17500.0        0.0\n",
      "12  202102    11493.0        0.0\n",
      "13  202103    13430.0        0.0\n",
      "14  202104    18938.0        0.0\n",
      "15  202105    18343.0        0.0\n",
      "16  202106    16626.0        0.0\n",
      "17  202107    41401.0        0.0\n",
      "18  202108    53121.0        0.0\n",
      "19  202109    59899.0        0.0\n",
      "20  202110    53449.0        0.0\n",
      "21  202111    82566.0        0.0\n",
      "22  202112   183680.0        0.0\n",
      "23  202201   215009.0        0.0\n",
      "24  202202  2288947.0        0.0\n",
      "25  202203  9962387.0     5343.0\n",
      "26  202204  4143305.0     6564.0\n",
      "27  202205   860022.0     1382.0\n",
      "28  202206   256037.0      371.0\n",
      "29  202207  1417511.0      500.0\n",
      "30  202208  3472043.0     1717.0\n",
      "31  202209  1523764.0     1642.0\n",
      "32  202210   789036.0      771.0\n",
      "33  202211  1541960.0     1332.0\n",
      "34  202212  1961255.0     1650.0\n",
      "35  202301  1110809.0     1293.0\n",
      "36  202302   338397.0      538.0\n",
      "37  202303   299294.0      283.0\n",
      "38  202304   354103.0      215.0\n",
      "39  202305   528768.0      305.0\n"
     ]
    }
   ],
   "execution_count": 2
  },
  {
   "cell_type": "code",
   "source": [
    "# ==========================================================================\n",
    "# 확진자\n",
    "# ==========================================================================\n",
    "# 컬럼 선택\n",
    "colInfo = '전국 추가 확진'\n",
    "\n",
    "# 월간 최대 확진자\n",
    "maxMonthInfo = dataL1.loc[dataL1[colInfo].idxmax()][['dtYm', colInfo]]\n",
    "print(f'[CHECK] maxMonthInfo : {maxMonthInfo}')\n",
    "\n",
    "# 일간 최대 확진자\n",
    "dataL2 = data[data['dtYm'] == maxMonthInfo['dtYm']]\n",
    "maxDayInfo = dataL2.loc[dataL2[colInfo].idxmax()][['dtYmd', colInfo]]\n",
    "print(f'[CHECK] maxDayInfo : {maxDayInfo}')"
   ],
   "metadata": {
    "id": "A2elT1SqV-wz",
    "colab": {
     "base_uri": "https://localhost:8080/"
    },
    "executionInfo": {
     "status": "ok",
     "timestamp": 1702037609114,
     "user_tz": -540,
     "elapsed": 7,
     "user": {
      "displayName": "해솔Haesol",
      "userId": "10889875267218328279"
     }
    },
    "outputId": "073e1499-7eb2-4b59-80cc-732830c20def"
   },
   "execution_count": 4,
   "outputs": [
    {
     "output_type": "stream",
     "name": "stdout",
     "text": [
      "[CHECK] maxMonthInfo : dtYm           202203\n",
      "전국 추가 확진    9962387.0\n",
      "Name: 25, dtype: object\n",
      "[CHECK] maxDayInfo : dtYmd       20220317\n",
      "전국 추가 확진    621266.0\n",
      "Name: 440, dtype: object\n"
     ]
    }
   ]
  },
  {
   "cell_type": "code",
   "source": [
    "# ==========================================================================\n",
    "# 사망자\n",
    "# ==========================================================================\n",
    "# 컬럼 선택\n",
    "colInfo = '전국 당일 사망자'\n",
    "\n",
    "# 월간 최대 사망자\n",
    "maxMonthInfo = dataL1.loc[dataL1[colInfo].idxmax()][['dtYm', colInfo]]\n",
    "print(f'[CHECK] maxMonthInfo : {maxMonthInfo}')\n",
    "\n",
    "# 일간 최대 사망자\n",
    "dataL2 = data[data['dtYm'] == maxMonthInfo['dtYm']]\n",
    "maxDayInfo = dataL2.loc[dataL2[colInfo].idxmax()][['dtYmd', colInfo]]\n",
    "print(f'[CHECK] maxDayInfo : {maxDayInfo}')\n"
   ],
   "metadata": {
    "id": "xw67zr5FWAD6",
    "colab": {
     "base_uri": "https://localhost:8080/"
    },
    "executionInfo": {
     "status": "ok",
     "timestamp": 1702037611234,
     "user_tz": -540,
     "elapsed": 403,
     "user": {
      "displayName": "해솔Haesol",
      "userId": "10889875267218328279"
     }
    },
    "outputId": "9e9f546c-55f2-44bf-f874-71e4de605aec"
   },
   "execution_count": 5,
   "outputs": [
    {
     "output_type": "stream",
     "name": "stdout",
     "text": [
      "[CHECK] maxMonthInfo : dtYm         202204\n",
      "전국 당일 사망자    6564.0\n",
      "Name: 26, dtype: object\n",
      "[CHECK] maxDayInfo : dtYmd        20220408\n",
      "전국 당일 사망자       373.0\n",
      "Name: 418, dtype: object\n"
     ]
    }
   ]
  },
  {
   "cell_type": "code",
   "source": [
    "# ==========================================================================\n",
    "# 분석 결과\n",
    "# ==========================================================================\n",
    "# 월간/일간 확진자 통계 결과 2022년 03월 9,962,387명 확진자를 보이며 특히 2022년 3월 17일에서 가장 높은 확진자 (621,266명)를 보임\n",
    "# 월간/일간 사망자 통계 결과 2022년 04월 6,564명 사망자를 보이며 특히 2022년 4월 8일에서 가장 높은 사망자 (373명)를 보임"
   ],
   "metadata": {
    "id": "ce3dOMPGWBh2",
    "executionInfo": {
     "status": "ok",
     "timestamp": 1702037614088,
     "user_tz": -540,
     "elapsed": 7,
     "user": {
      "displayName": "해솔Haesol",
      "userId": "10889875267218328279"
     }
    }
   },
   "execution_count": 6,
   "outputs": []
  }
 ]
}
