{
 "cells": [
  {
   "cell_type": "code",
   "execution_count": 1,
   "metadata": {
    "pycharm": {
     "name": "#%%\n"
    }
   },
   "outputs": [],
   "source": [
    "import tensorflow as tf\n",
    "import tensorflow_addons as tfa"
   ]
  },
  {
   "cell_type": "code",
   "execution_count": 3,
   "metadata": {
    "pycharm": {
     "name": "#%%\n"
    }
   },
   "outputs": [],
   "source": [
    "mnist=tf.keras.datasets.mnist\n",
    "(x_train, y_train), (x_test, y_test)=mnist.load_data()\n",
    "x_train, x_test=x_train/255., x_test/255."
   ]
  },
  {
   "cell_type": "code",
   "execution_count": 8,
   "metadata": {
    "pycharm": {
     "name": "#%%\n"
    }
   },
   "outputs": [
    {
     "name": "stdout",
     "output_type": "stream",
     "text": [
      "Model: \"sequential_1\"\n",
      "_________________________________________________________________\n",
      "Layer (type)                 Output Shape              Param #   \n",
      "=================================================================\n",
      "reshape_3 (Reshape)          (None, 28, 28, 1)         0         \n",
      "_________________________________________________________________\n",
      "conv2d_3 (Conv2D)            (None, 26, 26, 10)        100       \n",
      "_________________________________________________________________\n",
      "group_normalization_1 (Group (None, 26, 26, 10)        20        \n",
      "_________________________________________________________________\n",
      "flatten_1 (Flatten)          (None, 6760)              0         \n",
      "_________________________________________________________________\n",
      "dense_2 (Dense)              (None, 128)               865408    \n",
      "_________________________________________________________________\n",
      "dropout_1 (Dropout)          (None, 128)               0         \n",
      "_________________________________________________________________\n",
      "dense_3 (Dense)              (None, 10)                1290      \n",
      "=================================================================\n",
      "Total params: 866,818\n",
      "Trainable params: 866,818\n",
      "Non-trainable params: 0\n",
      "_________________________________________________________________\n",
      "Epoch 1/10\n",
      "1875/1875 [==============================] - 18s 9ms/step - loss: 0.4105 - accuracy: 0.8789 - val_loss: 0.1210 - val_accuracy: 0.9631\n",
      "Epoch 2/10\n",
      "1875/1875 [==============================] - 17s 9ms/step - loss: 0.1494 - accuracy: 0.9545 - val_loss: 0.0994 - val_accuracy: 0.9704\n",
      "Epoch 3/10\n",
      "1875/1875 [==============================] - 17s 9ms/step - loss: 0.1099 - accuracy: 0.9656 - val_loss: 0.1031 - val_accuracy: 0.9699\n",
      "Epoch 4/10\n",
      "1875/1875 [==============================] - 17s 9ms/step - loss: 0.0927 - accuracy: 0.9700 - val_loss: 0.0863 - val_accuracy: 0.9737\n",
      "Epoch 5/10\n",
      "1875/1875 [==============================] - 17s 9ms/step - loss: 0.0796 - accuracy: 0.9742 - val_loss: 0.0841 - val_accuracy: 0.9764\n",
      "Epoch 6/10\n",
      "1875/1875 [==============================] - 17s 9ms/step - loss: 0.0673 - accuracy: 0.9777 - val_loss: 0.0785 - val_accuracy: 0.9777\n",
      "Epoch 7/10\n",
      "1875/1875 [==============================] - 17s 9ms/step - loss: 0.0575 - accuracy: 0.9820 - val_loss: 0.0910 - val_accuracy: 0.9760\n",
      "Epoch 8/10\n",
      "1875/1875 [==============================] - 17s 9ms/step - loss: 0.0515 - accuracy: 0.9823 - val_loss: 0.0985 - val_accuracy: 0.9736\n",
      "Epoch 9/10\n",
      "1875/1875 [==============================] - 17s 9ms/step - loss: 0.0446 - accuracy: 0.9852 - val_loss: 0.0887 - val_accuracy: 0.9786\n",
      "Epoch 10/10\n",
      "1875/1875 [==============================] - 17s 9ms/step - loss: 0.0432 - accuracy: 0.9856 - val_loss: 0.1063 - val_accuracy: 0.9738\n"
     ]
    },
    {
     "data": {
      "text/plain": [
       "<tensorflow.python.keras.callbacks.History at 0x1ea44d23e80>"
      ]
     },
     "execution_count": 8,
     "metadata": {},
     "output_type": "execute_result"
    }
   ],
   "source": [
    "model=tf.keras.models.Sequential([tf.keras.layers.Reshape((28,28,1),input_shape=(28,28)),\n",
    "                                 tf.keras.layers.Conv2D(10,3),\n",
    "                                 tfa.layers.GroupNormalization(groups=5),\n",
    "                                  tf.keras.layers.Flatten(),\n",
    "                                  tf.keras.layers.Dense(128,activation='relu'),\n",
    "                                  tf.keras.layers.Dropout(0.2),\n",
    "                                  tf.keras.layers.Dense(10, activation='softmax')\n",
    "                                 ])\n",
    "model.summary()\n",
    "model.compile(optimizer='nadam',loss='sparse_categorical_crossentropy',metrics=['accuracy'])\n",
    "model.fit(x_train,y_train, epochs=10, validation_data=(x_test,y_test))"
   ]
  },
  {
   "cell_type": "code",
   "execution_count": 9,
   "metadata": {
    "pycharm": {
     "name": "#%%\n"
    }
   },
   "outputs": [
    {
     "name": "stdout",
     "output_type": "stream",
     "text": [
      "Model: \"sequential_2\"\n",
      "_________________________________________________________________\n",
      "Layer (type)                 Output Shape              Param #   \n",
      "=================================================================\n",
      "reshape_4 (Reshape)          (None, 28, 28, 1)         0         \n",
      "_________________________________________________________________\n",
      "conv2d_4 (Conv2D)            (None, 26, 26, 10)        100       \n",
      "_________________________________________________________________\n",
      "instance_normalization (Inst (None, 26, 26, 10)        20        \n",
      "_________________________________________________________________\n",
      "flatten_2 (Flatten)          (None, 6760)              0         \n",
      "_________________________________________________________________\n",
      "dense_4 (Dense)              (None, 128)               865408    \n",
      "_________________________________________________________________\n",
      "dropout_2 (Dropout)          (None, 128)               0         \n",
      "_________________________________________________________________\n",
      "dense_5 (Dense)              (None, 10)                1290      \n",
      "=================================================================\n",
      "Total params: 866,818\n",
      "Trainable params: 866,818\n",
      "Non-trainable params: 0\n",
      "_________________________________________________________________\n",
      "Epoch 1/10\n",
      "1875/1875 [==============================] - 17s 9ms/step - loss: 0.4010 - accuracy: 0.8823 - val_loss: 0.1306 - val_accuracy: 0.9619\n",
      "Epoch 2/10\n",
      "1875/1875 [==============================] - 16s 9ms/step - loss: 0.1520 - accuracy: 0.9544 - val_loss: 0.1034 - val_accuracy: 0.9713\n",
      "Epoch 3/10\n",
      "1875/1875 [==============================] - 16s 9ms/step - loss: 0.1138 - accuracy: 0.9644 - val_loss: 0.0984 - val_accuracy: 0.9733\n",
      "Epoch 4/10\n",
      "1875/1875 [==============================] - 16s 9ms/step - loss: 0.0956 - accuracy: 0.9700 - val_loss: 0.0944 - val_accuracy: 0.9737\n",
      "Epoch 5/10\n",
      "1875/1875 [==============================] - 16s 9ms/step - loss: 0.0812 - accuracy: 0.9738 - val_loss: 0.0937 - val_accuracy: 0.9744\n",
      "Epoch 6/10\n",
      "1875/1875 [==============================] - 16s 9ms/step - loss: 0.0684 - accuracy: 0.9775 - val_loss: 0.1068 - val_accuracy: 0.9709\n",
      "Epoch 7/10\n",
      "1875/1875 [==============================] - 16s 9ms/step - loss: 0.0611 - accuracy: 0.9794 - val_loss: 0.0844 - val_accuracy: 0.9776\n",
      "Epoch 8/10\n",
      "1875/1875 [==============================] - 16s 9ms/step - loss: 0.0513 - accuracy: 0.9830 - val_loss: 0.0973 - val_accuracy: 0.9764\n",
      "Epoch 9/10\n",
      "1875/1875 [==============================] - 16s 9ms/step - loss: 0.0449 - accuracy: 0.9848 - val_loss: 0.0963 - val_accuracy: 0.9766\n",
      "Epoch 10/10\n",
      "1875/1875 [==============================] - 16s 9ms/step - loss: 0.0430 - accuracy: 0.9858 - val_loss: 0.0899 - val_accuracy: 0.9786\n"
     ]
    },
    {
     "data": {
      "text/plain": [
       "<tensorflow.python.keras.callbacks.History at 0x1ea45384eb0>"
      ]
     },
     "execution_count": 9,
     "metadata": {},
     "output_type": "execute_result"
    }
   ],
   "source": [
    "model=tf.keras.models.Sequential([tf.keras.layers.Reshape((28,28,1),input_shape=(28,28)),\n",
    "                                 tf.keras.layers.Conv2D(10,3),\n",
    "                                 tfa.layers.InstanceNormalization(),\n",
    "                                  tf.keras.layers.Flatten(),\n",
    "                                  tf.keras.layers.Dense(128,activation='relu'),\n",
    "                                  tf.keras.layers.Dropout(0.2),\n",
    "                                  tf.keras.layers.Dense(10, activation='softmax')\n",
    "                                 ])\n",
    "model.summary()\n",
    "model.compile(optimizer='nadam',loss='sparse_categorical_crossentropy',metrics=['accuracy'])\n",
    "model.fit(x_train,y_train, epochs=10, validation_data=(x_test,y_test))"
   ]
  },
  {
   "cell_type": "code",
   "execution_count": 1,
   "metadata": {
    "pycharm": {
     "name": "#%%\n"
    }
   },
   "outputs": [
    {
     "name": "stdout",
     "output_type": "stream",
     "text": [
      "tf.Tensor(\n",
      "[[0 0 0 0 0 0 0]\n",
      " [0 0 1 2 3 0 0]\n",
      " [0 0 4 5 6 0 0]\n",
      " [0 0 0 0 0 0 0]], shape=(4, 7), dtype=int32)\n",
      "tf.Tensor(\n",
      "[[6 5 4 5 6 5 4]\n",
      " [3 2 1 2 3 2 1]\n",
      " [6 5 4 5 6 5 4]\n",
      " [3 2 1 2 3 2 1]], shape=(4, 7), dtype=int32)\n",
      "tf.Tensor(\n",
      "[[2 1 1 2 3 3 2]\n",
      " [2 1 1 2 3 3 2]\n",
      " [5 4 4 5 6 6 5]\n",
      " [5 4 4 5 6 6 5]], shape=(4, 7), dtype=int32)\n"
     ]
    }
   ],
   "source": [
    "import tensorflow as tf\n",
    "t=[[1,2,3],[4,5,6]]\n",
    "padding=[[1,1],[2,2]]\n",
    "t1=tf.pad(t,padding,'CONSTANT')\n",
    "t2=tf.pad(t,padding,'REFLECT')\n",
    "t3=tf.pad(t,padding,'SYMMETRIC')\n",
    "print(t1)\n",
    "print(t2)\n",
    "print(t3)"
   ]
  },
  {
   "cell_type": "code",
   "execution_count": null,
   "metadata": {
    "pycharm": {
     "name": "#%%\n"
    }
   },
   "outputs": [],
   "source": []
  }
 ],
 "metadata": {
  "kernelspec": {
   "display_name": "Python 3",
   "language": "python",
   "name": "python3"
  },
  "language_info": {
   "codemirror_mode": {
    "name": "ipython",
    "version": 3
   },
   "file_extension": ".py",
   "mimetype": "text/x-python",
   "name": "python",
   "nbconvert_exporter": "python",
   "pygments_lexer": "ipython3",
   "version": "3.8.5"
  }
 },
 "nbformat": 4,
 "nbformat_minor": 4
}