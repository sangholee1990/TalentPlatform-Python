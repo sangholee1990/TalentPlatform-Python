{
 "nbformat": 4,
 "nbformat_minor": 0,
 "metadata": {
  "colab": {
   "provenance": [],
   "mount_file_id": "1o8-Vy4HgvYlcdh_ZsG08n0JI81dd4dYo",
   "authorship_tag": "ABX9TyPSU7G1A37xCOyCSp1oAuld"
  },
  "kernelspec": {
   "name": "python3",
   "display_name": "Python 3"
  },
  "language_info": {
   "name": "python"
  }
 },
 "cells": [
  {
   "cell_type": "code",
   "execution_count": 1,
   "metadata": {
    "id": "93HdMG5GjTEy",
    "executionInfo": {
     "status": "ok",
     "timestamp": 1686473264327,
     "user_tz": -540,
     "elapsed": 4,
     "user": {
      "displayName": "해솔Haesol",
      "userId": "10889875267218328279"
     }
    }
   },
   "outputs": [],
   "source": [
    "# # 한글폰트 사용 in colab\n",
    "# !sudo apt-get install -y fonts-nanum\n",
    "# !sudo fc-cache -fv\n",
    "# !rm ~/.cache/matplotlib -rf\n",
    "\n",
    "# !apt-get update -qq\n",
    "# !apt-get install fonts-nanum* -qq"
   ]
  },
  {
   "cell_type": "code",
   "source": [
    "# 라이브러리 읽기\n",
    "import pandas as pd\n",
    "from datetime import datetime\n",
    "\n",
    "# 파일 읽기\n",
    "# data = pd.read_csv('./서울시 코로나19 확진자 발생동향.csv', encoding='EUC-KR')\n",
    "data = pd.read_csv('./LSH0519/서울시 코로나19 확진자 발생동향.csv', encoding='EUC-KR')\n",
    "\n",
    "# 컬럼 정보\n",
    "data.columns\n",
    "\n",
    "# 특정 컬럼 (서울시 기준일) 공백 제거\n",
    "data['서울시 기준일'] = data['서울시 기준일'].str.replace(' ', '', regex=True)\n",
    "\n",
    "# 특정 컬럼 (서울시 기준일)에서 문자열 길이를 통해 날짜형 변환\n",
    "data['dtYmdH'] = data['서울시 기준일'].apply(lambda x: pd.to_datetime(x, format='%Y.%m.%d.%H') if len(x) == 13 else pd.to_datetime(x, format='%y.%m.%d.%H'))\n",
    "\n",
    "# 날짜형에서 연월일 변환\n",
    "data['dtYmd'] = data['dtYmdH'].dt.strftime('%Y%m%d')\n",
    "\n",
    "# 날짜형에서 연월 변환\n",
    "data['dtYm'] = data['dtYmdH'].dt.strftime('%Y%m')\n",
    "\n",
    "# 월별에 따른 확진자 및 사망자 합계\n",
    "dataL1 = data.groupby(data['dtYm'])[['전국 추가 확진', '전국 당일 사망자']].sum().reset_index(drop=False)\n",
    "print(f'[CHECK] dataL1 : {dataL1}')"
   ],
   "metadata": {
    "colab": {
     "base_uri": "https://localhost:8080/"
    },
    "id": "kaSqcofLjc8B",
    "outputId": "0486c61c-041a-4f1c-d7a1-225d7e344a13",
    "executionInfo": {
     "status": "ok",
     "timestamp": 1686473732728,
     "user_tz": -540,
     "elapsed": 76478,
     "user": {
      "displayName": "해솔Haesol",
      "userId": "10889875267218328279"
     }
    }
   },
   "execution_count": 8,
   "outputs": [
    {
     "output_type": "stream",
     "name": "stdout",
     "text": [
      "[CHECK] saveImg : ./FIG/LSH0434/[3공단] 연도별 대기 중금속 농도 예측.png\n",
      "[CHECK] saveImg : ./FIG/LSH0434/[4공단] 연도별 대기 중금속 농도 예측.png\n",
      "[CHECK] saveImg : ./FIG/LSH0434/[가산면] 연도별 대기 중금속 농도 예측.png\n",
      "[CHECK] saveImg : ./FIG/LSH0434/[가평읍] 연도별 대기 중금속 농도 예측.png\n",
      "[CHECK] saveImg : ./FIG/LSH0434/[건국동] 연도별 대기 중금속 농도 예측.png\n",
      "[CHECK] saveImg : ./FIG/LSH0434/[고잔] 연도별 대기 중금속 농도 예측.png\n",
      "[CHECK] saveImg : ./FIG/LSH0434/[고천동] 연도별 대기 중금속 농도 예측.png\n",
      "[CHECK] saveImg : ./FIG/LSH0434/[광안동] 연도별 대기 중금속 농도 예측.png\n",
      "[CHECK] saveImg : ./FIG/LSH0434/[광진구] 연도별 대기 중금속 농도 예측.png\n",
      "[CHECK] saveImg : ./FIG/LSH0434/[구로구] 연도별 대기 중금속 농도 예측.png\n",
      "[CHECK] saveImg : ./FIG/LSH0434/[구성동] 연도별 대기 중금속 농도 예측.png\n",
      "[CHECK] saveImg : ./FIG/LSH0434/[구월동] 연도별 대기 중금속 농도 예측.png\n",
      "[CHECK] saveImg : ./FIG/LSH0434/[금호동] 연도별 대기 중금속 농도 예측.png\n",
      "[CHECK] saveImg : ./FIG/LSH0434/[노대동] 연도별 대기 중금속 농도 예측.png\n",
      "[CHECK] saveImg : ./FIG/LSH0434/[농성동] 연도별 대기 중금속 농도 예측.png\n",
      "[CHECK] saveImg : ./FIG/LSH0434/[대명동] 연도별 대기 중금속 농도 예측.png\n",
      "[CHECK] saveImg : ./FIG/LSH0434/[대불] 연도별 대기 중금속 농도 예측.png\n",
      "[CHECK] saveImg : ./FIG/LSH0434/[대송면] 연도별 대기 중금속 농도 예측.png\n",
      "[CHECK] saveImg : ./FIG/LSH0434/[대흥동] 연도별 대기 중금속 농도 예측.png\n",
      "[CHECK] saveImg : ./FIG/LSH0434/[덕신리] 연도별 대기 중금속 농도 예측.png\n",
      "[CHECK] saveImg : ./FIG/LSH0434/[덕천동] 연도별 대기 중금속 농도 예측.png\n",
      "[CHECK] saveImg : ./FIG/LSH0434/[독곶리] 연도별 대기 중금속 농도 예측.png\n",
      "[CHECK] saveImg : ./FIG/LSH0434/[두암동] 연도별 대기 중금속 농도 예측.png\n",
      "[CHECK] saveImg : ./FIG/LSH0434/[마포구] 연도별 대기 중금속 농도 예측.png\n",
      "[CHECK] saveImg : ./FIG/LSH0434/[매포읍] 연도별 대기 중금속 농도 예측.png\n",
      "[CHECK] saveImg : ./FIG/LSH0434/[명서동] 연도별 대기 중금속 농도 예측.png\n",
      "[CHECK] saveImg : ./FIG/LSH0434/[묘도동] 연도별 대기 중금속 농도 예측.png\n",
      "[CHECK] saveImg : ./FIG/LSH0434/[문막공단] 연도별 대기 중금속 농도 예측.png\n",
      "[CHECK] saveImg : ./FIG/LSH0434/[문창동] 연도별 대기 중금속 농도 예측.png\n",
      "[CHECK] saveImg : ./FIG/LSH0434/[방이동] 연도별 대기 중금속 농도 예측.png\n",
      "[CHECK] saveImg : ./FIG/LSH0434/[배방읍] 연도별 대기 중금속 농도 예측.png\n",
      "[CHECK] saveImg : ./FIG/LSH0434/[보령시] 연도별 대기 중금속 농도 예측.png\n",
      "[CHECK] saveImg : ./FIG/LSH0434/[봉암동] 연도별 대기 중금속 농도 예측.png\n",
      "[CHECK] saveImg : ./FIG/LSH0434/[부곡동] 연도별 대기 중금속 농도 예측.png\n",
      "[CHECK] saveImg : ./FIG/LSH0434/[부평] 연도별 대기 중금속 농도 예측.png\n",
      "[CHECK] saveImg : ./FIG/LSH0434/[삼천동] 연도별 대기 중금속 농도 예측.png\n",
      "[CHECK] saveImg : ./FIG/LSH0434/[상대원1동] 연도별 대기 중금속 농도 예측.png\n",
      "[CHECK] saveImg : ./FIG/LSH0434/[서동] 연도별 대기 중금속 농도 예측.png\n",
      "[CHECK] saveImg : ./FIG/LSH0434/[석포면] 연도별 대기 중금속 농도 예측.png\n",
      "[CHECK] saveImg : ./FIG/LSH0434/[성동구] 연도별 대기 중금속 농도 예측.png\n",
      "[CHECK] saveImg : ./FIG/LSH0434/[성수동] 연도별 대기 중금속 농도 예측.png\n",
      "[CHECK] saveImg : ./FIG/LSH0434/[성황동] 연도별 대기 중금속 농도 예측.png\n",
      "[CHECK] saveImg : ./FIG/LSH0434/[송산면] 연도별 대기 중금속 농도 예측.png\n",
      "[CHECK] saveImg : ./FIG/LSH0434/[송정동] 연도별 대기 중금속 농도 예측.png\n",
      "[CHECK] saveImg : ./FIG/LSH0434/[송파구] 연도별 대기 중금속 농도 예측.png\n",
      "[CHECK] saveImg : ./FIG/LSH0434/[수창동] 연도별 대기 중금속 농도 예측.png\n",
      "[CHECK] saveImg : ./FIG/LSH0434/[신대리] 연도별 대기 중금속 농도 예측.png\n",
      "[CHECK] saveImg : ./FIG/LSH0434/[신북읍1] 연도별 대기 중금속 농도 예측.png\n",
      "[CHECK] saveImg : ./FIG/LSH0434/[신정동] 연도별 대기 중금속 농도 예측.png\n",
      "[CHECK] saveImg : ./FIG/LSH0434/[신풍동] 연도별 대기 중금속 농도 예측.png\n",
      "[CHECK] saveImg : ./FIG/LSH0434/[신흥] 연도별 대기 중금속 농도 예측.png\n",
      "[CHECK] saveImg : ./FIG/LSH0434/[쌍봉동] 연도별 대기 중금속 농도 예측.png\n",
      "[CHECK] saveImg : ./FIG/LSH0434/[아름동] 연도별 대기 중금속 농도 예측.png\n",
      "[CHECK] saveImg : ./FIG/LSH0434/[아주동] 연도별 대기 중금속 농도 예측.png\n",
      "[CHECK] saveImg : ./FIG/LSH0434/[안성] 연도별 대기 중금속 농도 예측.png\n",
      "[CHECK] saveImg : ./FIG/LSH0434/[야음동] 연도별 대기 중금속 농도 예측.png\n",
      "[CHECK] saveImg : ./FIG/LSH0434/[양재동] 연도별 대기 중금속 농도 예측.png\n",
      "[CHECK] saveImg : ./FIG/LSH0434/[여천동] 연도별 대기 중금속 농도 예측.png\n",
      "[CHECK] saveImg : ./FIG/LSH0434/[연산동] 연도별 대기 중금속 농도 예측.png\n",
      "[CHECK] saveImg : ./FIG/LSH0434/[연희] 연도별 대기 중금속 농도 예측.png\n",
      "[CHECK] saveImg : ./FIG/LSH0434/[옥천동] 연도별 대기 중금속 농도 예측.png\n",
      "[CHECK] saveImg : ./FIG/LSH0434/[온산산단] 연도별 대기 중금속 농도 예측.png\n",
      "[CHECK] saveImg : ./FIG/LSH0434/[우산동] 연도별 대기 중금속 농도 예측.png\n",
      "[CHECK] saveImg : ./FIG/LSH0434/[원시동] 연도별 대기 중금속 농도 예측.png\n",
      "[CHECK] saveImg : ./FIG/LSH0434/[율촌면] 연도별 대기 중금속 농도 예측.png\n",
      "[CHECK] saveImg : ./FIG/LSH0434/[은하수로] 연도별 대기 중금속 농도 예측.png\n",
      "[CHECK] saveImg : ./FIG/LSH0434/[읍내동] 연도별 대기 중금속 농도 예측.png\n",
      "[CHECK] saveImg : ./FIG/LSH0434/[의정부1동] 연도별 대기 중금속 농도 예측.png\n",
      "[CHECK] saveImg : ./FIG/LSH0434/[이현동] 연도별 대기 중금속 농도 예측.png\n",
      "[CHECK] saveImg : ./FIG/LSH0434/[장량동] 연도별 대기 중금속 농도 예측.png\n",
      "[CHECK] saveImg : ./FIG/LSH0434/[장흥동] 연도별 대기 중금속 농도 예측.png\n",
      "[CHECK] saveImg : ./FIG/LSH0434/[전포동] 연도별 대기 중금속 농도 예측.png\n",
      "[CHECK] saveImg : ./FIG/LSH0434/[전하동] 연도별 대기 중금속 농도 예측.png\n",
      "[CHECK] saveImg : ./FIG/LSH0434/[정림동] 연도별 대기 중금속 농도 예측.png\n",
      "[CHECK] saveImg : ./FIG/LSH0434/[주삼동] 연도별 대기 중금속 농도 예측.png\n",
      "[CHECK] saveImg : ./FIG/LSH0434/[죽도동] 연도별 대기 중금속 농도 예측.png\n",
      "[CHECK] saveImg : ./FIG/LSH0434/[중동] 연도별 대기 중금속 농도 예측.png\n",
      "[CHECK] saveImg : ./FIG/LSH0434/[중앙로] 연도별 대기 중금속 농도 예측.png\n",
      "[CHECK] saveImg : ./FIG/LSH0434/[지산동] 연도별 대기 중금속 농도 예측.png\n",
      "[CHECK] saveImg : ./FIG/LSH0434/[평동] 연도별 대기 중금속 농도 예측.png\n",
      "[CHECK] saveImg : ./FIG/LSH0434/[평택항] 연도별 대기 중금속 농도 예측.png\n",
      "[CHECK] saveImg : ./FIG/LSH0434/[하동읍] 연도별 대기 중금속 농도 예측.png\n",
      "[CHECK] saveImg : ./FIG/LSH0434/[학장동] 연도별 대기 중금속 농도 예측.png\n",
      "[CHECK] saveImg : ./FIG/LSH0434/[효문동] 연도별 대기 중금속 농도 예측.png\n",
      "[CHECK] saveFile : ./OUTPUT/LSH0434/10개년 대기 중금속 농도 예측.csv\n"
     ]
    }
   ]
  },
  {
   "cell_type": "code",
   "source": [],
   "metadata": {
    "id": "1FzUAERto-k3"
   },
   "execution_count": null,
   "outputs": []
  }
 ]
}
