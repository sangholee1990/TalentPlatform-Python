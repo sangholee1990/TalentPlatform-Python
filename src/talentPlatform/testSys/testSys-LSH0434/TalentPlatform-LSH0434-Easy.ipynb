{
 "nbformat": 4,
 "nbformat_minor": 0,
 "metadata": {
  "colab": {
   "provenance": [],
   "mount_file_id": "1o8-Vy4HgvYlcdh_ZsG08n0JI81dd4dYo",
   "authorship_tag": "ABX9TyPSU7G1A37xCOyCSp1oAuld"
  },
  "kernelspec": {
   "name": "python3",
   "display_name": "Python 3 (ipykernel)",
   "language": "python"
  },
  "language_info": {
   "name": "python"
  }
 },
 "cells": [
  {
   "cell_type": "code",
   "execution_count": 1,
   "metadata": {
    "id": "93HdMG5GjTEy",
    "executionInfo": {
     "status": "ok",
     "timestamp": 1686473264327,
     "user_tz": -540,
     "elapsed": 4,
     "user": {
      "displayName": "해솔Haesol",
      "userId": "10889875267218328279"
     }
    }
   },
   "outputs": [],
   "source": [
    "# # 한글폰트 사용 in colab\n",
    "# !sudo apt-get install -y fonts-nanum\n",
    "# !sudo fc-cache -fv\n",
    "# !rm ~/.cache/matplotlib -rf\n",
    "\n",
    "# !apt-get update -qq\n",
    "# !apt-get install fonts-nanum* -qq\n",
    "\n",
    "#코드 실행 후 [런타임]-[런타임 다시 시작]을 꼭 실행 후 본 코드를 다시 실행해 줘야 함"
   ]
  },
  {
   "cell_type": "code",
   "source": [
    "import glob\n",
    "import os\n",
    "import pandas as pd\n",
    "from datetime import datetime\n",
    "from sklearn import linear_model\n",
    "import matplotlib.pyplot as plt"
   ],
   "metadata": {
    "id": "luhhGVaglgL5",
    "executionInfo": {
     "status": "ok",
     "timestamp": 1686473265974,
     "user_tz": -540,
     "elapsed": 1077,
     "user": {
      "displayName": "해솔Haesol",
      "userId": "10889875267218328279"
     }
    },
    "ExecuteTime": {
     "end_time": "2024-04-19T00:01:25.581644Z",
     "start_time": "2024-04-19T00:01:25.366730Z"
    }
   },
   "outputs": [],
   "execution_count": 2
  },
  {
   "cell_type": "code",
   "source": [
    "# ============================================\n",
    "# 요구사항\n",
    "# ============================================\n",
    "# Python을 이용한 10년 대기 중금속 농도 예측 및 시각화\n",
    "\n",
    "# 10년 대기 중금속 농도 측정 결과\n",
    "# csv 파일을 토대로 예측 및 시각화\n",
    "\n",
    "# ============================================\n",
    "# 보조\n",
    "# ============================================\n",
    "# 날짜형을 10진수 변환\n",
    "def decimalDate(dtDate):\n",
    "    start = datetime(year=dtDate.year, month=1, day=1)\n",
    "    end = datetime(year=dtDate.year+1, month=1, day=1)\n",
    "    return dtDate.year + ((dtDate - start) / (end - start))"
   ],
   "metadata": {
    "id": "u2KFbV6ajYdb",
    "executionInfo": {
     "status": "ok",
     "timestamp": 1686473300287,
     "user_tz": -540,
     "elapsed": 5,
     "user": {
      "displayName": "해솔Haesol",
      "userId": "10889875267218328279"
     }
    },
    "ExecuteTime": {
     "end_time": "2024-04-19T00:01:26.673777Z",
     "start_time": "2024-04-19T00:01:26.668910Z"
    }
   },
   "outputs": [],
   "execution_count": 3
  },
  {
   "cell_type": "code",
   "source": [
    "# ============================================\n",
    "# 주요\n",
    "# ============================================\n",
    "globalVar = {}\n",
    "serviceName = 'LSH0434'\n",
    "\n",
    "# 옵션 설정\n",
    "sysOpt = {\n",
    "}\n",
    "\n",
    "globalVar['inpPath'] = '.'\n",
    "globalVar['outPath'] = '.'\n",
    "globalVar['figPath'] = '.'\n",
    "\n",
    "# 그림 설정\n",
    "plt.rcParams['font.family'] = 'NanumGothic'\n",
    "plt.rcParams['axes.unicode_minus'] = False\n",
    "\n",
    "# 데이터 읽기\n",
    "inpFile = '{}/{}/{}'.format(globalVar['inpPath'], serviceName, '10개년 대기 중금속 농도 측정.csv')\n",
    "# inpFile = '{}/{}'.format(globalVar['inpPath'], '10개년 대기 중금속 농도 측정.csv')\n",
    "fileList = sorted(glob.glob(inpFile))\n",
    "data = pd.read_csv(fileList[0], encoding='EUC-KR')\n",
    "\n",
    "# 구분, 항목, 단위를 기준으로 spread to long 변환\n",
    "dataL1 = pd.melt(data, id_vars=['구분', '항목', '단위', 'Unnamed: 121'])\n",
    "dataL1['dtDate'] = pd.to_datetime(dataL1['variable'], format='%Y.%m 월')\n",
    "dataL1['dtXran'] = dataL1['dtDate'].apply(lambda x: decimalDate(x))\n",
    "dataL1['val'] = pd.to_numeric(dataL1['value'], errors='coerce')\n",
    "\n",
    "dataL2 = dataL1[['구분', '항목', 'dtXran', 'val']].dropna().reset_index(drop=True)\n",
    "\n",
    "# 선형 회귀모형 설정\n",
    "lmModel = linear_model.LinearRegression()\n",
    "\n",
    "grpList = sorted(set(dataL2['구분']))\n",
    "typeList = sorted(set(dataL2['항목']))\n",
    "\n",
    "for i, grpInfo in enumerate(grpList):\n",
    "    for j, typeInfo in enumerate(typeList):\n",
    "\n",
    "        dataL3 = dataL2.loc[(dataL2['구분'] == grpInfo) & (dataL2['항목'] == typeInfo)]\n",
    "        if (len(dataL3) < 1): continue\n",
    "\n",
    "        # print(f'[CHECK] grpInfo : {grpInfo} / typeInfo : {typeInfo}')\n",
    "\n",
    "        # Converts the Series to 2D array\n",
    "        X = dataL3['dtXran'].values.reshape(-1, 1)\n",
    "        y = dataL3['val']\n",
    "\n",
    "        if (len(X) < 1): continue\n",
    "\n",
    "        # 학습 데이터를 통해 학습\n",
    "        lmModel.fit(X, y)\n",
    "\n",
    "        # 학습 데이터를 통해 예측\n",
    "        prd = lmModel.predict(X)\n",
    "\n",
    "        # 예측 결과 저장\n",
    "        dataL2.loc[dataL3.index, 'prd'] = prd\n",
    "\n",
    "        # mainTitle = f'[{grpInfo}] {typeInfo} 연도별 대기 중금속 농도 비교'\n",
    "        # plt.title(mainTitle)\n",
    "        # saveImg = '{}/{}/{}.png'.format(globalVar['figPath'], serviceName, mainTitle)\n",
    "        # os.makedirs(os.path.dirname(saveImg), exist_ok=True)\n",
    "        # plt.scatter(X, y, color='black')\n",
    "        # plt.plot(X, prd, color='blue', linewidth=3)\n",
    "        # plt.xlabel('연도')\n",
    "        # plt.ylabel('대기 중금속 농도')\n",
    "        # plt.savefig(saveImg, dpi=100, bbox_inches='tight')\n",
    "        # plt.close()\n",
    "        # # plt.show()\n",
    "        # print(f'[CHECK] saveImg : {saveImg}')\n",
    "\n",
    "# 연도별 대기 중금속 농도 예측 시각화\n",
    "for i, grpInfo in enumerate(grpList):\n",
    "    # print(f'[CHECK] grpInfo : {grpInfo}')\n",
    "\n",
    "    mainTitle = f'[{grpInfo}] 연도별 대기 중금속 농도 예측'\n",
    "    plt.title(mainTitle)\n",
    "    saveImg = '{}/{}/{}.png'.format(globalVar['figPath'], serviceName, mainTitle)\n",
    "    os.makedirs(os.path.dirname(saveImg), exist_ok=True)\n",
    "    for j, typeInfo in enumerate(typeList):\n",
    "\n",
    "        dataL3 = dataL2.loc[(dataL2['구분'] == grpInfo) & (dataL2['항목'] == typeInfo)]\n",
    "        if (len(dataL3) < 1): continue\n",
    "\n",
    "        plt.plot(dataL3['dtXran'], dataL3['prd'], 'o-', label=typeInfo)\n",
    "    plt.xlabel('연도')\n",
    "    plt.ylabel('대기 중금속 농도')\n",
    "    plt.legend()\n",
    "    plt.savefig(saveImg, dpi=100, bbox_inches='tight')\n",
    "    plt.close()\n",
    "    # plt.show()\n",
    "    print(f'[CHECK] saveImg : {saveImg}')\n",
    "\n",
    "\n",
    "# 자료 저장\n",
    "saveFile = '{}/{}/{}.csv'.format(globalVar['outPath'], serviceName, '10개년 대기 중금속 농도 예측')\n",
    "os.makedirs(os.path.dirname(saveFile), exist_ok=True)\n",
    "dataL2.to_csv(saveFile, index=False)\n",
    "print(f'[CHECK] saveFile : {saveFile}')"
   ],
   "metadata": {
    "colab": {
     "base_uri": "https://localhost:8080/"
    },
    "id": "kaSqcofLjc8B",
    "outputId": "0486c61c-041a-4f1c-d7a1-225d7e344a13",
    "executionInfo": {
     "status": "ok",
     "timestamp": 1686473732728,
     "user_tz": -540,
     "elapsed": 76478,
     "user": {
      "displayName": "해솔Haesol",
      "userId": "10889875267218328279"
     }
    },
    "jupyter": {
     "is_executing": true
    }
   },
   "outputs": [],
   "execution_count": null
  },
  {
   "cell_type": "code",
   "source": "",
   "metadata": {
    "id": "1FzUAERto-k3"
   },
   "execution_count": null,
   "outputs": []
  }
 ]
}
