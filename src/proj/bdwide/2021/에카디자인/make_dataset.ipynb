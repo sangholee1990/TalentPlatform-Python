{
 "cells": [
  {
   "cell_type": "markdown",
   "source": [
    "## 라이브러리 IMPORT"
   ],
   "metadata": {}
  },
  {
   "cell_type": "code",
   "execution_count": 28,
   "source": [
    "import pandas as pd"
   ],
   "outputs": [],
   "metadata": {}
  },
  {
   "cell_type": "markdown",
   "source": [
    "## 네이버 데이터 불러오기"
   ],
   "metadata": {}
  },
  {
   "cell_type": "code",
   "execution_count": 29,
   "source": [
    "naver_df = pd.read_csv(\"sentiments_by_keywords.csv\")\n",
    "naver_df.head()"
   ],
   "outputs": [
    {
     "output_type": "execute_result",
     "data": {
      "text/plain": [
       "  search_keyword  search_date  page_num  sentiments\n",
       "0       kf94 마스크          NaN         1    0.179523\n",
       "1         덴탈 마스크          NaN         1    0.158853\n",
       "2        스포츠 마스크          NaN         1    0.243787\n",
       "3         패션 마스크          NaN         1    0.211893\n",
       "4      필터 교체 마스크          NaN         1    0.160557"
      ],
      "text/html": [
       "<div>\n",
       "<style scoped>\n",
       "    .dataframe tbody tr th:only-of-type {\n",
       "        vertical-align: middle;\n",
       "    }\n",
       "\n",
       "    .dataframe tbody tr th {\n",
       "        vertical-align: top;\n",
       "    }\n",
       "\n",
       "    .dataframe thead th {\n",
       "        text-align: right;\n",
       "    }\n",
       "</style>\n",
       "<table border=\"1\" class=\"dataframe\">\n",
       "  <thead>\n",
       "    <tr style=\"text-align: right;\">\n",
       "      <th></th>\n",
       "      <th>search_keyword</th>\n",
       "      <th>search_date</th>\n",
       "      <th>page_num</th>\n",
       "      <th>sentiments</th>\n",
       "    </tr>\n",
       "  </thead>\n",
       "  <tbody>\n",
       "    <tr>\n",
       "      <th>0</th>\n",
       "      <td>kf94 마스크</td>\n",
       "      <td>NaN</td>\n",
       "      <td>1</td>\n",
       "      <td>0.179523</td>\n",
       "    </tr>\n",
       "    <tr>\n",
       "      <th>1</th>\n",
       "      <td>덴탈 마스크</td>\n",
       "      <td>NaN</td>\n",
       "      <td>1</td>\n",
       "      <td>0.158853</td>\n",
       "    </tr>\n",
       "    <tr>\n",
       "      <th>2</th>\n",
       "      <td>스포츠 마스크</td>\n",
       "      <td>NaN</td>\n",
       "      <td>1</td>\n",
       "      <td>0.243787</td>\n",
       "    </tr>\n",
       "    <tr>\n",
       "      <th>3</th>\n",
       "      <td>패션 마스크</td>\n",
       "      <td>NaN</td>\n",
       "      <td>1</td>\n",
       "      <td>0.211893</td>\n",
       "    </tr>\n",
       "    <tr>\n",
       "      <th>4</th>\n",
       "      <td>필터 교체 마스크</td>\n",
       "      <td>NaN</td>\n",
       "      <td>1</td>\n",
       "      <td>0.160557</td>\n",
       "    </tr>\n",
       "  </tbody>\n",
       "</table>\n",
       "</div>"
      ]
     },
     "metadata": {},
     "execution_count": 29
    }
   ],
   "metadata": {}
  },
  {
   "cell_type": "markdown",
   "source": [
    "## 쿠팡 데이터 불러오기."
   ],
   "metadata": {}
  },
  {
   "cell_type": "code",
   "execution_count": 30,
   "source": [
    "coupang_df = pd.read_csv('preprocessed_coupang0816.csv')"
   ],
   "outputs": [],
   "metadata": {}
  },
  {
   "cell_type": "markdown",
   "source": [
    "## 네이버 데이터 쿠팡 데이터 컬럼명 정규화"
   ],
   "metadata": {}
  },
  {
   "cell_type": "code",
   "execution_count": 31,
   "source": [
    "naver_df = naver_df.replace({'search_keyword': {'kf94 마스크': 'kf94', '덴탈 마스크': 'dental', '스포츠 마스크': 'sports', '패션 마스크': 'fashion', '필터 교체 마스크': 'filterchangeable'}}, regex=True)\n",
    "naver_df = naver_df.rename(columns={'sentiments': '네이버지식인감정지수', 'search_keyword': '상품종류'}).drop(['search_date', 'page_num'], axis=1)"
   ],
   "outputs": [],
   "metadata": {}
  },
  {
   "cell_type": "code",
   "execution_count": 32,
   "source": [
    "naver_df.head()"
   ],
   "outputs": [
    {
     "output_type": "execute_result",
     "data": {
      "text/plain": [
       "               상품종류  네이버지식인감정지수\n",
       "0              kf94    0.179523\n",
       "1            dental    0.158853\n",
       "2            sports    0.243787\n",
       "3           fashion    0.211893\n",
       "4  filterchangeable    0.160557"
      ],
      "text/html": [
       "<div>\n",
       "<style scoped>\n",
       "    .dataframe tbody tr th:only-of-type {\n",
       "        vertical-align: middle;\n",
       "    }\n",
       "\n",
       "    .dataframe tbody tr th {\n",
       "        vertical-align: top;\n",
       "    }\n",
       "\n",
       "    .dataframe thead th {\n",
       "        text-align: right;\n",
       "    }\n",
       "</style>\n",
       "<table border=\"1\" class=\"dataframe\">\n",
       "  <thead>\n",
       "    <tr style=\"text-align: right;\">\n",
       "      <th></th>\n",
       "      <th>상품종류</th>\n",
       "      <th>네이버지식인감정지수</th>\n",
       "    </tr>\n",
       "  </thead>\n",
       "  <tbody>\n",
       "    <tr>\n",
       "      <th>0</th>\n",
       "      <td>kf94</td>\n",
       "      <td>0.179523</td>\n",
       "    </tr>\n",
       "    <tr>\n",
       "      <th>1</th>\n",
       "      <td>dental</td>\n",
       "      <td>0.158853</td>\n",
       "    </tr>\n",
       "    <tr>\n",
       "      <th>2</th>\n",
       "      <td>sports</td>\n",
       "      <td>0.243787</td>\n",
       "    </tr>\n",
       "    <tr>\n",
       "      <th>3</th>\n",
       "      <td>fashion</td>\n",
       "      <td>0.211893</td>\n",
       "    </tr>\n",
       "    <tr>\n",
       "      <th>4</th>\n",
       "      <td>filterchangeable</td>\n",
       "      <td>0.160557</td>\n",
       "    </tr>\n",
       "  </tbody>\n",
       "</table>\n",
       "</div>"
      ]
     },
     "metadata": {},
     "execution_count": 32
    }
   ],
   "metadata": {}
  },
  {
   "cell_type": "markdown",
   "source": [
    "## 쿠팡 데이터 + 네이버 데이터 merge"
   ],
   "metadata": {}
  },
  {
   "cell_type": "code",
   "execution_count": 33,
   "source": [
    "final_df = pd.merge(coupang_df, naver_df,  how='left').drop(\"Unnamed: 0\", axis=1)\n",
    "final_df.head()"
   ],
   "outputs": [
    {
     "output_type": "execute_result",
     "data": {
      "text/plain": [
       "                                 상품명     상품가격              상품종류  \\\n",
       "0  오르카 더 라이트 핏 새부리형 쿨링 마스크 + 필터 10개입  15,400원  filterchangeable   \n",
       "1  씨에이치티 애니웨이 편한숨 비말 차단 마스크 대형 KF-AD  16,400원  filterchangeable   \n",
       "2   엔 AIRGUARD 미세먼지 스포츠 마스크 성인용 KF94  15,250원  filterchangeable   \n",
       "3                   루미카 튜닝 마스크 솔리드 L  25,200원  filterchangeable   \n",
       "4                   루미카 튜닝 마스크 솔리드 M  25,200원  filterchangeable   \n",
       "\n",
       "                                                리뷰제목  \\\n",
       "0  리뷰처럼 첫 느낌이 만족하네요...대박나세요|오르카 더 라이트 핏 새부리형 쿨링 마...   \n",
       "1  씨에이치티 애니웨이 편한숨 비말 차단 마스크 대형 KF-AD|숨쉬기 편해요|씨에이치...   \n",
       "2  KF 94 .국내산 호흡이 편하고 귀 아프지않음!|엔 AIRGUARD 미세먼지 스포...   \n",
       "3  루미카 튜닝 마스크 솔리드 L|마스크가 꼭필요한시기에 딱 좋은 마스크발견했어요|강추...   \n",
       "4  피부에좋고 말하기숨쉬기 편하고 경제적인 루미카 마스크|실제 사용하기에 편합니다|이가...   \n",
       "\n",
       "                                                리뷰내용   별점  \\\n",
       "0  요즘 마스크는 생활의 필수품이 되었다.\\n이제는 마스크는 방역을 넘어서 패션으로 생...  4.5   \n",
       "1  kf마스크 찾는것 중에서\\n저렴하면서\\n상품평도 괜찮아서 구매\\n여름이 오고\\nkf...  4.5   \n",
       "2  추가리뷰 2020 02 21\\n미스크 살균가를 샀어요. UV C 램프가 속도가 빠르...  4.5   \n",
       "3  피부에 뾰루지가 없어지질 않아서 이건 어떨까 하고 구입함\\n쓰고 휙 버리는 1회용 ...  4.5   \n",
       "4  루미카 마스크 드디어 쿠팡 로켓에서도 살 수 있네요~\\n\\n연예인들이 쓰는 유명 마...  4.5   \n",
       "\n",
       "                                                 키워드  쿠팡리뷰감정지수  네이버지식인감정지수  \n",
       "0  마스크 오르카 제품 많이 일반 좀더 요즘 리뉴얼 피부 정말 이전 근데 착용 좋은 있...  0.112693    0.160557  \n",
       "1      마스크 숨쉬기 저는 힘있는 집에 일회용 저렴 분들 얼굴 덴탈 착용 KF94 여름이  0.029940    0.160557  \n",
       "2  필터 마스크 같아 다른 그래서 정도 제품 KF 귀가 착용 있어 저는 구매 일단 호흡...  0.044757    0.160557  \n",
       "3                   마스크 루미카 쓰고 피부 하고 다른 사용하 착용 후기 색상  0.025210    0.160557  \n",
       "4  일단 쓰면 너무 얼굴 마스크 같아 ^^ 계속 숨쉬기 베이지 답답 이쁘 느낌 핑크 그... -0.003021    0.160557  "
      ],
      "text/html": [
       "<div>\n",
       "<style scoped>\n",
       "    .dataframe tbody tr th:only-of-type {\n",
       "        vertical-align: middle;\n",
       "    }\n",
       "\n",
       "    .dataframe tbody tr th {\n",
       "        vertical-align: top;\n",
       "    }\n",
       "\n",
       "    .dataframe thead th {\n",
       "        text-align: right;\n",
       "    }\n",
       "</style>\n",
       "<table border=\"1\" class=\"dataframe\">\n",
       "  <thead>\n",
       "    <tr style=\"text-align: right;\">\n",
       "      <th></th>\n",
       "      <th>상품명</th>\n",
       "      <th>상품가격</th>\n",
       "      <th>상품종류</th>\n",
       "      <th>리뷰제목</th>\n",
       "      <th>리뷰내용</th>\n",
       "      <th>별점</th>\n",
       "      <th>키워드</th>\n",
       "      <th>쿠팡리뷰감정지수</th>\n",
       "      <th>네이버지식인감정지수</th>\n",
       "    </tr>\n",
       "  </thead>\n",
       "  <tbody>\n",
       "    <tr>\n",
       "      <th>0</th>\n",
       "      <td>오르카 더 라이트 핏 새부리형 쿨링 마스크 + 필터 10개입</td>\n",
       "      <td>15,400원</td>\n",
       "      <td>filterchangeable</td>\n",
       "      <td>리뷰처럼 첫 느낌이 만족하네요...대박나세요|오르카 더 라이트 핏 새부리형 쿨링 마...</td>\n",
       "      <td>요즘 마스크는 생활의 필수품이 되었다.\\n이제는 마스크는 방역을 넘어서 패션으로 생...</td>\n",
       "      <td>4.5</td>\n",
       "      <td>마스크 오르카 제품 많이 일반 좀더 요즘 리뉴얼 피부 정말 이전 근데 착용 좋은 있...</td>\n",
       "      <td>0.112693</td>\n",
       "      <td>0.160557</td>\n",
       "    </tr>\n",
       "    <tr>\n",
       "      <th>1</th>\n",
       "      <td>씨에이치티 애니웨이 편한숨 비말 차단 마스크 대형 KF-AD</td>\n",
       "      <td>16,400원</td>\n",
       "      <td>filterchangeable</td>\n",
       "      <td>씨에이치티 애니웨이 편한숨 비말 차단 마스크 대형 KF-AD|숨쉬기 편해요|씨에이치...</td>\n",
       "      <td>kf마스크 찾는것 중에서\\n저렴하면서\\n상품평도 괜찮아서 구매\\n여름이 오고\\nkf...</td>\n",
       "      <td>4.5</td>\n",
       "      <td>마스크 숨쉬기 저는 힘있는 집에 일회용 저렴 분들 얼굴 덴탈 착용 KF94 여름이</td>\n",
       "      <td>0.029940</td>\n",
       "      <td>0.160557</td>\n",
       "    </tr>\n",
       "    <tr>\n",
       "      <th>2</th>\n",
       "      <td>엔 AIRGUARD 미세먼지 스포츠 마스크 성인용 KF94</td>\n",
       "      <td>15,250원</td>\n",
       "      <td>filterchangeable</td>\n",
       "      <td>KF 94 .국내산 호흡이 편하고 귀 아프지않음!|엔 AIRGUARD 미세먼지 스포...</td>\n",
       "      <td>추가리뷰 2020 02 21\\n미스크 살균가를 샀어요. UV C 램프가 속도가 빠르...</td>\n",
       "      <td>4.5</td>\n",
       "      <td>필터 마스크 같아 다른 그래서 정도 제품 KF 귀가 착용 있어 저는 구매 일단 호흡...</td>\n",
       "      <td>0.044757</td>\n",
       "      <td>0.160557</td>\n",
       "    </tr>\n",
       "    <tr>\n",
       "      <th>3</th>\n",
       "      <td>루미카 튜닝 마스크 솔리드 L</td>\n",
       "      <td>25,200원</td>\n",
       "      <td>filterchangeable</td>\n",
       "      <td>루미카 튜닝 마스크 솔리드 L|마스크가 꼭필요한시기에 딱 좋은 마스크발견했어요|강추...</td>\n",
       "      <td>피부에 뾰루지가 없어지질 않아서 이건 어떨까 하고 구입함\\n쓰고 휙 버리는 1회용 ...</td>\n",
       "      <td>4.5</td>\n",
       "      <td>마스크 루미카 쓰고 피부 하고 다른 사용하 착용 후기 색상</td>\n",
       "      <td>0.025210</td>\n",
       "      <td>0.160557</td>\n",
       "    </tr>\n",
       "    <tr>\n",
       "      <th>4</th>\n",
       "      <td>루미카 튜닝 마스크 솔리드 M</td>\n",
       "      <td>25,200원</td>\n",
       "      <td>filterchangeable</td>\n",
       "      <td>피부에좋고 말하기숨쉬기 편하고 경제적인 루미카 마스크|실제 사용하기에 편합니다|이가...</td>\n",
       "      <td>루미카 마스크 드디어 쿠팡 로켓에서도 살 수 있네요~\\n\\n연예인들이 쓰는 유명 마...</td>\n",
       "      <td>4.5</td>\n",
       "      <td>일단 쓰면 너무 얼굴 마스크 같아 ^^ 계속 숨쉬기 베이지 답답 이쁘 느낌 핑크 그...</td>\n",
       "      <td>-0.003021</td>\n",
       "      <td>0.160557</td>\n",
       "    </tr>\n",
       "  </tbody>\n",
       "</table>\n",
       "</div>"
      ]
     },
     "metadata": {},
     "execution_count": 33
    }
   ],
   "metadata": {}
  },
  {
   "cell_type": "markdown",
   "source": [
    "## 최종 데이터 셋 저장"
   ],
   "metadata": {}
  },
  {
   "cell_type": "code",
   "execution_count": 34,
   "source": [
    "final_df.to_csv('final_dataset.csv')"
   ],
   "outputs": [],
   "metadata": {}
  },
  {
   "cell_type": "code",
   "execution_count": null,
   "source": [],
   "outputs": [],
   "metadata": {}
  }
 ],
 "metadata": {
  "orig_nbformat": 4,
  "language_info": {
   "name": "python",
   "version": "3.8.3",
   "mimetype": "text/x-python",
   "codemirror_mode": {
    "name": "ipython",
    "version": 3
   },
   "pygments_lexer": "ipython3",
   "nbconvert_exporter": "python",
   "file_extension": ".py"
  },
  "kernelspec": {
   "name": "python3",
   "display_name": "Python 3.8.3 64-bit ('base': conda)"
  },
  "interpreter": {
   "hash": "20095610f18a3268815da2e700e8452467ae104b71ca0ca74a40afa76fc500a6"
  }
 },
 "nbformat": 4,
 "nbformat_minor": 2
}
