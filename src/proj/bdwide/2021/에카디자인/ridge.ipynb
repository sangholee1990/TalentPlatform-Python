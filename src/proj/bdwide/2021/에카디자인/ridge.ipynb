{
 "cells": [
  {
   "cell_type": "markdown",
   "source": [
    "## textdata linear regression example\n",
    "* https://viblo.asia/p/predict-independent-values-with-text-data-using-linear-regression-aWj5314eZ6m"
   ],
   "metadata": {}
  },
  {
   "cell_type": "markdown",
   "source": [
    "# 라이브러리 IMPORT."
   ],
   "metadata": {}
  },
  {
   "cell_type": "code",
   "execution_count": 10,
   "source": [
    "import pandas as pd\n",
    "from sklearn.feature_extraction.text import TfidfVectorizer\n",
    "from sklearn.feature_extraction import DictVectorizer\n",
    "from scipy.sparse import hstack\n",
    "from sklearn.linear_model import Ridge\n"
   ],
   "outputs": [],
   "metadata": {}
  },
  {
   "cell_type": "code",
   "execution_count": 11,
   "source": [
    "data = pd.read_csv('final_dataset.csv')"
   ],
   "outputs": [],
   "metadata": {}
  },
  {
   "cell_type": "code",
   "execution_count": 12,
   "source": [
    "data.head()"
   ],
   "outputs": [
    {
     "output_type": "execute_result",
     "data": {
      "text/plain": [
       "   Unnamed: 0                                상품명     상품가격              상품종류  \\\n",
       "0           0  오르카 더 라이트 핏 새부리형 쿨링 마스크 + 필터 10개입  15,400원  filterchangeable   \n",
       "1           1  씨에이치티 애니웨이 편한숨 비말 차단 마스크 대형 KF-AD  16,400원  filterchangeable   \n",
       "2           2   엔 AIRGUARD 미세먼지 스포츠 마스크 성인용 KF94  15,250원  filterchangeable   \n",
       "3           3                   루미카 튜닝 마스크 솔리드 L  25,200원  filterchangeable   \n",
       "4           4                   루미카 튜닝 마스크 솔리드 M  25,200원  filterchangeable   \n",
       "\n",
       "                                                리뷰제목  \\\n",
       "0  리뷰처럼 첫 느낌이 만족하네요...대박나세요|오르카 더 라이트 핏 새부리형 쿨링 마...   \n",
       "1  씨에이치티 애니웨이 편한숨 비말 차단 마스크 대형 KF-AD|숨쉬기 편해요|씨에이치...   \n",
       "2  KF 94 .국내산 호흡이 편하고 귀 아프지않음!|엔 AIRGUARD 미세먼지 스포...   \n",
       "3  루미카 튜닝 마스크 솔리드 L|마스크가 꼭필요한시기에 딱 좋은 마스크발견했어요|강추...   \n",
       "4  피부에좋고 말하기숨쉬기 편하고 경제적인 루미카 마스크|실제 사용하기에 편합니다|이가...   \n",
       "\n",
       "                                                리뷰내용   별점  \\\n",
       "0  요즘 마스크는 생활의 필수품이 되었다.\\n이제는 마스크는 방역을 넘어서 패션으로 생...  4.5   \n",
       "1  kf마스크 찾는것 중에서\\n저렴하면서\\n상품평도 괜찮아서 구매\\n여름이 오고\\nkf...  4.5   \n",
       "2  추가리뷰 2020 02 21\\n미스크 살균가를 샀어요. UV C 램프가 속도가 빠르...  4.5   \n",
       "3  피부에 뾰루지가 없어지질 않아서 이건 어떨까 하고 구입함\\n쓰고 휙 버리는 1회용 ...  4.5   \n",
       "4  루미카 마스크 드디어 쿠팡 로켓에서도 살 수 있네요~\\n\\n연예인들이 쓰는 유명 마...  4.5   \n",
       "\n",
       "                                                 키워드  쿠팡리뷰감정지수  네이버지식인감정지수  \n",
       "0  마스크 오르카 제품 많이 일반 좀더 요즘 리뉴얼 피부 정말 이전 근데 착용 좋은 있...  0.112693    0.160557  \n",
       "1      마스크 숨쉬기 저는 힘있는 집에 일회용 저렴 분들 얼굴 덴탈 착용 KF94 여름이  0.029940    0.160557  \n",
       "2  필터 마스크 같아 다른 그래서 정도 제품 KF 귀가 착용 있어 저는 구매 일단 호흡...  0.044757    0.160557  \n",
       "3                   마스크 루미카 쓰고 피부 하고 다른 사용하 착용 후기 색상  0.025210    0.160557  \n",
       "4  일단 쓰면 너무 얼굴 마스크 같아 ^^ 계속 숨쉬기 베이지 답답 이쁘 느낌 핑크 그... -0.003021    0.160557  "
      ],
      "text/html": [
       "<div>\n",
       "<style scoped>\n",
       "    .dataframe tbody tr th:only-of-type {\n",
       "        vertical-align: middle;\n",
       "    }\n",
       "\n",
       "    .dataframe tbody tr th {\n",
       "        vertical-align: top;\n",
       "    }\n",
       "\n",
       "    .dataframe thead th {\n",
       "        text-align: right;\n",
       "    }\n",
       "</style>\n",
       "<table border=\"1\" class=\"dataframe\">\n",
       "  <thead>\n",
       "    <tr style=\"text-align: right;\">\n",
       "      <th></th>\n",
       "      <th>Unnamed: 0</th>\n",
       "      <th>상품명</th>\n",
       "      <th>상품가격</th>\n",
       "      <th>상품종류</th>\n",
       "      <th>리뷰제목</th>\n",
       "      <th>리뷰내용</th>\n",
       "      <th>별점</th>\n",
       "      <th>키워드</th>\n",
       "      <th>쿠팡리뷰감정지수</th>\n",
       "      <th>네이버지식인감정지수</th>\n",
       "    </tr>\n",
       "  </thead>\n",
       "  <tbody>\n",
       "    <tr>\n",
       "      <th>0</th>\n",
       "      <td>0</td>\n",
       "      <td>오르카 더 라이트 핏 새부리형 쿨링 마스크 + 필터 10개입</td>\n",
       "      <td>15,400원</td>\n",
       "      <td>filterchangeable</td>\n",
       "      <td>리뷰처럼 첫 느낌이 만족하네요...대박나세요|오르카 더 라이트 핏 새부리형 쿨링 마...</td>\n",
       "      <td>요즘 마스크는 생활의 필수품이 되었다.\\n이제는 마스크는 방역을 넘어서 패션으로 생...</td>\n",
       "      <td>4.5</td>\n",
       "      <td>마스크 오르카 제품 많이 일반 좀더 요즘 리뉴얼 피부 정말 이전 근데 착용 좋은 있...</td>\n",
       "      <td>0.112693</td>\n",
       "      <td>0.160557</td>\n",
       "    </tr>\n",
       "    <tr>\n",
       "      <th>1</th>\n",
       "      <td>1</td>\n",
       "      <td>씨에이치티 애니웨이 편한숨 비말 차단 마스크 대형 KF-AD</td>\n",
       "      <td>16,400원</td>\n",
       "      <td>filterchangeable</td>\n",
       "      <td>씨에이치티 애니웨이 편한숨 비말 차단 마스크 대형 KF-AD|숨쉬기 편해요|씨에이치...</td>\n",
       "      <td>kf마스크 찾는것 중에서\\n저렴하면서\\n상품평도 괜찮아서 구매\\n여름이 오고\\nkf...</td>\n",
       "      <td>4.5</td>\n",
       "      <td>마스크 숨쉬기 저는 힘있는 집에 일회용 저렴 분들 얼굴 덴탈 착용 KF94 여름이</td>\n",
       "      <td>0.029940</td>\n",
       "      <td>0.160557</td>\n",
       "    </tr>\n",
       "    <tr>\n",
       "      <th>2</th>\n",
       "      <td>2</td>\n",
       "      <td>엔 AIRGUARD 미세먼지 스포츠 마스크 성인용 KF94</td>\n",
       "      <td>15,250원</td>\n",
       "      <td>filterchangeable</td>\n",
       "      <td>KF 94 .국내산 호흡이 편하고 귀 아프지않음!|엔 AIRGUARD 미세먼지 스포...</td>\n",
       "      <td>추가리뷰 2020 02 21\\n미스크 살균가를 샀어요. UV C 램프가 속도가 빠르...</td>\n",
       "      <td>4.5</td>\n",
       "      <td>필터 마스크 같아 다른 그래서 정도 제품 KF 귀가 착용 있어 저는 구매 일단 호흡...</td>\n",
       "      <td>0.044757</td>\n",
       "      <td>0.160557</td>\n",
       "    </tr>\n",
       "    <tr>\n",
       "      <th>3</th>\n",
       "      <td>3</td>\n",
       "      <td>루미카 튜닝 마스크 솔리드 L</td>\n",
       "      <td>25,200원</td>\n",
       "      <td>filterchangeable</td>\n",
       "      <td>루미카 튜닝 마스크 솔리드 L|마스크가 꼭필요한시기에 딱 좋은 마스크발견했어요|강추...</td>\n",
       "      <td>피부에 뾰루지가 없어지질 않아서 이건 어떨까 하고 구입함\\n쓰고 휙 버리는 1회용 ...</td>\n",
       "      <td>4.5</td>\n",
       "      <td>마스크 루미카 쓰고 피부 하고 다른 사용하 착용 후기 색상</td>\n",
       "      <td>0.025210</td>\n",
       "      <td>0.160557</td>\n",
       "    </tr>\n",
       "    <tr>\n",
       "      <th>4</th>\n",
       "      <td>4</td>\n",
       "      <td>루미카 튜닝 마스크 솔리드 M</td>\n",
       "      <td>25,200원</td>\n",
       "      <td>filterchangeable</td>\n",
       "      <td>피부에좋고 말하기숨쉬기 편하고 경제적인 루미카 마스크|실제 사용하기에 편합니다|이가...</td>\n",
       "      <td>루미카 마스크 드디어 쿠팡 로켓에서도 살 수 있네요~\\n\\n연예인들이 쓰는 유명 마...</td>\n",
       "      <td>4.5</td>\n",
       "      <td>일단 쓰면 너무 얼굴 마스크 같아 ^^ 계속 숨쉬기 베이지 답답 이쁘 느낌 핑크 그...</td>\n",
       "      <td>-0.003021</td>\n",
       "      <td>0.160557</td>\n",
       "    </tr>\n",
       "  </tbody>\n",
       "</table>\n",
       "</div>"
      ]
     },
     "metadata": {},
     "execution_count": 12
    }
   ],
   "metadata": {}
  },
  {
   "cell_type": "markdown",
   "source": [
    "### 데이터 정제"
   ],
   "metadata": {}
  },
  {
   "cell_type": "code",
   "execution_count": 13,
   "source": [
    "def cleanse_data(data):\n",
    "    data['키워드'].str.lower()\n",
    "    data['키워드'].fillna('nan', inplace=True)\n",
    "    data['키워드'].replace('[^a-zA-Z0-9]', ' ', regex = True)\n",
    "    data[\"상품가격\"].replace(\"원\", \"\", inplace=True, regex = True)\n",
    "    data[\"상품가격\"].replace(\",\", \"\", inplace=True, regex = True)\n",
    "    data['상품명'].fillna('nan', inplace=True)\n",
    "    data['상품종류'].fillna('nan', inplace=True)"
   ],
   "outputs": [],
   "metadata": {}
  },
  {
   "cell_type": "code",
   "execution_count": 14,
   "source": [
    "cleanse_data(data)"
   ],
   "outputs": [],
   "metadata": {}
  },
  {
   "cell_type": "markdown",
   "source": [
    "### 훈련 & 검증 데이터 셋 분리 "
   ],
   "metadata": {}
  },
  {
   "cell_type": "code",
   "execution_count": 15,
   "source": [
    "from sklearn.model_selection import train_test_split\n",
    "x_train, x_test, y_train, y_test = train_test_split(\n",
    "    data.drop('별점',axis=1), data['별점'], test_size=0.4, random_state=42)"
   ],
   "outputs": [],
   "metadata": {}
  },
  {
   "cell_type": "markdown",
   "source": [
    "## 피쳐 전처리\n",
    "* data['상품명'] tfidfVectorizer 로 벡터화\n",
    "* data['키워드'] tfidfVectorizer 로 벡터화\n",
    "* data['상품종류'] DictVectorizer 로 벡터화\n",
    "* data['상품가격'] 데이터 형태 변환 1d -> 2d\n",
    "* data['쿠팡리뷰감정지수'] 데이터 형태 변환 1d -> 2d"
   ],
   "metadata": {}
  },
  {
   "cell_type": "code",
   "execution_count": 16,
   "source": [
    "def preprocess_features(data):\n",
    "    # Convert a collection of raw documents to a matrix of TF-IDF features with TfidfVectorizer\n",
    "    vectorizer = TfidfVectorizer(min_df=2, max_features = 10)\n",
    "    product_name = vectorizer.fit_transform(data['상품명']) \n",
    "\n",
    "    vectorizer = TfidfVectorizer(min_df=2, max_features = 10)\n",
    "    keyowrds = vectorizer.fit_transform(data['키워드']) \n",
    "    \n",
    "    enc = DictVectorizer()\n",
    "    category = enc.fit_transform(data[['상품종류']].to_dict('records'))\n",
    "    \n",
    "    data[\"상품가격\"] = data[\"상품가격\"].astype(float)\n",
    "    price = data[\"상품가격\"].to_numpy().reshape((len(data[\"상품가격\"]),1)) \n",
    "\n",
    "\n",
    "    data[\"쿠팡리뷰감정지수\"] = data[\"쿠팡리뷰감정지수\"].astype(float)\n",
    "    coupang_sentinment = data[\"쿠팡리뷰감정지수\"].to_numpy().reshape((len(data[\"쿠팡리뷰감정지수\"]),1))\n",
    "\n",
    "\n",
    "    data[\"네이버지식인감정지수\"] = data[\"네이버지식인감정지수\"].astype(float)\n",
    "    naver_sentiment = data[\"네이버지식인감정지수\"].to_numpy().reshape((len(data[\"네이버지식인감정지수\"]),1)) \n",
    "    x = hstack([product_name, keyowrds, category, price, coupang_sentinment, naver_sentiment])\n",
    "    return x\n"
   ],
   "outputs": [],
   "metadata": {}
  },
  {
   "cell_type": "code",
   "execution_count": null,
   "source": [
    "x_train = preprocess_features(x_train)\n",
    "x_test = preprocess_features(x_test)"
   ],
   "outputs": [],
   "metadata": {}
  },
  {
   "cell_type": "markdown",
   "source": [
    "## 학습 및 예측"
   ],
   "metadata": {}
  },
  {
   "cell_type": "code",
   "execution_count": 10,
   "source": [
    "# Classifier: \n",
    "clf = Ridge(alpha=1.0, random_state=241)\n",
    "\n",
    "# The target value (algorithm has to predict) is 별점\n",
    "y = data['별점']\n",
    "\n",
    "# train model on data\n",
    "clf.fit(x_train, y_train) \n",
    "rslt = clf.predict(x_test)"
   ],
   "outputs": [],
   "metadata": {}
  },
  {
   "cell_type": "code",
   "execution_count": 11,
   "source": [
    "rslt"
   ],
   "outputs": [
    {
     "output_type": "execute_result",
     "data": {
      "text/plain": [
       "array([4.4920396 , 4.46263417, 4.40510181, 4.27633891, 4.49021318,\n",
       "       4.49386603, 4.35049173, 4.25770938, 4.36656426, 4.4317676 ,\n",
       "       4.34775209, 4.59249293, 4.42263549, 4.53660435, 4.59249293,\n",
       "       4.58664837, 4.3693039 , 4.17880786, 4.17880786, 4.32400858])"
      ]
     },
     "metadata": {},
     "execution_count": 11
    }
   ],
   "metadata": {}
  },
  {
   "cell_type": "markdown",
   "source": [
    "## 성능 검증"
   ],
   "metadata": {}
  },
  {
   "cell_type": "code",
   "execution_count": 12,
   "source": [
    "\n",
    "from sklearn.metrics import mean_squared_error\n",
    "\n",
    "rms = mean_squared_error(y_test, rslt, squared=False)\n",
    "rms"
   ],
   "outputs": [
    {
     "output_type": "execute_result",
     "data": {
      "text/plain": [
       "0.2572783969835136"
      ]
     },
     "metadata": {},
     "execution_count": 12
    }
   ],
   "metadata": {}
  },
  {
   "cell_type": "markdown",
   "source": [],
   "metadata": {}
  }
 ],
 "metadata": {
  "orig_nbformat": 4,
  "language_info": {
   "name": "python",
   "version": "3.8.3",
   "mimetype": "text/x-python",
   "codemirror_mode": {
    "name": "ipython",
    "version": 3
   },
   "pygments_lexer": "ipython3",
   "nbconvert_exporter": "python",
   "file_extension": ".py"
  },
  "kernelspec": {
   "name": "python3",
   "display_name": "Python 3.8.3 64-bit ('base': conda)"
  },
  "interpreter": {
   "hash": "20095610f18a3268815da2e700e8452467ae104b71ca0ca74a40afa76fc500a6"
  }
 },
 "nbformat": 4,
 "nbformat_minor": 2
}
