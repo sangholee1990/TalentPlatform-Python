{
 "cells": [
  {
   "cell_type": "code",
   "execution_count": 1,
   "id": "d453fc79-3866-4541-96a1-a6b09c317c4c",
   "metadata": {},
   "outputs": [
    {
     "name": "stdout",
     "output_type": "stream",
     "text": [
      "found 1 faces!\n",
      "oblong. face length is largest and jawlines are not angular\n"
     ]
    }
   ],
   "source": [
    "#importing the libraries\n",
    "import numpy as np #for mathematical calculations\n",
    "import cv2 #for face detection and other image operations\n",
    "import dlib #for detection of facial landmarks ex:nose,jawline,eyes\n",
    "from sklearn.cluster import KMeans #for clustering\n",
    "from matplotlib import pyplot as plt\n",
    "\n",
    "#load the image\n",
    "imagepath = \"./INPUT/C7.jpg\"\n",
    "#haarcascade for detecting faces\n",
    "# link = https://github.com/opencv/opencv/tree/master/data/haarcascades\n",
    "face_cascade_path = \"./haarcascade_frontalface_default.xml\"\n",
    "#.dat file for detecting facial landmarks\n",
    "#download file path = http://dlib.net/files/shape_predictor_68_face_landmarks.dat.bz2\n",
    "predictor_path = \"./shape_predictor_68_face_landmarks.dat\"\n",
    "\n",
    "#create the haar cascade for detecting face and smile\n",
    "faceCascade = cv2.CascadeClassifier(face_cascade_path)\n",
    "\n",
    "#create the landmark predictor\n",
    "predictor = dlib.shape_predictor(predictor_path)\n",
    "\n",
    "#read the image\n",
    "image = cv2.imread(imagepath)\n",
    "\n",
    "#resizing the image to 000 cols nd 500 rows\n",
    "image = cv2.resize(image, (500, 500)) \n",
    "#making another copy\n",
    "original = image.copy()\n",
    "\n",
    "#convert the image to grayscale\n",
    "gray = cv2.cvtColor(image, cv2.COLOR_BGR2GRAY)\n",
    "\n",
    "#apply a Gaussian blur with a 3 x 3 kernel to help remove high frequency noise\n",
    "gauss = cv2.GaussianBlur(gray,(3,3), 0)\n",
    "\n",
    "#Detect faces in the image\n",
    "faces = faceCascade.detectMultiScale(\n",
    "    gauss,\n",
    "    scaleFactor=1.05,\n",
    "    minNeighbors=5,\n",
    "    minSize=(100,100),\n",
    "    flags=cv2.CASCADE_SCALE_IMAGE\n",
    "    )\n",
    "#Detect faces in the image\n",
    "print(\"found {0} faces!\".format(len(faces)) )\n",
    "\n",
    "for (x,y,w,h) in faces:\n",
    "    #draw a rectangle around the faces\n",
    "    cv2.rectangle(image, (x,y), (x+w,y+h), (0,255,0), 2)\n",
    "    #converting the opencv rectangle coordinates to Dlib rectangle\n",
    "    dlib_rect = dlib.rectangle(int(x), int(y), int(x+w), int(y+h))\n",
    "    #detecting landmarks\n",
    "    detected_landmarks = predictor(image, dlib_rect).parts()\n",
    "    #converting to np matrix\n",
    "    landmarks = np.matrix([[p.x,p.y] for p in detected_landmarks])\n",
    "    #landmarks array contains indices of landmarks.\n",
    "    \"\"\"\n",
    "    #copying the image so we can we side by side\n",
    "    landmark = image.copy()\n",
    "    for idx, point in enumerate(landmarks):\n",
    "            pos = (point[0,0], point[0,1] )\n",
    "            #annotate the positions\n",
    "            cv2.putText(landmark,str(idx),pos,fontFace=cv2.FONT_HERSHEY_SIMPLEX,fontScale=0.4,color=(0,0,255) )\n",
    "            #draw points on the landmark positions \n",
    "            cv2.circle(landmark, pos, 3, color=(0,255,255))\n",
    "    \n",
    "cv2.imshow(\"Landmarks by DLib\", landmark)\n",
    "\"\"\"\n",
    "#making another copy  for showing final results\n",
    "results = original.copy()\n",
    "\n",
    "for (x,y,w,h) in faces:\n",
    "    #draw a rectangle around the faces\n",
    "    cv2.rectangle(results, (x,y), (x+w,y+h), (0,255,0), 2)\n",
    "    #making temporary copy\n",
    "    temp = original.copy()\n",
    "    #getting area of interest from image i.e., forehead (25% of face)\n",
    "    forehead = temp[y:y+int(0.25*h), x:x+w]\n",
    "    rows,cols, bands = forehead.shape\n",
    "    X = forehead.reshape(rows*cols,bands)\n",
    "    \"\"\"\n",
    "    Applying kmeans clustering algorithm for forehead with 2 clusters \n",
    "    this clustering differentiates between hair and skin (thats why 2 clusters)\n",
    "    \"\"\"\n",
    "    #kmeans\n",
    "    kmeans = KMeans(n_clusters=2,init='k-means++',max_iter=300,n_init=10, random_state=0)\n",
    "    y_kmeans = kmeans.fit_predict(X)\n",
    "    for i in range(0,rows):\n",
    "        for j in range(0,cols):\n",
    "            if y_kmeans[i*cols+j]==True:\n",
    "                forehead[i][j]=[255,255,255]\n",
    "            if y_kmeans[i*cols+j]==False:\n",
    "                forehead[i][j]=[0,0,0]\n",
    "    #Steps to get the length of forehead\n",
    "    #1.get midpoint of the forehead\n",
    "    #2.travel left side and right side\n",
    "    #the idea here is to detect the corners of forehead which is the hair.\n",
    "    #3.Consider the point which has change in pixel value (which is hair)\n",
    "    forehead_mid = [int(cols/2), int(rows/2) ] #midpoint of forehead\n",
    "    lef=0 \n",
    "    #gets the value of forehead point\n",
    "    pixel_value = forehead[forehead_mid[1],forehead_mid[0] ]\n",
    "    for i in range(0,cols):\n",
    "        #enters if when change in pixel color is detected\n",
    "        if forehead[forehead_mid[1],forehead_mid[0]-i].all()!=pixel_value.all():\n",
    "            lef=forehead_mid[0]-i\n",
    "            break;\n",
    "    left = [lef,forehead_mid[1]]\n",
    "    rig=0\n",
    "    for i in range(0,cols):\n",
    "        #enters if when change in pixel color is detected\n",
    "        if forehead[forehead_mid[1],forehead_mid[0]+i].all()!=pixel_value.all():\n",
    "            rig = forehead_mid[0]+i\n",
    "            break;\n",
    "    right = [rig,forehead_mid[1]]\n",
    "    \n",
    "#drawing line1 on forehead with circles\n",
    "#specific landmarks are used. \n",
    "line1 = np.subtract(right+y,left+x)[0]\n",
    "cv2.line(results, tuple(x+left), tuple(y+right), color=(0,255,0), thickness = 2)\n",
    "cv2.putText(results,' Line 1',tuple(x+left),fontFace=cv2.FONT_HERSHEY_SIMPLEX,fontScale=1,color=(0,255,0), thickness=2)\n",
    "cv2.circle(results, tuple(x+left), 5, color=(255,0,0), thickness=-1)    \n",
    "cv2.circle(results, tuple(y+right), 5, color=(255,0,0), thickness=-1)        \n",
    "\n",
    "#drawing line 2 with circles\n",
    "linepointleft = (landmarks[1,0],landmarks[1,1])\n",
    "linepointright = (landmarks[15,0],landmarks[15,1])\n",
    "line2 = np.subtract(linepointright,linepointleft)[0]\n",
    "cv2.line(results, linepointleft,linepointright,color=(0,255,0), thickness = 2)\n",
    "cv2.putText(results,' Line 2',linepointleft,fontFace=cv2.FONT_HERSHEY_SIMPLEX,fontScale=1,color=(0,255,0), thickness=2)\n",
    "cv2.circle(results, linepointleft, 5, color=(255,0,0), thickness=-1)    \n",
    "cv2.circle(results, linepointright, 5, color=(255,0,0), thickness=-1)    \n",
    "\n",
    "#drawing line 3 with circles\n",
    "linepointleft = (landmarks[3,0],landmarks[3,1])\n",
    "linepointright = (landmarks[13,0],landmarks[13,1])\n",
    "line3 = np.subtract(linepointright,linepointleft)[0]\n",
    "cv2.line(results, linepointleft,linepointright,color=(0,255,0), thickness = 2)\n",
    "cv2.putText(results,' Line 3',linepointleft,fontFace=cv2.FONT_HERSHEY_SIMPLEX,fontScale=1,color=(0,255,0), thickness=2)\n",
    "cv2.circle(results, linepointleft, 5, color=(255,0,0), thickness=-1)    \n",
    "cv2.circle(results, linepointright, 5, color=(255,0,0), thickness=-1)    \n",
    "\n",
    "#drawing line 4 with circles\n",
    "linepointbottom = (landmarks[8,0],landmarks[8,1])\n",
    "linepointtop = (landmarks[8,0],y)\n",
    "line4 = np.subtract(linepointbottom,linepointtop)[1]\n",
    "cv2.line(results,linepointtop,linepointbottom,color=(0,255,0), thickness = 2)\n",
    "cv2.putText(results,' Line 4',linepointbottom,fontFace=cv2.FONT_HERSHEY_SIMPLEX,fontScale=1,color=(0,255,0), thickness=2)\n",
    "cv2.circle(results, linepointtop, 5, color=(255,0,0), thickness=-1)    \n",
    "cv2.circle(results, linepointbottom, 5, color=(255,0,0), thickness=-1)    \n",
    "#print(line1,line2,line3,line4)\n",
    "\n",
    "similarity = np.std([line1,line2,line3])\n",
    "#print(\"similarity=\",similarity)\n",
    "ovalsimilarity = np.std([line2,line4])\n",
    "#print('diam=',ovalsimilarity)\n",
    "\n",
    "#we use arcustangens for angle calculation\n",
    "ax,ay = landmarks[3,0],landmarks[3,1]\n",
    "bx,by = landmarks[4,0],landmarks[4,1]\n",
    "cx,cy = landmarks[5,0],landmarks[5,1]\n",
    "dx,dy = landmarks[6,0],landmarks[6,1]\n",
    "import math\n",
    "from math import degrees\n",
    "alpha0 = math.atan2(cy-ay,cx-ax)\n",
    "alpha1 = math.atan2(dy-by,dx-bx)\n",
    "alpha = alpha1-alpha0\n",
    "angle = abs(degrees(alpha))\n",
    "angle = 180-angle\n",
    "\n",
    "\n",
    "for i in range(1):\n",
    "    if similarity<10:\n",
    "        if angle<160:\n",
    "            print('squared shape.Jawlines are more angular')\n",
    "            break\n",
    "        else:\n",
    "            print('round shape.Jawlines are not that angular')\n",
    "            break\n",
    "    if line3>line1:\n",
    "        if angle<160:\n",
    "            print('triangle shape.Forehead is more wider') \n",
    "            break\n",
    "            \n",
    "    if ovalsimilarity<10:\n",
    "        print('diamond shape. line2 & line4 are similar and line2 is slightly larger')\n",
    "        break\n",
    "    if line4 > line2:\n",
    "        if angle<160:\n",
    "            print('rectangular. face length is largest and jawline are angular ')\n",
    "            break;\n",
    "        else:\n",
    "            print('oblong. face length is largest and jawlines are not angular')\n",
    "            break;\n",
    "        \n",
    "    print(\"Damn! Contact the developer\")\n",
    "\n",
    "#output = np.concatenate((original,results), axis=1)\n",
    "#cv2.imshow('output',output)"
   ]
  },
  {
   "cell_type": "code",
   "execution_count": 4,
   "id": "52fa8f9f-fc91-4483-ad99-80952dc60cea",
   "metadata": {},
   "outputs": [
    {
     "data": {
      "image/png": "[encoded data removed]",
      "text/plain": [
       "<Figure size 432x288 with 1 Axes>"
      ]
     },
     "metadata": {
      "needs_background": "light"
     },
     "output_type": "display_data"
    }
   ],
   "source": [
    "from matplotlib import pyplot as plt\n",
    "\n",
    "output = np.concatenate((original,results), axis=1)\n",
    "\n",
    "plt.imshow(results)\n",
    "#plt.show()\n",
    "plt.savefig(\"./output.png\")"
   ]
  },
  {
   "cell_type": "code",
   "execution_count": 3,
   "id": "b58b2335-5582-43d1-92fd-51965d85ec17",
   "metadata": {},
   "outputs": [],
   "source": [
    "#  Necessary import\n",
    "import cv2\n",
    "import dlib\n",
    "import numpy as np\n",
    "import os\n",
    "import imutils"
   ]
  },
  {
   "cell_type": "code",
   "execution_count": 4,
   "id": "8b340cd6-fc6d-48d0-8ad1-07f2d96ef368",
   "metadata": {},
   "outputs": [],
   "source": [
    "#  Set the directory \n",
    "path = './INPUT/'\n",
    "#  Initialize color  [color_type] = (Blue, Green, Red)\n",
    "color_blue = (239,207,137)\n",
    "color_cyan = (255,200,0)\n",
    "color_black = (0, 0, 0)"
   ]
  },
  {
   "cell_type": "code",
   "execution_count": 5,
   "id": "e7878f00-ee5f-42b7-94ca-4f1051f4c288",
   "metadata": {},
   "outputs": [],
   "source": [
    "#  Load the image and size it , Convert it to grayscale \n",
    "img= cv2.imread('./INPUT/C7.jpg')\n",
    "img = imutils.resize(img, width = 500)\n",
    "gray=cv2.cvtColor(img, cv2.COLOR_BGR2GRAY)"
   ]
  },
  {
   "cell_type": "code",
   "execution_count": 6,
   "id": "0836f1ab-3fe3-465b-aac7-e2998d829aa8",
   "metadata": {},
   "outputs": [
    {
     "name": "stdout",
     "output_type": "stream",
     "text": [
      "rectangles[[(182, 125) (311, 254)]]\n",
      "Number of faces detected:  1\n"
     ]
    },
    {
     "data": {
      "text/plain": [
       "'\\n#  Use for Loop to extract specific coordinates (x1,x2,y1,y2)\\nfor face in faces:\\n  x1 = face.left()\\n  y1 = face.top()\\n  x2 = face.right()\\n  y2 = face.bottom()\\n  #  Draw a rectangle around the detected face\\n  cv2.rectangle(img, (x1,y1), (x2,y2),(0,255,0),3)\\ncv2.imshow(\"image\", img)\\ncv2.waitKey(0)\\ncv2.destroyAllWindows()\\n'"
      ]
     },
     "execution_count": 6,
     "metadata": {},
     "output_type": "execute_result"
    }
   ],
   "source": [
    "#  initialization dlib Face detector \n",
    "detector = dlib.get_frontal_face_detector()\n",
    "\"\"\"\n",
    "Detect faces in grayscale images and create an object - Stores a list of coordinates for the bounding rectangle\n",
    "In the second parameter “1” Indicates that the image should be sampled up 1 Time . \n",
    "This makes the image bigger , And allow us to detect more faces\n",
    "\"\"\"\n",
    "faces = detector(gray, 1)\n",
    "#  Print the coordinates of the bounding rectangle \n",
    "print(faces)\n",
    "print(\"Number of faces detected: \", len(faces))\n",
    "\"\"\"\n",
    "#  Use for Loop to extract specific coordinates (x1,x2,y1,y2)\n",
    "for face in faces:\n",
    "  x1 = face.left()\n",
    "  y1 = face.top()\n",
    "  x2 = face.right()\n",
    "  y2 = face.bottom()\n",
    "  #  Draw a rectangle around the detected face\n",
    "  cv2.rectangle(img, (x1,y1), (x2,y2),(0,255,0),3)\n",
    "cv2.imshow(\"image\", img)\n",
    "cv2.waitKey(0)\n",
    "cv2.destroyAllWindows()\n",
    "\"\"\""
   ]
  },
  {
   "cell_type": "code",
   "execution_count": 7,
   "id": "8616cb1b-97b2-4557-9bcd-712c7cdb6fef",
   "metadata": {},
   "outputs": [],
   "source": [
    "#  File path \n",
    "p = \"shape_predictor_68_face_landmarks.dat\"\n",
    "#  initialization dlib Predictor of \n",
    "predictor = dlib.shape_predictor(p)\n",
    "#  Use predictors to get shapes \n",
    "for face in faces:\n",
    "    landmarks = predictor(gray, face)\n",
    "    # for n in range(0,68):\n",
    "    #     x = landmarks.part(n).x\n",
    "    #     y = landmarks.part(n).y\n",
    "    #     img_landmark = cv2.circle(img, (x, y), 4, (0, 0, 255), -1)"
   ]
  },
  {
   "cell_type": "code",
   "execution_count": 8,
   "id": "ae84749c-d405-4a4f-83c2-8eb790556fb6",
   "metadata": {},
   "outputs": [
    {
     "ename": "NameError",
     "evalue": "name 'choice2' is not defined",
     "output_type": "error",
     "traceback": [
      "\u001b[1;31m---------------------------------------------------------------------------\u001b[0m",
      "\u001b[1;31mNameError\u001b[0m                                 Traceback (most recent call last)",
      "\u001b[1;32m~\\AppData\\Local\\Temp/ipykernel_3660/1317892412.py\u001b[0m in \u001b[0;36m<module>\u001b[1;34m\u001b[0m\n\u001b[0;32m     30\u001b[0m     \u001b[0mfmask_e\u001b[0m \u001b[1;33m=\u001b[0m \u001b[0mnp\u001b[0m\u001b[1;33m.\u001b[0m\u001b[0marray\u001b[0m\u001b[1;33m(\u001b[0m\u001b[0mfmask_e\u001b[0m\u001b[1;33m,\u001b[0m \u001b[0mdtype\u001b[0m\u001b[1;33m=\u001b[0m\u001b[0mnp\u001b[0m\u001b[1;33m.\u001b[0m\u001b[0mint32\u001b[0m\u001b[1;33m)\u001b[0m\u001b[1;33m\u001b[0m\u001b[1;33m\u001b[0m\u001b[0m\n\u001b[0;32m     31\u001b[0m     \u001b[0mmask_type\u001b[0m \u001b[1;33m=\u001b[0m \u001b[1;33m{\u001b[0m\u001b[1;36m1\u001b[0m\u001b[1;33m:\u001b[0m \u001b[0mfmask_a\u001b[0m\u001b[1;33m,\u001b[0m \u001b[1;36m2\u001b[0m\u001b[1;33m:\u001b[0m \u001b[0mfmask_c\u001b[0m\u001b[1;33m,\u001b[0m \u001b[1;36m3\u001b[0m\u001b[1;33m:\u001b[0m \u001b[0mfmask_e\u001b[0m\u001b[1;33m}\u001b[0m\u001b[1;33m\u001b[0m\u001b[1;33m\u001b[0m\u001b[0m\n\u001b[1;32m---> 32\u001b[1;33m     \u001b[0mmask_type\u001b[0m\u001b[1;33m[\u001b[0m\u001b[0mchoice2\u001b[0m\u001b[1;33m]\u001b[0m\u001b[1;33m\u001b[0m\u001b[1;33m\u001b[0m\u001b[0m\n\u001b[0m\u001b[0;32m     33\u001b[0m     \u001b[1;31m#  Change parameters [mask_type] and color_type For various combinations\u001b[0m\u001b[1;33m\u001b[0m\u001b[1;33m\u001b[0m\u001b[1;33m\u001b[0m\u001b[0m\n\u001b[0;32m     34\u001b[0m     \u001b[0mimg2\u001b[0m \u001b[1;33m=\u001b[0m \u001b[0mcv2\u001b[0m\u001b[1;33m.\u001b[0m\u001b[0mpolylines\u001b[0m\u001b[1;33m(\u001b[0m\u001b[0mimg\u001b[0m\u001b[1;33m,\u001b[0m \u001b[1;33m[\u001b[0m\u001b[0mmask_type\u001b[0m\u001b[1;33m[\u001b[0m\u001b[0mchoice2\u001b[0m\u001b[1;33m]\u001b[0m\u001b[1;33m]\u001b[0m\u001b[1;33m,\u001b[0m \u001b[1;32mTrue\u001b[0m\u001b[1;33m,\u001b[0m \u001b[0mchoice1\u001b[0m\u001b[1;33m,\u001b[0m \u001b[0mthickness\u001b[0m\u001b[1;33m=\u001b[0m\u001b[1;36m2\u001b[0m\u001b[1;33m,\u001b[0m \u001b[0mlineType\u001b[0m\u001b[1;33m=\u001b[0m\u001b[0mcv2\u001b[0m\u001b[1;33m.\u001b[0m\u001b[0mLINE_8\u001b[0m\u001b[1;33m)\u001b[0m\u001b[1;33m\u001b[0m\u001b[1;33m\u001b[0m\u001b[0m\n",
      "\u001b[1;31mNameError\u001b[0m: name 'choice2' is not defined"
     ]
    }
   ],
   "source": [
    "points = []\n",
    "for i in range(1, 16):\n",
    "    point = [landmarks.part(i).x, landmarks.part(i).y]\n",
    "    points.append(point)\n",
    "    \n",
    "    # print(points).\n",
    "    #  wide , High coverage masks \n",
    "    mask_a = [((landmarks.part(42).x), (landmarks.part(15).y)),\n",
    "              ((landmarks.part(27).x), (landmarks.part(27).y)),\n",
    "              ((landmarks.part(39).x), (landmarks.part(1).y))]\n",
    "    #  wide , In the middle of the mask \n",
    "    mask_c = [((landmarks.part(29).x), (landmarks.part(29).y))]\n",
    "    #  wide 、 Low coverage masks \n",
    "    mask_e = [((landmarks.part(35).x), (landmarks.part(35).y)),\n",
    "              ((landmarks.part(34).x), (landmarks.part(34).y)),\n",
    "              ((landmarks.part(33).x), (landmarks.part(33).y)),\n",
    "              ((landmarks.part(32).x), (landmarks.part(32).y)),\n",
    "              ((landmarks.part(31).x), (landmarks.part(31).y))]\n",
    "    fmask_a = points + mask_a\n",
    "    fmask_c = points + mask_c\n",
    "    fmask_e = points + mask_e\n",
    "    # mask_type = {1: fmask_a, 2: fmask_c, 3: fmask_e}\n",
    "    # mask_type[choice2]\n",
    "    #  Use Python OpenCV - cv2.polylines() Method is [mask_type] Draw the mask outline :\n",
    "    # fmask_a = wide, high coverage mask,\n",
    "    # fmask_c = wide, medium coverage mask,\n",
    "    # fmask_e  = wide, low coverage mask\n",
    "    fmask_a = np.array(fmask_a, dtype=np.int32)\n",
    "    fmask_c = np.array(fmask_c, dtype=np.int32)\n",
    "    fmask_e = np.array(fmask_e, dtype=np.int32)\n",
    "    mask_type = {1: fmask_a, 2: fmask_c, 3: fmask_e}\n",
    "    mask_type[choice2]\n",
    "    #  Change parameters [mask_type] and color_type For various combinations \n",
    "    img2 = cv2.polylines(img, [mask_type[choice2]], True, choice1, thickness=2, lineType=cv2.LINE_8)\n",
    "    #  Use Python OpenCV - cv2.fillPoly() How to fill the mask \n",
    "    #  Change parameters [mask_type] and color_type For various combinations \n",
    "    img3 = cv2.fillPoly(img2, [mask_type[choice2]], choice1, lineType=cv2.LINE_AA)\n",
    "# cv2.imshow(\"image with mask outline\", img2)\n",
    "cv2.imshow(\"image with mask\", img3)\n",
    "#  Save the output file for the test \n",
    "outputNameofImage = \"imagetest.jpg\"\n",
    "print(\"Saving output image to\", outputNameofImage)\n",
    "cv2.imwrite(outputNameofImage, img3)"
   ]
  },
  {
   "cell_type": "code",
   "execution_count": 10,
   "id": "079fbaeb-b53e-4805-875b-9875bc858f6c",
   "metadata": {},
   "outputs": [
    {
     "data": {
      "text/plain": [
       "rectangles[[(182, 125) (311, 254)]]"
      ]
     },
     "execution_count": 10,
     "metadata": {},
     "output_type": "execute_result"
    }
   ],
   "source": [
    "faces"
   ]
  },
  {
   "cell_type": "code",
   "execution_count": 29,
   "id": "68917eb4-6f91-4876-8f84-d151d51cd788",
   "metadata": {},
   "outputs": [],
   "source": [
    "len(landmarks.parts())"
   ]
  },
  {
   "cell_type": "code",
   "execution_count": 30,
   "id": "ecef06ec-352c-4697-bdda-6c595a4ad03d",
   "metadata": {},
   "outputs": [
    {
     "name": "stdin",
     "output_type": "stream",
     "text": [
      "Please select the choice of mask color\n",
      "Enter 1 for blue\n",
      "Enter 2 for black:\n",
      " 1\n"
     ]
    },
    {
     "name": "stdout",
     "output_type": "stream",
     "text": [
      "You selected mask color = blue\n"
     ]
    },
    {
     "name": "stdin",
     "output_type": "stream",
     "text": [
      "Please enter choice of mask type coverage \n",
      "Enter 1 for high \n",
      "Enter 2 for medium \n",
      "Enter 3 for low :\n",
      " 1\n"
     ]
    },
    {
     "name": "stdout",
     "output_type": "stream",
     "text": [
      "You chosen wide, high coverage mask\n"
     ]
    }
   ],
   "source": [
    "#  Use input() Function to obtain the mask type and mask color according to user needs \n",
    "choice1 = input(\"Please select the choice of mask color\\nEnter 1 for blue\\nEnter 2 for black:\\n\")\n",
    "choice1 = int(choice1)\n",
    "if choice1 == 1:\n",
    "    choice1 = color_blue\n",
    "    print('You selected mask color = blue')\n",
    "elif choice1 == 2:\n",
    "    choice1 = color_black\n",
    "    print('You selected mask color = black')\n",
    "else:\n",
    "    print(\"invalid selection, please select again.\")\n",
    "    input(\"Please select the choice of mask color\\nEnter 1 for blue\\nEnter 2 for black :\\n\")\n",
    "choice2 = input(\"Please enter choice of mask type coverage \\nEnter 1 for high \\nEnter 2 for medium \\nEnter 3 for low :\\n\")\n",
    "choice2 = int(choice2)\n",
    "if choice2 == 1:\n",
    "    # choice2 = fmask_a\n",
    "    print(f'You chosen wide, high coverage mask')\n",
    "elif choice2 == 2:\n",
    "    # choice2 = fmask_c\n",
    "    print(f'You chosen wide, medium coverage mask')\n",
    "elif choice2 == 3:\n",
    "    # choice2 = fmask_e\n",
    "    print(f'You chosen wide, low coverage mask')\n",
    "else:\n",
    "    print(\"invalid selection, please select again.\")\n",
    "    input(\"Please enter choice of mask type coverage \\nEnter 1 for high \\nEnter 2 for medium \\nEnter 3 for low :\\n\")\n",
    "# print(choice2)"
   ]
  }
 ],
 "metadata": {
  "kernelspec": {
   "display_name": "Python 3 (ipykernel)",
   "language": "python",
   "name": "python3"
  },
  "language_info": {
   "codemirror_mode": {
    "name": "ipython",
    "version": 3
   },
   "file_extension": ".py",
   "mimetype": "text/x-python",
   "name": "python",
   "nbconvert_exporter": "python",
   "pygments_lexer": "ipython3",
   "version": "3.8.11"
  }
 },
 "nbformat": 4,
 "nbformat_minor": 5
}
