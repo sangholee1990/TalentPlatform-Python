{
 "cells": [
  {
   "cell_type": "markdown",
   "metadata": {},
   "source": [
    "# 판매 데이터 분석\r\n"
   ]
  },
  {
   "cell_type": "code",
   "execution_count": 1,
   "metadata": {},
   "outputs": [],
   "source": [
    "import pandas as pd\r\n",
    "df = pd.read_excel('orderdata.xlsx')\r\n",
    "desired_cols = ['Customer Shipment Date', 'Quantity','Product Amount','Shipment To State']\r\n",
    "df = df[desired_cols]"
   ]
  },
  {
   "cell_type": "code",
   "execution_count": 2,
   "metadata": {},
   "outputs": [
    {
     "data": {
      "text/plain": [
       "Customer Shipment Date    datetime64[ns]\n",
       "Quantity                           int64\n",
       "Product Amount                   float64\n",
       "Shipment To State                 object\n",
       "dtype: object"
      ]
     },
     "execution_count": 2,
     "metadata": {},
     "output_type": "execute_result"
    }
   ],
   "source": [
    "df.dtypes"
   ]
  },
  {
   "cell_type": "code",
   "execution_count": 3,
   "metadata": {},
   "outputs": [],
   "source": [
    "df['month'] = pd.DatetimeIndex(df['Customer Shipment Date']).month"
   ]
  },
  {
   "cell_type": "code",
   "execution_count": 4,
   "metadata": {},
   "outputs": [
    {
     "data": {
      "text/html": [
       "<div>\n",
       "<style scoped>\n",
       "    .dataframe tbody tr th:only-of-type {\n",
       "        vertical-align: middle;\n",
       "    }\n",
       "\n",
       "    .dataframe tbody tr th {\n",
       "        vertical-align: top;\n",
       "    }\n",
       "\n",
       "    .dataframe thead th {\n",
       "        text-align: right;\n",
       "    }\n",
       "</style>\n",
       "<table border=\"1\" class=\"dataframe\">\n",
       "  <thead>\n",
       "    <tr style=\"text-align: right;\">\n",
       "      <th></th>\n",
       "      <th>Customer Shipment Date</th>\n",
       "      <th>Quantity</th>\n",
       "      <th>Product Amount</th>\n",
       "      <th>Shipment To State</th>\n",
       "      <th>month</th>\n",
       "    </tr>\n",
       "  </thead>\n",
       "  <tbody>\n",
       "    <tr>\n",
       "      <th>0</th>\n",
       "      <td>2021-06-28</td>\n",
       "      <td>1</td>\n",
       "      <td>31.99</td>\n",
       "      <td>CA</td>\n",
       "      <td>6</td>\n",
       "    </tr>\n",
       "    <tr>\n",
       "      <th>1</th>\n",
       "      <td>2021-06-28</td>\n",
       "      <td>1</td>\n",
       "      <td>31.99</td>\n",
       "      <td>CT</td>\n",
       "      <td>6</td>\n",
       "    </tr>\n",
       "    <tr>\n",
       "      <th>2</th>\n",
       "      <td>2021-06-28</td>\n",
       "      <td>1</td>\n",
       "      <td>23.03</td>\n",
       "      <td>TX</td>\n",
       "      <td>6</td>\n",
       "    </tr>\n",
       "    <tr>\n",
       "      <th>3</th>\n",
       "      <td>2021-06-28</td>\n",
       "      <td>1</td>\n",
       "      <td>23.03</td>\n",
       "      <td>CA</td>\n",
       "      <td>6</td>\n",
       "    </tr>\n",
       "    <tr>\n",
       "      <th>4</th>\n",
       "      <td>2021-06-28</td>\n",
       "      <td>1</td>\n",
       "      <td>28.79</td>\n",
       "      <td>TX</td>\n",
       "      <td>6</td>\n",
       "    </tr>\n",
       "  </tbody>\n",
       "</table>\n",
       "</div>"
      ],
      "text/plain": [
       "  Customer Shipment Date  Quantity  Product Amount Shipment To State  month\n",
       "0             2021-06-28         1           31.99                CA      6\n",
       "1             2021-06-28         1           31.99                CT      6\n",
       "2             2021-06-28         1           23.03                TX      6\n",
       "3             2021-06-28         1           23.03                CA      6\n",
       "4             2021-06-28         1           28.79                TX      6"
      ]
     },
     "execution_count": 4,
     "metadata": {},
     "output_type": "execute_result"
    }
   ],
   "source": [
    "df.head()"
   ]
  },
  {
   "cell_type": "markdown",
   "metadata": {},
   "source": [
    "# 월 별 판매량 추이\r\n",
    "\r\n",
    "총 판매량 377\r\n",
    "\r\n",
    "\r\n",
    "* 총 매출의 40 퍼센트 이상이 5~7월 (여름) 에 집중되어 있음\r\n"
   ]
  },
  {
   "cell_type": "code",
   "execution_count": 16,
   "metadata": {},
   "outputs": [
    {
     "data": {
      "text/plain": [
       "month\n",
       "1     22\n",
       "2     28\n",
       "3     60\n",
       "4     40\n",
       "5     83\n",
       "6     70\n",
       "7     10\n",
       "8      5\n",
       "9      9\n",
       "10    19\n",
       "11    16\n",
       "12    15\n",
       "Name: Quantity, dtype: int64"
      ]
     },
     "execution_count": 16,
     "metadata": {},
     "output_type": "execute_result"
    }
   ],
   "source": [
    "df.groupby(['month']).sum()['Quantity']"
   ]
  },
  {
   "cell_type": "code",
   "execution_count": 17,
   "metadata": {},
   "outputs": [
    {
     "data": {
      "text/plain": [
       "<AxesSubplot:xlabel='month'>"
      ]
     },
     "execution_count": 17,
     "metadata": {},
     "output_type": "execute_result"
    },
    {
     "data": {
      "image/png": "[encoded data removed]",
      "text/plain": [
       "<Figure size 432x288 with 1 Axes>"
      ]
     },
     "metadata": {
      "needs_background": "light"
     },
     "output_type": "display_data"
    }
   ],
   "source": [
    "df.groupby(['month']).sum()['Quantity'].plot(kind='bar')"
   ]
  },
  {
   "cell_type": "markdown",
   "metadata": {},
   "source": [
    "# 월 별 매출 추이\r\n",
    "\r\n",
    "총 매출액\r\n",
    "12676.519999999993\r\n",
    "\r\n",
    "* 총 매출의 55퍼센트 이상이 5~7월(여름)에 집중되어 있음"
   ]
  },
  {
   "cell_type": "code",
   "execution_count": 19,
   "metadata": {},
   "outputs": [
    {
     "data": {
      "text/plain": [
       "month\n",
       "1      569.40\n",
       "2      815.72\n",
       "3     2161.00\n",
       "4     1572.40\n",
       "5     3231.17\n",
       "6     2141.06\n",
       "7      319.90\n",
       "8      159.95\n",
       "9      287.91\n",
       "10     611.81\n",
       "11     191.94\n",
       "12     364.74\n",
       "Name: Product Amount, dtype: float64"
      ]
     },
     "execution_count": 19,
     "metadata": {},
     "output_type": "execute_result"
    }
   ],
   "source": [
    "# 월 별 매출액 (달러)\r\n",
    "df.groupby(['month']).sum()['Product Amount']"
   ]
  },
  {
   "cell_type": "code",
   "execution_count": 8,
   "metadata": {},
   "outputs": [
    {
     "data": {
      "text/plain": [
       "<AxesSubplot:xlabel='month'>"
      ]
     },
     "execution_count": 8,
     "metadata": {},
     "output_type": "execute_result"
    },
    {
     "data": {
      "image/png": "[encoded data removed]",
      "text/plain": [
       "<Figure size 432x288 with 1 Axes>"
      ]
     },
     "metadata": {
      "needs_background": "light"
     },
     "output_type": "display_data"
    }
   ],
   "source": [
    "df.groupby(['month']).sum()['Product Amount'].plot(kind='bar')"
   ]
  },
  {
   "cell_type": "markdown",
   "metadata": {},
   "source": [
    "# 주 별 매출 분석\r\n",
    "## 미국 주 아니거나 CONFIDENTIAL (기밀) 데이터 제거하고 분석 진행\r\n",
    "## 매출 발생 주(State) 수 : 44\r\n",
    "## 총 판매량: 378\r\n",
    "## 판매량 상위 4개 주(CA, FL, NY, TX)가 매출의 55퍼센트 이상 차지."
   ]
  },
  {
   "cell_type": "code",
   "execution_count": 9,
   "metadata": {},
   "outputs": [
    {
     "data": {
      "text/plain": [
       "Shipment To State\n",
       "AE    1\n",
       "AK    3\n",
       "AL    3\n",
       "AR    1\n",
       "AZ    9\n",
       "Name: Quantity, dtype: int64"
      ]
     },
     "execution_count": 9,
     "metadata": {},
     "output_type": "execute_result"
    }
   ],
   "source": [
    "df.groupby(['Shipment To State'])['Quantity'].sum().head()"
   ]
  },
  {
   "cell_type": "code",
   "execution_count": 10,
   "metadata": {},
   "outputs": [
    {
     "data": {
      "text/plain": [
       "<AxesSubplot:xlabel='Shipment To State'>"
      ]
     },
     "execution_count": 10,
     "metadata": {},
     "output_type": "execute_result"
    },
    {
     "data": {
      "image/png": "[encoded data removed]",
      "text/plain": [
       "<Figure size 1440x504 with 1 Axes>"
      ]
     },
     "metadata": {
      "needs_background": "light"
     },
     "output_type": "display_data"
    }
   ],
   "source": [
    "df.groupby(['Shipment To State'])['Quantity'].sum().sort_values(ascending=False).plot(kind='bar', figsize=(20,7))"
   ]
  },
  {
   "cell_type": "code",
   "execution_count": 11,
   "metadata": {},
   "outputs": [
    {
     "data": {
      "text/plain": [
       "<AxesSubplot:xlabel='Shipment To State'>"
      ]
     },
     "execution_count": 11,
     "metadata": {},
     "output_type": "execute_result"
    },
    {
     "data": {
      "image/png": "[encoded data removed]",
      "text/plain": [
       "<Figure size 1440x504 with 1 Axes>"
      ]
     },
     "metadata": {
      "needs_background": "light"
     },
     "output_type": "display_data"
    }
   ],
   "source": [
    "df.groupby(['Shipment To State'])['Product Amount'].sum().sort_values(ascending=False).plot(kind='bar', figsize=(20,7))"
   ]
  },
  {
   "cell_type": "markdown",
   "metadata": {},
   "source": [
    "# DATA INSIGHT\r\n",
    "\r\n",
    "## 매출의 55퍼센트 이상이 여름(5월~7월)에 몰려있음\r\n",
    "## 매출의 55퍼센트 이상이 상위 4개 주(CA, FL, NY, TX)에 몰려있음\r\n"
   ]
  },
  {
   "cell_type": "markdown",
   "metadata": {},
   "source": [
    "# "
   ]
  },
  {
   "cell_type": "markdown",
   "metadata": {},
   "source": []
  }
 ],
 "metadata": {
  "interpreter": {
   "hash": "2097b8de0cf559b99a541878d948e75eb032eda4087ac9e140bfcd448ac40ac5"
  },
  "kernelspec": {
   "display_name": "Python 3.9.6 64-bit (windows store)",
   "name": "python3"
  },
  "language_info": {
   "name": "python",
   "version": ""
  },
  "orig_nbformat": 4
 },
 "nbformat": 4,
 "nbformat_minor": 2
}