{
 "cells": [
  {
   "cell_type": "code",
   "execution_count": 1,
   "id": "834d341a",
   "metadata": {
    "pycharm": {
     "name": "#%%\n"
    }
   },
   "outputs": [],
   "source": [
    "import selenium\n",
    "from selenium import webdriver\n",
    "from selenium.webdriver import ActionChains\n",
    "\n",
    "from selenium.webdriver.common.keys import Keys\n",
    "from selenium.webdriver.common.by import By\n",
    "\n",
    "from selenium.webdriver.support import expected_conditions as EC\n",
    "from selenium.webdriver.support.ui import Select\n",
    "from selenium.webdriver.support.ui import WebDriverWait\n",
    "import time\n",
    "import requests\n",
    "from bs4 import BeautifulSoup\n",
    "import re\n",
    "import datetime\n",
    "import pandas as pd\n",
    "import numpy as np"
   ]
  },
  {
   "cell_type": "code",
   "execution_count": 2,
   "id": "f336ced3",
   "metadata": {
    "pycharm": {
     "name": "#%%\n"
    }
   },
   "outputs": [],
   "source": [
    "todaydate = datetime.datetime.today()\n",
    "\n",
    "year = todaydate.strftime(\"%y\")\n",
    "month = todaydate.strftime(\"%m\")\n",
    "day = todaydate.strftime(\"%d\")"
   ]
  },
  {
   "cell_type": "code",
   "execution_count": 3,
   "id": "4c7373e0",
   "metadata": {
    "pycharm": {
     "name": "#%%\n"
    }
   },
   "outputs": [],
   "source": [
    "url_origin = 'http://www.ssg.com/search.ssg?target=all&query=%EB%96%A1%EB%B3%B6%EC%9D%B4&ctgId=6000092899&ctgLv=1&page={}'\n",
    "\n",
    "href_list = []\n",
    "\n",
    "\n",
    "for i in range(1, 6):\n",
    "    url = url_origin.format(i)\n",
    "    driver = webdriver.Chrome(executable_path='chromedriver')\n",
    "    driver.get(url)\n",
    "    for q in range(1,3):\n",
    "        driver.execute_script(\"window.scrollTo(0, document.body.scrollHeight);\")\n",
    "        time.sleep(1)\n",
    "\n",
    "    html_source = driver.page_source\n",
    "    soup = BeautifulSoup(html_source, 'html.parser')\n",
    "    ee = soup.find('div', {'class': 'tmpl_itemlist'})\n",
    "    s = ee.select('div.thmb')\n",
    "\n",
    "    for q in s:\n",
    "        x = q.find('a')\n",
    "        ex = x.get('href')\n",
    "        href_list.append(ex)\n",
    "        \n",
    "    time.sleep(2)    \n",
    "    driver.close()\n",
    "\n"
   ]
  },
  {
   "cell_type": "code",
   "execution_count": 18,
   "id": "167ad9dd",
   "metadata": {
    "pycharm": {
     "name": "#%%\n"
    }
   },
   "outputs": [],
   "source": [
    "ch = []\n",
    "data = {'name':ch, 'price':ch, 'review':ch,  'grade':ch, 'img_url':ch, 'product_num':ch, 'brand':ch, 'regi':ch, 'link': ch}\n",
    "df = pd.DataFrame(data)"
   ]
  },
  {
   "cell_type": "code",
   "execution_count": 21,
   "id": "d72aea3c",
   "metadata": {
    "pycharm": {
     "name": "#%%\n"
    }
   },
   "outputs": [],
   "source": [
    "def datas(soup):\n",
    "    \n",
    "    res = []\n",
    "\n",
    "    name = soup.find('h2', {'class': 'cdtl_info_tit'})\n",
    "    name_f = name.get_text()\n",
    "\n",
    "    price = soup.find('em', {'class': 'ssg_price'}).get_text()\n",
    "    price_f = int(re.sub(r'[^0-9]', '', price))\n",
    "    \n",
    "    img1 = soup.find('div', {'class': 'cdtl_item_image'})\n",
    "    img_url = img1.find('img')\n",
    "    img_url = img_url.get('src')\n",
    "    \n",
    "    review = 0\n",
    "    grade = 0\n",
    "    brand_f = np.NaN\n",
    "    \n",
    "    try:\n",
    "        review = soup.find('em', {'id': 'gCommentTotalCnt'}).get_text() \n",
    "        review = int(re.sub(r'[^0-9]', '', review))\n",
    "    except:\n",
    "        print('리뷰정보 없음')\n",
    "    \n",
    "    try:\n",
    "        grade = float(soup.find('em', {'class': 'cdtl_grade_total'}).get_text())\n",
    "    except:\n",
    "        print('별점정보 없음')\n",
    "        \n",
    "    check = driver.current_url    \n",
    "    product_num = check.split('itemId=')[1]\n",
    "    product_num = product_num.split('&')[0]\n",
    "    \n",
    "    \n",
    "    \n",
    "    \n",
    "    try:\n",
    "        brand = soup.find('span', {'class': 'cdtl_store_tittx'})\n",
    "        brand_f = brand.get_text()\n",
    "    except:\n",
    "        print('브랜드정보 없음')\n",
    "    \n",
    "    \n",
    "    \n",
    "    res.append(name_f)\n",
    "    res.append(price_f)\n",
    "    res.append(review)\n",
    "    res.append(grade)\n",
    "    res.append(img_url)\n",
    "    \n",
    "    res.append(product_num)\n",
    "    res.append(brand_f)\n",
    "    res.append(np.NaN)\n",
    "    return(res)"
   ]
  },
  {
   "cell_type": "code",
   "execution_count": 22,
   "id": "9e8afd13",
   "metadata": {
    "scrolled": true,
    "pycharm": {
     "name": "#%%\n"
    }
   },
   "outputs": [
    {
     "name": "stdout",
     "output_type": "stream",
     "text": [
      "0\n",
      "리뷰정보 없음\n",
      "별점정보 없음\n",
      "1\n",
      "리뷰정보 없음\n",
      "별점정보 없음\n",
      "2\n",
      "리뷰정보 없음\n",
      "별점정보 없음\n",
      "3\n"
     ]
    },
    {
     "name": "stderr",
     "output_type": "stream",
     "text": [
      "Exception ignored in: <function Service.__del__ at 0x0000021312940E50>\n",
      "Traceback (most recent call last):\n",
      "  File \"C:\\ProgramData\\Anaconda3\\lib\\site-packages\\selenium\\webdriver\\common\\service.py\", line 176, in __del__\n",
      "    self.stop()\n",
      "  File \"C:\\ProgramData\\Anaconda3\\lib\\site-packages\\selenium\\webdriver\\common\\service.py\", line 151, in stop\n",
      "    self.send_remote_shutdown_command()\n",
      "  File \"C:\\ProgramData\\Anaconda3\\lib\\site-packages\\selenium\\webdriver\\common\\service.py\", line 132, in send_remote_shutdown_command\n",
      "    if not self.is_connectable():\n",
      "  File \"C:\\ProgramData\\Anaconda3\\lib\\site-packages\\selenium\\webdriver\\common\\service.py\", line 115, in is_connectable\n",
      "    return utils.is_connectable(self.port)\n",
      "  File \"C:\\ProgramData\\Anaconda3\\lib\\site-packages\\selenium\\webdriver\\common\\utils.py\", line 106, in is_connectable\n",
      "    socket_ = socket.create_connection((host, port), 1)\n",
      "  File \"C:\\ProgramData\\Anaconda3\\lib\\socket.py\", line 796, in create_connection\n",
      "    sock.connect(sa)\n",
      "KeyboardInterrupt: \n"
     ]
    },
    {
     "name": "stdout",
     "output_type": "stream",
     "text": [
      "리뷰정보 없음\n",
      "별점정보 없음\n"
     ]
    },
    {
     "ename": "WebDriverException",
     "evalue": "Message: chrome not reachable\n  (Session info: chrome=92.0.4515.159)\n",
     "output_type": "error",
     "traceback": [
      "\u001B[1;31m---------------------------------------------------------------------------\u001B[0m",
      "\u001B[1;31mWebDriverException\u001B[0m                        Traceback (most recent call last)",
      "\u001B[1;32m<ipython-input-22-8a8afb288db0>\u001B[0m in \u001B[0;36m<module>\u001B[1;34m\u001B[0m\n\u001B[0;32m     10\u001B[0m     \u001B[0mhtml_source\u001B[0m \u001B[1;33m=\u001B[0m \u001B[0mdriver\u001B[0m\u001B[1;33m.\u001B[0m\u001B[0mpage_source\u001B[0m\u001B[1;33m\u001B[0m\u001B[1;33m\u001B[0m\u001B[0m\n\u001B[0;32m     11\u001B[0m     \u001B[0msoup\u001B[0m \u001B[1;33m=\u001B[0m \u001B[0mBeautifulSoup\u001B[0m\u001B[1;33m(\u001B[0m\u001B[0mhtml_source\u001B[0m\u001B[1;33m,\u001B[0m \u001B[1;34m'html.parser'\u001B[0m\u001B[1;33m)\u001B[0m\u001B[1;33m\u001B[0m\u001B[1;33m\u001B[0m\u001B[0m\n\u001B[1;32m---> 12\u001B[1;33m     \u001B[0mres\u001B[0m \u001B[1;33m=\u001B[0m \u001B[0mdatas\u001B[0m\u001B[1;33m(\u001B[0m\u001B[0msoup\u001B[0m\u001B[1;33m)\u001B[0m\u001B[1;33m\u001B[0m\u001B[1;33m\u001B[0m\u001B[0m\n\u001B[0m\u001B[0;32m     13\u001B[0m     \u001B[0mres\u001B[0m\u001B[1;33m.\u001B[0m\u001B[0mappend\u001B[0m\u001B[1;33m(\u001B[0m\u001B[0mdriver\u001B[0m\u001B[1;33m.\u001B[0m\u001B[0mcurrent_url\u001B[0m\u001B[1;33m)\u001B[0m\u001B[1;33m\u001B[0m\u001B[1;33m\u001B[0m\u001B[0m\n\u001B[0;32m     14\u001B[0m \u001B[1;33m\u001B[0m\u001B[0m\n",
      "\u001B[1;32m<ipython-input-21-9b124c160fd4>\u001B[0m in \u001B[0;36mdatas\u001B[1;34m(soup)\u001B[0m\n\u001B[0;32m     28\u001B[0m         \u001B[0mprint\u001B[0m\u001B[1;33m(\u001B[0m\u001B[1;34m'별점정보 없음'\u001B[0m\u001B[1;33m)\u001B[0m\u001B[1;33m\u001B[0m\u001B[1;33m\u001B[0m\u001B[0m\n\u001B[0;32m     29\u001B[0m \u001B[1;33m\u001B[0m\u001B[0m\n\u001B[1;32m---> 30\u001B[1;33m     \u001B[0mcheck\u001B[0m \u001B[1;33m=\u001B[0m \u001B[0mdriver\u001B[0m\u001B[1;33m.\u001B[0m\u001B[0mcurrent_url\u001B[0m\u001B[1;33m\u001B[0m\u001B[1;33m\u001B[0m\u001B[0m\n\u001B[0m\u001B[0;32m     31\u001B[0m     \u001B[0mproduct_num\u001B[0m \u001B[1;33m=\u001B[0m \u001B[0mcheck\u001B[0m\u001B[1;33m.\u001B[0m\u001B[0msplit\u001B[0m\u001B[1;33m(\u001B[0m\u001B[1;34m'itemId='\u001B[0m\u001B[1;33m)\u001B[0m\u001B[1;33m[\u001B[0m\u001B[1;36m1\u001B[0m\u001B[1;33m]\u001B[0m\u001B[1;33m\u001B[0m\u001B[1;33m\u001B[0m\u001B[0m\n\u001B[0;32m     32\u001B[0m     \u001B[0mproduct_num\u001B[0m \u001B[1;33m=\u001B[0m \u001B[0mproduct_num\u001B[0m\u001B[1;33m.\u001B[0m\u001B[0msplit\u001B[0m\u001B[1;33m(\u001B[0m\u001B[1;34m'&'\u001B[0m\u001B[1;33m)\u001B[0m\u001B[1;33m[\u001B[0m\u001B[1;36m0\u001B[0m\u001B[1;33m]\u001B[0m\u001B[1;33m\u001B[0m\u001B[1;33m\u001B[0m\u001B[0m\n",
      "\u001B[1;32mC:\\ProgramData\\Anaconda3\\lib\\site-packages\\selenium\\webdriver\\remote\\webdriver.py\u001B[0m in \u001B[0;36mcurrent_url\u001B[1;34m(self)\u001B[0m\n\u001B[0;32m    667\u001B[0m             \u001B[0mdriver\u001B[0m\u001B[1;33m.\u001B[0m\u001B[0mcurrent_url\u001B[0m\u001B[1;33m\u001B[0m\u001B[1;33m\u001B[0m\u001B[0m\n\u001B[0;32m    668\u001B[0m         \"\"\"\n\u001B[1;32m--> 669\u001B[1;33m         \u001B[1;32mreturn\u001B[0m \u001B[0mself\u001B[0m\u001B[1;33m.\u001B[0m\u001B[0mexecute\u001B[0m\u001B[1;33m(\u001B[0m\u001B[0mCommand\u001B[0m\u001B[1;33m.\u001B[0m\u001B[0mGET_CURRENT_URL\u001B[0m\u001B[1;33m)\u001B[0m\u001B[1;33m[\u001B[0m\u001B[1;34m'value'\u001B[0m\u001B[1;33m]\u001B[0m\u001B[1;33m\u001B[0m\u001B[1;33m\u001B[0m\u001B[0m\n\u001B[0m\u001B[0;32m    670\u001B[0m \u001B[1;33m\u001B[0m\u001B[0m\n\u001B[0;32m    671\u001B[0m     \u001B[1;33m@\u001B[0m\u001B[0mproperty\u001B[0m\u001B[1;33m\u001B[0m\u001B[1;33m\u001B[0m\u001B[0m\n",
      "\u001B[1;32mC:\\ProgramData\\Anaconda3\\lib\\site-packages\\selenium\\webdriver\\remote\\webdriver.py\u001B[0m in \u001B[0;36mexecute\u001B[1;34m(self, driver_command, params)\u001B[0m\n\u001B[0;32m    319\u001B[0m         \u001B[0mresponse\u001B[0m \u001B[1;33m=\u001B[0m \u001B[0mself\u001B[0m\u001B[1;33m.\u001B[0m\u001B[0mcommand_executor\u001B[0m\u001B[1;33m.\u001B[0m\u001B[0mexecute\u001B[0m\u001B[1;33m(\u001B[0m\u001B[0mdriver_command\u001B[0m\u001B[1;33m,\u001B[0m \u001B[0mparams\u001B[0m\u001B[1;33m)\u001B[0m\u001B[1;33m\u001B[0m\u001B[1;33m\u001B[0m\u001B[0m\n\u001B[0;32m    320\u001B[0m         \u001B[1;32mif\u001B[0m \u001B[0mresponse\u001B[0m\u001B[1;33m:\u001B[0m\u001B[1;33m\u001B[0m\u001B[1;33m\u001B[0m\u001B[0m\n\u001B[1;32m--> 321\u001B[1;33m             \u001B[0mself\u001B[0m\u001B[1;33m.\u001B[0m\u001B[0merror_handler\u001B[0m\u001B[1;33m.\u001B[0m\u001B[0mcheck_response\u001B[0m\u001B[1;33m(\u001B[0m\u001B[0mresponse\u001B[0m\u001B[1;33m)\u001B[0m\u001B[1;33m\u001B[0m\u001B[1;33m\u001B[0m\u001B[0m\n\u001B[0m\u001B[0;32m    322\u001B[0m             response['value'] = self._unwrap_value(\n\u001B[0;32m    323\u001B[0m                 response.get('value', None))\n",
      "\u001B[1;32mC:\\ProgramData\\Anaconda3\\lib\\site-packages\\selenium\\webdriver\\remote\\errorhandler.py\u001B[0m in \u001B[0;36mcheck_response\u001B[1;34m(self, response)\u001B[0m\n\u001B[0;32m    240\u001B[0m                 \u001B[0malert_text\u001B[0m \u001B[1;33m=\u001B[0m \u001B[0mvalue\u001B[0m\u001B[1;33m[\u001B[0m\u001B[1;34m'alert'\u001B[0m\u001B[1;33m]\u001B[0m\u001B[1;33m.\u001B[0m\u001B[0mget\u001B[0m\u001B[1;33m(\u001B[0m\u001B[1;34m'text'\u001B[0m\u001B[1;33m)\u001B[0m\u001B[1;33m\u001B[0m\u001B[1;33m\u001B[0m\u001B[0m\n\u001B[0;32m    241\u001B[0m             \u001B[1;32mraise\u001B[0m \u001B[0mexception_class\u001B[0m\u001B[1;33m(\u001B[0m\u001B[0mmessage\u001B[0m\u001B[1;33m,\u001B[0m \u001B[0mscreen\u001B[0m\u001B[1;33m,\u001B[0m \u001B[0mstacktrace\u001B[0m\u001B[1;33m,\u001B[0m \u001B[0malert_text\u001B[0m\u001B[1;33m)\u001B[0m\u001B[1;33m\u001B[0m\u001B[1;33m\u001B[0m\u001B[0m\n\u001B[1;32m--> 242\u001B[1;33m         \u001B[1;32mraise\u001B[0m \u001B[0mexception_class\u001B[0m\u001B[1;33m(\u001B[0m\u001B[0mmessage\u001B[0m\u001B[1;33m,\u001B[0m \u001B[0mscreen\u001B[0m\u001B[1;33m,\u001B[0m \u001B[0mstacktrace\u001B[0m\u001B[1;33m)\u001B[0m\u001B[1;33m\u001B[0m\u001B[1;33m\u001B[0m\u001B[0m\n\u001B[0m\u001B[0;32m    243\u001B[0m \u001B[1;33m\u001B[0m\u001B[0m\n\u001B[0;32m    244\u001B[0m     \u001B[1;32mdef\u001B[0m \u001B[0m_value_or_default\u001B[0m\u001B[1;33m(\u001B[0m\u001B[0mself\u001B[0m\u001B[1;33m,\u001B[0m \u001B[0mobj\u001B[0m\u001B[1;33m,\u001B[0m \u001B[0mkey\u001B[0m\u001B[1;33m,\u001B[0m \u001B[0mdefault\u001B[0m\u001B[1;33m)\u001B[0m\u001B[1;33m:\u001B[0m\u001B[1;33m\u001B[0m\u001B[1;33m\u001B[0m\u001B[0m\n",
      "\u001B[1;31mWebDriverException\u001B[0m: Message: chrome not reachable\n  (Session info: chrome=92.0.4515.159)\n"
     ]
    }
   ],
   "source": [
    "for i in range(0, len(href_list)):\n",
    "    \n",
    "    print(i)\n",
    "    url = 'http://www.ssg.com' + href_list[i]\n",
    "    driver = webdriver.Chrome(executable_path='chromedriver')\n",
    "    driver.get(url)\n",
    "    for q in range(1,3):\n",
    "        driver.execute_script(\"window.scrollTo(0, document.body.scrollHeight);\")\n",
    "        time.sleep(1)\n",
    "    html_source = driver.page_source\n",
    "    soup = BeautifulSoup(html_source, 'html.parser')        \n",
    "    res = datas(soup)\n",
    "    res.append(driver.current_url)\n",
    "    \n",
    "    df.loc[len(df)] = res\n",
    "    \n",
    "    driver.close()\n",
    "    time.sleep(2)"
   ]
  },
  {
   "cell_type": "code",
   "execution_count": 17,
   "id": "dd70de77",
   "metadata": {
    "pycharm": {
     "name": "#%%\n"
    }
   },
   "outputs": [],
   "source": [
    "def names(x):\n",
    "    res = False\n",
    "    if '떡볶이' in x:\n",
    "        res = True\n",
    "    return res\n",
    "\n",
    "df['check'] = df['name'].apply(names)\n",
    "df1 = df[df['check'] == True]"
   ]
  },
  {
   "cell_type": "code",
   "execution_count": 18,
   "id": "13bbbc76",
   "metadata": {
    "pycharm": {
     "name": "#%%\n"
    }
   },
   "outputs": [
    {
     "name": "stderr",
     "output_type": "stream",
     "text": [
      "<ipython-input-18-962576801e3a>:6: SettingWithCopyWarning: \n",
      "A value is trying to be set on a copy of a slice from a DataFrame.\n",
      "Try using .loc[row_indexer,col_indexer] = value instead\n",
      "\n",
      "See the caveats in the documentation: https://pandas.pydata.org/pandas-docs/stable/user_guide/indexing.html#returning-a-view-versus-a-copy\n",
      "  df2['name'] = df2['name'].apply(names2)\n"
     ]
    }
   ],
   "source": [
    "def names2(x):\n",
    "    res = x.rsplit('원산지', 1)[0]\n",
    "    return(res)\n",
    "\n",
    "\n",
    "df1['name'] = df1['name'].apply(names2)"
   ]
  },
  {
   "cell_type": "code",
   "execution_count": 19,
   "id": "ddec19b2",
   "metadata": {
    "pycharm": {
     "name": "#%%\n"
    }
   },
   "outputs": [
    {
     "name": "stderr",
     "output_type": "stream",
     "text": [
      "<ipython-input-19-f5abdcc7626b>:1: SettingWithCopyWarning: \n",
      "A value is trying to be set on a copy of a slice from a DataFrame.\n",
      "Try using .loc[row_indexer,col_indexer] = value instead\n",
      "\n",
      "See the caveats in the documentation: https://pandas.pydata.org/pandas-docs/stable/user_guide/indexing.html#returning-a-view-versus-a-copy\n",
      "  df2['year'] = year\n",
      "<ipython-input-19-f5abdcc7626b>:2: SettingWithCopyWarning: \n",
      "A value is trying to be set on a copy of a slice from a DataFrame.\n",
      "Try using .loc[row_indexer,col_indexer] = value instead\n",
      "\n",
      "See the caveats in the documentation: https://pandas.pydata.org/pandas-docs/stable/user_guide/indexing.html#returning-a-view-versus-a-copy\n",
      "  df2['month'] = month\n",
      "<ipython-input-19-f5abdcc7626b>:3: SettingWithCopyWarning: \n",
      "A value is trying to be set on a copy of a slice from a DataFrame.\n",
      "Try using .loc[row_indexer,col_indexer] = value instead\n",
      "\n",
      "See the caveats in the documentation: https://pandas.pydata.org/pandas-docs/stable/user_guide/indexing.html#returning-a-view-versus-a-copy\n",
      "  df2['day'] = day\n"
     ]
    }
   ],
   "source": [
    "df1['year'] = year\n",
    "df1['month'] = month\n",
    "df1['day'] = day\n",
    "df1['market'] = 'ssg'"
   ]
  },
  {
   "cell_type": "code",
   "execution_count": 20,
   "id": "68a41caf",
   "metadata": {
    "pycharm": {
     "name": "#%%\n"
    }
   },
   "outputs": [
    {
     "name": "stderr",
     "output_type": "stream",
     "text": [
      "<ipython-input-20-575c293b9594>:1: FutureWarning: As the xlwt package is no longer maintained, the xlwt engine will be removed in a future version of pandas. This is the only engine in pandas that supports writing in the xls format. Install openpyxl and write to an xlsx file instead. You can set the option io.excel.xls.writer to 'xlwt' to silence this warning. While this option is deprecated and will also raise a warning, it can be globally set and the warning suppressed.\n",
      "  df2.to_excel('ssg_.xls')\n"
     ]
    }
   ],
   "source": [
    "df1.to_excel('ssg_.xls')"
   ]
  },
  {
   "cell_type": "code",
   "execution_count": null,
   "id": "5c8b80ec",
   "metadata": {
    "pycharm": {
     "name": "#%%\n"
    }
   },
   "outputs": [],
   "source": []
  }
 ],
 "metadata": {
  "kernelspec": {
   "display_name": "Python 3",
   "language": "python",
   "name": "python3"
  },
  "language_info": {
   "codemirror_mode": {
    "name": "ipython",
    "version": 3
   },
   "file_extension": ".py",
   "mimetype": "text/x-python",
   "name": "python",
   "nbconvert_exporter": "python",
   "pygments_lexer": "ipython3",
   "version": "3.8.8"
  }
 },
 "nbformat": 4,
 "nbformat_minor": 5
}