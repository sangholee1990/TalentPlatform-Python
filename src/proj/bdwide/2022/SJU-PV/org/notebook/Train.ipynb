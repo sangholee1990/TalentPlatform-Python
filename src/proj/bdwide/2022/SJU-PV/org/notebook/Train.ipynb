{
 "cells": [
  {
   "cell_type": "code",
   "execution_count": null,
   "metadata": {
    "colab": {
     "base_uri": "https://localhost:8080/"
    },
    "executionInfo": {
     "elapsed": 10465,
     "status": "ok",
     "timestamp": 1653037959331,
     "user": {
      "displayName": "손혜숙",
      "userId": "04546320556765428968"
     },
     "user_tz": -540
    },
    "id": "sbyYh_mYxU1m",
    "outputId": "652be8dd-3d59-4ea8-d866-d7498a3f0d56"
   },
   "outputs": [],
   "source": [
    "import numpy as np\n",
    "import matplotlib.pyplot as plt\n",
    "import pandas as pd\n",
    "from sklearn.metrics import mean_squared_error,r2_score\n",
    "from sklearn.preprocessing import MinMaxScaler\n",
    "from scipy.stats import iqr\n",
    "import pickle\n",
    "from keras.callbacks import ModelCheckpoint\n",
    "from keras.models import load_model\n",
    "from keras.models import Sequential\n",
    "from keras.models import Model\n",
    "from keras.layers import Dense\n",
    "from keras.layers import LSTM\n",
    "from keras.layers import Dropout\n",
    "from keras.layers import Input\n",
    "from keras.layers import RepeatVector\n",
    "from keras.layers import TimeDistributed\n",
    "from keras.layers import Activation\n",
    "\n",
    "# from google.colab import drive\n",
    "# drive.mount('/content/drive')\n",
    "path_data = 'data/'\n",
    "path_model = 'model/'\n",
    "\n",
    "X_train = np.load(path_data + 'X_train.npy')\n",
    "y_train = np.load(path_data + 'y_train.npy')\n",
    "X_test = np.load(path_data + 'X_test.npy')\n",
    "y_test = np.load(path_data + 'y_test.npy')\n",
    "print(X_train.shape,y_train.shape, np.min(X_train),np.max(X_train),np.min(y_train),np.max(y_train))\n",
    "\n",
    "with open(path_data + \"sc.pickle\",\"rb\") as fr:\n",
    "    sc1 = pickle.load(fr)\n",
    "data_hr1 = np.load(path_data + 'data_hr1.npy')\n",
    "\n",
    "n_steps_in=24*3\n",
    "n_steps_out=24\n",
    "n_step=n_steps_in\n",
    "n_features = X_train.shape[-1]"
   ]
  },
  {
   "cell_type": "markdown",
   "metadata": {
    "id": "BPVqM7S1xU1y"
   },
   "source": [
    "## Network"
   ]
  },
  {
   "cell_type": "code",
   "execution_count": null,
   "metadata": {
    "colab": {
     "base_uri": "https://localhost:8080/"
    },
    "executionInfo": {
     "elapsed": 1104,
     "status": "ok",
     "timestamp": 1653037963968,
     "user": {
      "displayName": "손혜숙",
      "userId": "04546320556765428968"
     },
     "user_tz": -540
    },
    "id": "T5DIwFVIxU11",
    "outputId": "9d8ccf93-069d-4f3e-ef11-f5343d04349e"
   },
   "outputs": [],
   "source": [
    "model = Sequential()\n",
    "#model.add(LSTM(256, activation='relu',dropout=0.5, input_shape=(n_steps_in, n_features)))#9\n",
    "model.add(LSTM(256, activation='relu',input_shape=(n_steps_in, n_features)))\n",
    "model.add(RepeatVector(n_steps_out))\n",
    "model.add(LSTM(256, activation='relu', return_sequences=True))\n",
    "model.add(TimeDistributed(Dense(256, activation='relu')))\n",
    "#model.add(TimeDistributed(Dense(50, activation='relu')))\n",
    "model.add(TimeDistributed(Dense(1)))"
   ]
  },
  {
   "cell_type": "code",
   "execution_count": null,
   "metadata": {
    "colab": {
     "base_uri": "https://localhost:8080/"
    },
    "executionInfo": {
     "elapsed": 1431297,
     "status": "ok",
     "timestamp": 1653039408786,
     "user": {
      "displayName": "손혜숙",
      "userId": "04546320556765428968"
     },
     "user_tz": -540
    },
    "id": "fw-GZJ4uvQ-7",
    "outputId": "f437bd88-2a84-4b91-869f-ba1b0ac8acca"
   },
   "outputs": [],
   "source": [
    "# Train\n",
    "cp_callback = ModelCheckpoint(filepath = path_model+'model.h5', save_weights_only=True, verbose=1)\n",
    "model.compile(loss='mse', optimizer='rmsprop')\n",
    "model.fit(X_train,y_train[:,:,0:1], batch_size=64, epochs=500, validation_data=(X_test,y_test[:,:,:1]),callbacks=[cp_callback])\n",
    "model.load_weights(path_model+'model.h5')"
   ]
  },
  {
   "cell_type": "markdown",
   "metadata": {
    "id": "UYoZB4K2xU14"
   },
   "source": [
    "## Result"
   ]
  },
  {
   "cell_type": "code",
   "execution_count": null,
   "metadata": {
    "colab": {
     "base_uri": "https://localhost:8080/",
     "height": 265
    },
    "executionInfo": {
     "elapsed": 2003,
     "status": "ok",
     "timestamp": 1653039752110,
     "user": {
      "displayName": "손혜숙",
      "userId": "04546320556765428968"
     },
     "user_tz": -540
    },
    "id": "uUQC2PNXyI0O",
    "outputId": "bb2fcaff-726a-4698-dee5-4032701baff0"
   },
   "outputs": [],
   "source": [
    "pred1= model.predict(X_test)\n",
    "pred1=pred1.reshape(-1,1)\n",
    "pred1 = sc1.inverse_transform(pred1)\n",
    "pred1=pred1[:,0]\n",
    "print(pred1.shape)\n",
    "\n",
    "fig = plt.figure(figsize=(20,3))                                                               \n",
    "ax = fig.add_subplot(1,1,1)                                                      \n",
    "\n",
    "# This is where I manually set ticks. Can I use Datetime data instead???                                     \n",
    "major_ticks = np.arange(0, len(pred1)+1, 24)                                              \n",
    "minor_ticks = np.arange(0, len(pred1)+1, 1)                                               \n",
    "\n",
    "gt = data_hr1[-len(pred1):,0]\n",
    "plt.plot(gt,marker='o',ls='--',c='orange', label = 'Real')\n",
    "ax.plot(pred1, 'bo-', label = 'Pred') \n",
    "ax.legend()\n",
    "\n",
    "ax.set_xticks(major_ticks)                                                       \n",
    "ax.set_xticks(minor_ticks, minor=True)                                           \n",
    "#ax.set_yticks(major_ticks)                                                       \n",
    "#ax.set_yticks(minor_ticks, minor=True)                                           \n",
    "ax.grid(which='both')                                                                                           \n",
    "ax.grid(which='minor', alpha=0.3)                                                \n",
    "ax.grid(which='major', alpha=1.0,linewidth=1.8,color='r',axis='x')\n",
    "# plt.savefig('tmp.png')\n",
    "plt.show()\n",
    "\n",
    "# error\n",
    "r = np.sqrt(mean_squared_error(pred1, gt))\n",
    "print(r)\n",
    "print(r/np.max(gt))"
   ]
  }
 ],
 "metadata": {
  "accelerator": "GPU",
  "colab": {
   "collapsed_sections": [],
   "name": "Train.ipynb",
   "provenance": []
  },
  "kernelspec": {
   "display_name": "Python 3",
   "language": "python",
   "name": "python3"
  },
  "language_info": {
   "codemirror_mode": {
    "name": "ipython",
    "version": 3
   },
   "file_extension": ".py",
   "mimetype": "text/x-python",
   "name": "python",
   "nbconvert_exporter": "python",
   "pygments_lexer": "ipython3",
   "version": "3.5.6"
  }
 },
 "nbformat": 4,
 "nbformat_minor": 1
}
