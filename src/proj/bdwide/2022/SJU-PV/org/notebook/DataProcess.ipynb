{
 "cells": [
  {
   "cell_type": "code",
   "execution_count": null,
   "metadata": {
    "colab": {
     "base_uri": "https://localhost:8080/"
    },
    "executionInfo": {
     "elapsed": 2589,
     "status": "ok",
     "timestamp": 1653033438121,
     "user": {
      "displayName": "손혜숙",
      "userId": "04546320556765428968"
     },
     "user_tz": -540
    },
    "id": "bXw1CyxRxTA-",
    "outputId": "8ca520d4-d5a1-413a-9298-841634b76bea"
   },
   "outputs": [],
   "source": [
    "from os import listdir\n",
    "from os.path import isfile, join\n",
    "import numpy as np\n",
    "import matplotlib.pyplot as plt\n",
    "import pandas as pd\n",
    "from sklearn.preprocessing import MinMaxScaler\n",
    "import pickle\n",
    "\n",
    "# from google.colab import drive\n",
    "# drive.mount('/content/drive')\n",
    "path_data = 'data/'"
   ]
  },
  {
   "cell_type": "markdown",
   "metadata": {
    "id": "aC-QzT4fxTBG"
   },
   "source": [
    "# Weather"
   ]
  },
  {
   "cell_type": "code",
   "execution_count": null,
   "metadata": {
    "executionInfo": {
     "elapsed": 304,
     "status": "ok",
     "timestamp": 1653029182676,
     "user": {
      "displayName": "손혜숙",
      "userId": "04546320556765428968"
     },
     "user_tz": -540
    },
    "id": "Bjpj_B8FxTBP"
   },
   "outputs": [],
   "source": [
    "weather=pd.read_csv(path_data+'weather.csv', encoding='utf-8')\n",
    "# 2019-9-12\n",
    "weather=weather[(weather['일시']<'2019-09-12') | (weather['일시']>'2019-09-13')]\n",
    "# weather.head()\n",
    "\n",
    "idx=[\"일시\",\"기온(°C)\",\n",
    "\"강수량(mm)\",\n",
    "\"풍속(m/s)\",\"풍향(16방위)\",\n",
    "\"습도(%)\",\n",
    "#\"증기압(hPa)\",\n",
    "\"이슬점온도(°C)\",\n",
    "\"현지기압(hPa)\",\n",
    "#\"해면기압(hPa)\",\n",
    "\"일조(hr)\",\n",
    "#\"전운량(10분위)\",\n",
    "#\"중하층운량(10분위)\",\n",
    "\"시정(10m)\",\n",
    "\"지면온도(°C)\"\n",
    "]\n",
    "weather=weather[idx]"
   ]
  },
  {
   "cell_type": "code",
   "execution_count": null,
   "metadata": {
    "colab": {
     "base_uri": "https://localhost:8080/"
    },
    "executionInfo": {
     "elapsed": 302,
     "status": "ok",
     "timestamp": 1653029185754,
     "user": {
      "displayName": "손혜숙",
      "userId": "04546320556765428968"
     },
     "user_tz": -540
    },
    "id": "6-Ujng0UxTBR",
    "outputId": "141b7713-a5dc-40b7-8020-f3d6430e0706"
   },
   "outputs": [],
   "source": [
    "# 결측치\n",
    "weather['일조(hr)'] = weather['일조(hr)'].fillna(0)\n",
    "weather['강수량(mm)'] = weather['강수량(mm)'].fillna(0)\n",
    "(weather.isnull().sum()/1128)*100"
   ]
  },
  {
   "cell_type": "code",
   "execution_count": null,
   "metadata": {
    "colab": {
     "base_uri": "https://localhost:8080/",
     "height": 206
    },
    "executionInfo": {
     "elapsed": 331,
     "status": "ok",
     "timestamp": 1653029187552,
     "user": {
      "displayName": "손혜숙",
      "userId": "04546320556765428968"
     },
     "user_tz": -540
    },
    "id": "qUIN6uqQxTBS",
    "outputId": "9e1cae10-74d1-4d59-8695-dd637c9713e1"
   },
   "outputs": [],
   "source": [
    "#wind=pd.DataFrame({'풍향(sin)': np.sin(np.pi*weather[\"풍향(16방위)\"]/360),'풍향(cos)': np.cos(np.pi*weather[\"풍향(16방위)\"]/360)})\n",
    "wind=pd.DataFrame({'풍향': np.cos(np.pi*weather[\"풍향(16방위)\"]/360)})\n",
    "weather=pd.concat((weather,wind),axis=1)\n",
    "weather=weather.drop(\"풍향(16방위)\",axis=1)\n",
    "weather.head()"
   ]
  },
  {
   "cell_type": "code",
   "execution_count": null,
   "metadata": {
    "colab": {
     "base_uri": "https://localhost:8080/"
    },
    "executionInfo": {
     "elapsed": 17,
     "status": "ok",
     "timestamp": 1653029188907,
     "user": {
      "displayName": "손혜숙",
      "userId": "04546320556765428968"
     },
     "user_tz": -540
    },
    "id": "_eiTjQxpxTBT",
    "outputId": "372b3d4a-9be7-4a93-ca9d-b01482f4b3fb"
   },
   "outputs": [],
   "source": [
    "# 결측치 처리\n",
    "weather_c=weather.interpolate(method='linear')\n",
    "print(weather_c.shape)\n",
    "# 스케일링\n",
    "data_w = weather_c.values[:,1:]\n",
    "sc = MinMaxScaler(feature_range = (0, 1))\n",
    "data_w = sc.fit_transform(data_w)\n",
    "print(data_w.shape)\n",
    "np.save(path_data+'data_w', data_w)"
   ]
  },
  {
   "cell_type": "markdown",
   "metadata": {
    "id": "ruwD5fpI_E1t"
   },
   "source": [
    "# 방위각"
   ]
  },
  {
   "cell_type": "code",
   "execution_count": null,
   "metadata": {
    "colab": {
     "base_uri": "https://localhost:8080/"
    },
    "executionInfo": {
     "elapsed": 748,
     "status": "ok",
     "timestamp": 1653029103939,
     "user": {
      "displayName": "손혜숙",
      "userId": "04546320556765428968"
     },
     "user_tz": -540
    },
    "id": "N3m4IRKm-gjV",
    "outputId": "7819a3eb-7033-41dc-a9da-b91820946f0a"
   },
   "outputs": [],
   "source": [
    "fnames=[f for f in listdir(path_data+'sun/UR00000126') if isfile(join(path_data+'sun/UR00000126', f))]\n",
    "fnames.sort()\n",
    "#al\n",
    "data_az=[]\n",
    "for fn in fnames:\n",
    "  tmp=pd.read_csv(path_data+'sun/UR00000126/'+fn).values[:,1]\n",
    "  for i in range(24):\n",
    "      tmpi=np.fromstring(tmp[i], dtype=float, sep=' ')\n",
    "      tmp[i]=tmpi[0]+tmpi[1]/60.0+tmpi[2]/3600.0\n",
    "      tmp[i]=180-tmp[i]\n",
    "  data_az.append(tmp)\n",
    "data_az=np.array(data_az).reshape((-1,1))\n",
    "data_az=data_az.astype('float32')\n",
    "#data_az = pd.DataFrame({'방위각_sin': np.sin(np.pi*data_az[:,0]/360),'방위각_cos': np.cos(np.pi*data_az[:,0]/360)})\n",
    "data_az = pd.DataFrame({'방위각_cos': np.cos(np.pi*data_az[:,0]/360)})\n",
    "data_az=np.array(data_az)\n",
    "#al\n",
    "data_al=[]\n",
    "for fn in fnames:\n",
    "  tmp=pd.read_csv(path_data+'sun/UR00000126/'+fn).values[:,2]\n",
    "  for i in range(24):\n",
    "      tmpi=np.fromstring(tmp[i], dtype=float, sep=' ')\n",
    "      tmp[i]=tmpi[0]+tmpi[1]/60.0+tmpi[2]/3600.0\n",
    "  data_al.append(tmp)\n",
    "data_al=np.array(data_al).reshape((-1,1))#dataset1.flatten()[:,np.newaxis]#(1128, 1)\n",
    "data_al=data_al.astype('float32')\n",
    "#data_al = pd.DataFrame({'고도_sin': np.pi*np.sin(data_al[:,0]/90),'고도_cos': np.cos(np.pi*data_al[:,0]/90)})\n",
    "data_al = pd.DataFrame({'고도_cos': np.cos(np.pi*data_al[:,0]/90)})\n",
    "data_al=np.array(data_al)\n",
    "\n",
    "sc = MinMaxScaler(feature_range = (0, 1))\n",
    "data_al_scaled = sc.fit_transform(data_al)\n",
    "sc = MinMaxScaler(feature_range = (0, 1))\n",
    "data_az_scaled = sc.fit_transform(data_az)\n",
    "data_sun = np.concatenate((data_al_scaled,data_az_scaled),axis=-1)\n",
    "print(data_sun.shape)\n",
    "np.save(path_data+'data_sun', data_sun)"
   ]
  },
  {
   "cell_type": "markdown",
   "metadata": {
    "id": "S5ISV8O3O04y"
   },
   "source": [
    "# input/output"
   ]
  },
  {
   "cell_type": "code",
   "execution_count": null,
   "metadata": {
    "colab": {
     "base_uri": "https://localhost:8080/"
    },
    "executionInfo": {
     "elapsed": 282,
     "status": "ok",
     "timestamp": 1653033665121,
     "user": {
      "displayName": "손혜숙",
      "userId": "04546320556765428968"
     },
     "user_tz": -540
    },
    "id": "jEHGytLVGdNT",
    "outputId": "d2a618c3-559c-4cd0-bfaa-cbd26610a3e5"
   },
   "outputs": [],
   "source": [
    "n_steps_in=24*3\n",
    "n_steps_out=24\n",
    "n_step=n_steps_in\n",
    "\n",
    "\n",
    "#weather, sun data\n",
    "data_w = np.load(path_data + 'data_w.npy')\n",
    "data_sun = np.load(path_data + 'data_sun.npy')\n",
    "#pv data\n",
    "data_hr1=[]\n",
    "for fn in fnames:\n",
    "    data_hr1.append(pd.read_csv(path_data + 'cv_26/20'+ fn ).values[:,0])\n",
    "data_hr1=np.array(data_hr1)\n",
    "data_hr1=np.concatenate((data_hr1,np.zeros((47,1))),axis=1)\n",
    "print(data_hr1.shape,data_w.shape,data_sun.shape)\n",
    "\n",
    "#faltten\n",
    "data_hr1=data_hr1.reshape((-1,1))#dataset1.flatten()[:,np.newaxis]#(1128, 1)\n",
    "clip=24*6\n",
    "data_hr1=data_hr1[:-clip]\n",
    "np.save(path_data+'data_hr1', data_hr1)\n",
    "# Feature Scaling\n",
    "sc1 = MinMaxScaler(feature_range = (0, 1))\n",
    "data_hr_scaled1 = sc1.fit_transform(data_hr1)\n",
    "data_hr_scaled1.shape,np.min(data_hr_scaled1),np.max(data_hr_scaled1)\n",
    "with open(path_data + \"sc.pickle\",\"wb\") as fw:\n",
    "    pickle.dump(sc1, fw)\n",
    "\n",
    "#merge\n",
    "dataset_scaled1=np.concatenate((data_hr_scaled1,data_w[:-clip],data_sun[:-clip]),axis=-1)\n",
    "\n",
    "n_features=dataset_scaled1.shape[1]\n",
    "#train / test split\n",
    "n_train=len(dataset_scaled1)-24*10\n",
    "n_test=len(dataset_scaled1)-n_train\n",
    "training_set_scaled1=dataset_scaled1[:n_train]\n",
    "test_set_scaled1=dataset_scaled1[n_train:]\n",
    "print(training_set_scaled1.shape,test_set_scaled1.shape)"
   ]
  },
  {
   "cell_type": "code",
   "execution_count": null,
   "metadata": {
    "colab": {
     "base_uri": "https://localhost:8080/"
    },
    "executionInfo": {
     "elapsed": 298,
     "status": "ok",
     "timestamp": 1653029351552,
     "user": {
      "displayName": "손혜숙",
      "userId": "04546320556765428968"
     },
     "user_tz": -540
    },
    "id": "vjuq1CfhHMbe",
    "outputId": "177ece2a-5606-4f5b-bea3-cdcaf46c8193"
   },
   "outputs": [],
   "source": [
    "X_train = []\n",
    "y_train = []\n",
    "for i in range(n_step,22*24-24):\n",
    "    X_train.append(training_set_scaled1[i-n_step:i])\n",
    "    y_train.append(training_set_scaled1[i:i+24])\n",
    "for i in range(22*24+n_step,n_train-24):\n",
    "    X_train.append(training_set_scaled1[i-n_step:i])\n",
    "    y_train.append(training_set_scaled1[i:i+24])\n",
    "X_train, y_train = np.array(X_train), np.array(y_train)\n",
    "# Reshaping\n",
    "X_train = np.reshape(X_train, (X_train.shape[0], X_train.shape[1], n_features))\n",
    "y_train = np.reshape(y_train, (y_train.shape[0], y_train.shape[1], n_features))\n",
    "print(\"train\",X_train.shape,y_train.shape)#(960, 168, 1),(960,)\n",
    "\n",
    "X_test = []\n",
    "y_test=[]\n",
    "for i in range(n_step, n_test-24+1,24):\n",
    "    X_test.append(test_set_scaled1[i-n_step:i])\n",
    "    y_test.append(test_set_scaled1[i:i+24])\n",
    "X_test,y_test = np.array(X_test),np.array(y_test)\n",
    "X_test = np.reshape(X_test, (X_test.shape[0], X_test.shape[1], n_features))\n",
    "y_test = np.reshape(y_test, (y_test.shape[0], y_test.shape[1], n_features))\n",
    "print(\"test\",X_test.shape,y_test.shape)\n",
    "\n",
    "np.save(path_data+'X_train', X_train)\n",
    "np.save(path_data+'y_train', y_train)\n",
    "np.save(path_data+'X_test', X_test)\n",
    "np.save(path_data+'y_test', y_test)"
   ]
  }
 ],
 "metadata": {
  "colab": {
   "collapsed_sections": [],
   "name": "DataProcess.ipynb",
   "provenance": []
  },
  "kernelspec": {
   "display_name": "Python 3",
   "language": "python",
   "name": "python3"
  },
  "language_info": {
   "codemirror_mode": {
    "name": "ipython",
    "version": 3
   },
   "file_extension": ".py",
   "mimetype": "text/x-python",
   "name": "python",
   "nbconvert_exporter": "python",
   "pygments_lexer": "ipython3",
   "version": "3.5.6"
  }
 },
 "nbformat": 4,
 "nbformat_minor": 1
}
