{
 "cells": [
  {
   "cell_type": "code",
   "execution_count": null,
   "metadata": {},
   "outputs": [],
   "source": [
    "#load library"
   ]
  },
  {
   "cell_type": "code",
   "execution_count": 1,
   "metadata": {},
   "outputs": [],
   "source": [
    "import matplotlib.pyplot as plt\n",
    "import numpy as np\n",
    "import pandas as pd\n",
    "from tcn import TCN # main library\n",
    "import math\n",
    "from sklearn.preprocessing import RobustScaler\n",
    "#from keras.initializers import  glorot_normal, RandomUniform\n",
    "#from keras import optimizers,regularizers\n",
    "\n",
    "from tensorflow.keras import Sequential\n",
    "from tensorflow.keras.layers import Dense, Dropout\n",
    "from tensorflow.keras.models import load_model \n",
    "import tensorflow as tf\n",
    "physical_devices = tf.config.list_physical_devices('GPU') \n",
    "tf.config.experimental.set_memory_growth(physical_devices[0], True)"
   ]
  },
  {
   "cell_type": "code",
   "execution_count": null,
   "metadata": {},
   "outputs": [],
   "source": [
    "#load data"
   ]
  },
  {
   "cell_type": "code",
   "execution_count": 2,
   "metadata": {},
   "outputs": [
    {
     "name": "stdout",
     "output_type": "stream",
     "text": [
      "(17414, 13) (15673, 13) (1765, 13)\n"
     ]
    }
   ],
   "source": [
    "df = pd.read_csv(\"london_merged.csv\")\n",
    "df[\"timestamp\"] = pd.to_datetime(df[\"timestamp\"])\n",
    "df = df.set_index(\"timestamp\")\n",
    "#df.head()\n",
    "\n",
    "df[\"hour\"] = df.index.hour\n",
    "df[\"day_of_month\"] = df.index.day\n",
    "df[\"day_of_week\"]  = df.index.dayofweek\n",
    "df[\"month\"] = df.index.month\n",
    "\n",
    "training_data_len = math.ceil(len(df) * 0.9) # taking 90% of data to train and 10% of data to test\n",
    "testing_data_len = len(df) - training_data_len\n",
    "\n",
    "time_steps = 24\n",
    "train, test = df.iloc[0:training_data_len], df.iloc[(training_data_len-time_steps):len(df)]\n",
    "print(df.shape, train.shape, test.shape)"
   ]
  },
  {
   "cell_type": "code",
   "execution_count": 4,
   "metadata": {},
   "outputs": [
    {
     "name": "stderr",
     "output_type": "stream",
     "text": [
      "C:\\Users\\user\\anaconda3\\lib\\site-packages\\pandas\\core\\indexing.py:1738: SettingWithCopyWarning: \n",
      "A value is trying to be set on a copy of a slice from a DataFrame.\n",
      "Try using .loc[row_indexer,col_indexer] = value instead\n",
      "\n",
      "See the caveats in the documentation: https://pandas.pydata.org/pandas-docs/stable/user_guide/indexing.html#returning-a-view-versus-a-copy\n",
      "  self._setitem_single_column(loc, value[:, i].tolist(), pi)\n",
      "C:\\Users\\user\\anaconda3\\lib\\site-packages\\pandas\\core\\indexing.py:1738: SettingWithCopyWarning: \n",
      "A value is trying to be set on a copy of a slice from a DataFrame.\n",
      "Try using .loc[row_indexer,col_indexer] = value instead\n",
      "\n",
      "See the caveats in the documentation: https://pandas.pydata.org/pandas-docs/stable/user_guide/indexing.html#returning-a-view-versus-a-copy\n",
      "  self._setitem_single_column(loc, value[:, i].tolist(), pi)\n",
      "C:\\Users\\user\\anaconda3\\lib\\site-packages\\ipykernel_launcher.py:8: SettingWithCopyWarning: \n",
      "A value is trying to be set on a copy of a slice from a DataFrame.\n",
      "Try using .loc[row_indexer,col_indexer] = value instead\n",
      "\n",
      "See the caveats in the documentation: https://pandas.pydata.org/pandas-docs/stable/user_guide/indexing.html#returning-a-view-versus-a-copy\n",
      "  \n",
      "C:\\Users\\user\\anaconda3\\lib\\site-packages\\ipykernel_launcher.py:9: SettingWithCopyWarning: \n",
      "A value is trying to be set on a copy of a slice from a DataFrame.\n",
      "Try using .loc[row_indexer,col_indexer] = value instead\n",
      "\n",
      "See the caveats in the documentation: https://pandas.pydata.org/pandas-docs/stable/user_guide/indexing.html#returning-a-view-versus-a-copy\n",
      "  if __name__ == '__main__':\n"
     ]
    }
   ],
   "source": [
    "train_trans = train[['t1','t2', 'hum', 'wind_speed']].to_numpy()\n",
    "test_trans = test[['t1','t2', 'hum', 'wind_speed']].to_numpy()\n",
    "\n",
    "scaler = RobustScaler() # Handles outliers\n",
    "train.loc[:, ['t1','t2','hum', 'wind_speed']]=scaler.fit_transform(train_trans)\n",
    "test.loc[:, ['t1','t2', 'hum', 'wind_speed']]=scaler.fit_transform(test_trans)\n",
    "\n",
    "train['cnt'] = scaler.fit_transform(train[['cnt']])\n",
    "test['cnt'] = scaler.fit_transform(test[['cnt']])"
   ]
  },
  {
   "cell_type": "code",
   "execution_count": 5,
   "metadata": {},
   "outputs": [
    {
     "name": "stderr",
     "output_type": "stream",
     "text": [
      "C:\\Users\\user\\anaconda3\\lib\\site-packages\\ipykernel_launcher.py:7: TqdmDeprecationWarning: This function will be removed in tqdm==5.0.0\n",
      "Please use `tqdm.notebook.tqdm` instead of `tqdm.tqdm_notebook`\n",
      "  import sys\n"
     ]
    },
    {
     "data": {
      "application/vnd.jupyter.widget-view+json": {
       "model_id": "408499d359814bd0959a74d35a646bdf",
       "version_major": 2,
       "version_minor": 0
      },
      "text/plain": [
       "  0%|          | 0/15649 [00:00<?, ?it/s]"
      ]
     },
     "metadata": {},
     "output_type": "display_data"
    },
    {
     "name": "stderr",
     "output_type": "stream",
     "text": [
      "C:\\Users\\user\\anaconda3\\lib\\site-packages\\ipykernel_launcher.py:19: TqdmDeprecationWarning: This function will be removed in tqdm==5.0.0\n",
      "Please use `tqdm.notebook.tqdm` instead of `tqdm.tqdm_notebook`\n"
     ]
    },
    {
     "data": {
      "application/vnd.jupyter.widget-view+json": {
       "model_id": "83291d16c2d547f7a01deed4338c62c7",
       "version_major": 2,
       "version_minor": 0
      },
      "text/plain": [
       "  0%|          | 0/1741 [00:00<?, ?it/s]"
      ]
     },
     "metadata": {},
     "output_type": "display_data"
    },
    {
     "name": "stdout",
     "output_type": "stream",
     "text": [
      "Train size:\n",
      "(15649, 24, 12) (15649,)\n",
      "Test size:\n",
      "(1741, 24, 12) (1741,)\n"
     ]
    }
   ],
   "source": [
    "from tqdm import tqdm_notebook as tqdm\n",
    "\n",
    "#Split the data into x_train and y_train data sets\n",
    "x_train = []\n",
    "y_train = []\n",
    "\n",
    "for i in tqdm(range(len(train) - time_steps)):\n",
    "    x_train.append(train.drop(columns='cnt').iloc[i:i + time_steps].to_numpy())\n",
    "    y_train.append(train.loc[:,'cnt'].iloc[i + time_steps])\n",
    "\n",
    "#Convert x_train and y_train to numpy arrays\n",
    "x_train = np.array(x_train)\n",
    "y_train = np.array(y_train)\n",
    "\n",
    "#Create the x_test and y_test data sets\n",
    "x_test = []\n",
    "y_test = df.loc[:,'cnt'].iloc[training_data_len:len(df)]\n",
    "\n",
    "for i in tqdm(range(len(test) - time_steps)):\n",
    "    x_test.append(test.drop(columns='cnt').iloc[i:i + time_steps].to_numpy())\n",
    "    # y_test.append(test.loc[:,'cnt'].iloc[i + time_steps])\n",
    "\n",
    "#Convert x_test and y_test to numpy arrays\n",
    "x_test = np.array(x_test)\n",
    "y_test = np.array(y_test)\n",
    "\n",
    "# All 12 columns of the data\n",
    "print('Train size:')\n",
    "print(x_train.shape, y_train.shape)\n",
    "print('Test size:')\n",
    "print(x_test.shape, y_test.shape)"
   ]
  },
  {
   "cell_type": "code",
   "execution_count": null,
   "metadata": {},
   "outputs": [],
   "source": [
    "#Model Training"
   ]
  },
  {
   "cell_type": "code",
   "execution_count": 20,
   "metadata": {},
   "outputs": [
    {
     "name": "stdout",
     "output_type": "stream",
     "text": [
      "Model: \"sequential_8\"\n",
      "_________________________________________________________________\n",
      "Layer (type)                 Output Shape              Param #   \n",
      "=================================================================\n",
      "tcn_16 (TCN)                 (None, 24, 80)            140240    \n",
      "_________________________________________________________________\n",
      "dropout_16 (Dropout)         (None, 24, 80)            0         \n",
      "_________________________________________________________________\n",
      "tcn_17 (TCN)                 (None, 80)                155520    \n",
      "_________________________________________________________________\n",
      "dropout_17 (Dropout)         (None, 80)                0         \n",
      "_________________________________________________________________\n",
      "dense_10 (Dense)             (None, 1)                 81        \n",
      "=================================================================\n",
      "Total params: 295,841\n",
      "Trainable params: 295,841\n",
      "Non-trainable params: 0\n",
      "_________________________________________________________________\n"
     ]
    }
   ],
   "source": [
    "#init = glorot_normal(seed=None) # 給 LSTM\n",
    "#init_d = RandomUniform(minval=-0.05, maxval=0.05) # 給 Dense layer\n",
    "#nadam = optimizers.Nadam(lr=0.002,clipvalue=0.5)\n",
    "from tensorflow.keras.initializers import RandomUniform\n",
    "init_d = RandomUniform(minval=-0.05, maxval=0.05) # 給 Dense layer\n",
    "model = Sequential()\n",
    "model.add(TCN(input_shape=(x_train.shape[1],x_train.shape[2]),\n",
    "        kernel_size=3,\n",
    "        nb_filters=80,\n",
    "        nb_stacks=1,\n",
    "        dilations=(1, 2, 4, 8),\n",
    "        kernel_initializer='glorot_uniform',\n",
    "        use_skip_connections=True,\n",
    "        use_batch_norm=False,\n",
    "        use_weight_norm=False,\n",
    "        use_layer_norm=True,\n",
    "        dropout_rate = 0.05,\n",
    "        return_sequences=True\n",
    "        ))\n",
    "model.add(Dropout(0.5))\n",
    "model.add(TCN(\n",
    "        kernel_size=3,\n",
    "        nb_filters=80,\n",
    "        nb_stacks=1,\n",
    "        dilations=(1, 2, 4, 8),\n",
    "        kernel_initializer='glorot_uniform',\n",
    "        use_skip_connections=True,\n",
    "        use_batch_norm=False,\n",
    "        use_weight_norm=False,\n",
    "        use_layer_norm=True,\n",
    "        dropout_rate = 0.05,\n",
    "        return_sequences=False\n",
    "        ))  \n",
    "model.add(Dropout(0.3))\n",
    "model.add(Dense(1,kernel_initializer=init_d))  \n",
    "model.summary()"
   ]
  },
  {
   "cell_type": "code",
   "execution_count": null,
   "metadata": {},
   "outputs": [],
   "source": [
    "\n",
    "# def solve_cudnn_error():\n",
    "#     gpus = tf.config.experimental.list_physical_devices('GPU')\n",
    "#     if gpus:\n",
    "#         try:\n",
    "#             # Currently, memory growth needs to be the same across GPUs\n",
    "#             for gpu in gpus:\n",
    "#                 tf.config.experimental.set_memory_growth(gpu, True)\n",
    "#             logical_gpus = tf.config.experimental.list_logical_devices('GPU')\n",
    "#             print(len(gpus), \"Physical GPUs,\", len(logical_gpus), \"Logical GPUs\")\n",
    "#         except RuntimeError as e:\n",
    "#             # Memory growth must be set before GPUs have been initialized\n",
    "#             print(e)\n",
    "# solve_cudnn_error()"
   ]
  },
  {
   "cell_type": "code",
   "execution_count": 21,
   "metadata": {},
   "outputs": [
    {
     "name": "stdout",
     "output_type": "stream",
     "text": [
      "Train...\n",
      "Train on 14084 samples, validate on 1565 samples\n",
      "Epoch 1/120\n",
      "14084/14084 [==============================] - 26s 2ms/sample - loss: 0.1897 - val_loss: 0.0976\n",
      "Epoch 2/120\n",
      "14084/14084 [==============================] - 19s 1ms/sample - loss: 0.0825 - val_loss: 0.0688\n",
      "Epoch 3/120\n",
      "14084/14084 [==============================] - 19s 1ms/sample - loss: 0.0722 - val_loss: 0.0560\n",
      "Epoch 4/120\n",
      "14084/14084 [==============================] - 19s 1ms/sample - loss: 0.0624 - val_loss: 0.0700\n",
      "Epoch 5/120\n",
      "14084/14084 [==============================] - 20s 1ms/sample - loss: 0.0616 - val_loss: 0.0445\n",
      "Epoch 6/120\n",
      "14084/14084 [==============================] - 19s 1ms/sample - loss: 0.0554 - val_loss: 0.0555\n",
      "Epoch 7/120\n",
      "14084/14084 [==============================] - 19s 1ms/sample - loss: 0.0503 - val_loss: 0.0629\n",
      "Epoch 8/120\n",
      "14084/14084 [==============================] - 19s 1ms/sample - loss: 0.0494 - val_loss: 0.0540\n",
      "Epoch 9/120\n",
      "14084/14084 [==============================] - 19s 1ms/sample - loss: 0.0456 - val_loss: 0.0422\n",
      "Epoch 10/120\n",
      "14084/14084 [==============================] - 19s 1ms/sample - loss: 0.0469 - val_loss: 0.0473\n",
      "Epoch 11/120\n",
      "14084/14084 [==============================] - 19s 1ms/sample - loss: 0.0412 - val_loss: 0.0601\n",
      "Epoch 12/120\n",
      "14084/14084 [==============================] - 19s 1ms/sample - loss: 0.0414 - val_loss: 0.0414\n",
      "Epoch 13/120\n",
      "14084/14084 [==============================] - 19s 1ms/sample - loss: 0.0392 - val_loss: 0.0528\n",
      "Epoch 14/120\n",
      "14084/14084 [==============================] - 20s 1ms/sample - loss: 0.0390 - val_loss: 0.0430\n",
      "Epoch 15/120\n",
      "14084/14084 [==============================] - 19s 1ms/sample - loss: 0.0369 - val_loss: 0.0437\n",
      "Epoch 16/120\n",
      "14084/14084 [==============================] - 19s 1ms/sample - loss: 0.0344 - val_loss: 0.0392\n",
      "Epoch 17/120\n",
      "14084/14084 [==============================] - 19s 1ms/sample - loss: 0.0364 - val_loss: 0.0540\n",
      "Epoch 18/120\n",
      "14084/14084 [==============================] - 19s 1ms/sample - loss: 0.0336 - val_loss: 0.0443\n",
      "Epoch 19/120\n",
      "14084/14084 [==============================] - 19s 1ms/sample - loss: 0.0331 - val_loss: 0.0567\n",
      "Epoch 20/120\n",
      "14084/14084 [==============================] - 19s 1ms/sample - loss: 0.0307 - val_loss: 0.0527\n",
      "Epoch 21/120\n",
      "14084/14084 [==============================] - 20s 1ms/sample - loss: 0.0304 - val_loss: 0.0569\n",
      "Epoch 22/120\n",
      "14084/14084 [==============================] - 20s 1ms/sample - loss: 0.0289 - val_loss: 0.0622\n",
      "Epoch 23/120\n",
      "14084/14084 [==============================] - 20s 1ms/sample - loss: 0.0292 - val_loss: 0.0596\n",
      "Epoch 24/120\n",
      "14084/14084 [==============================] - 19s 1ms/sample - loss: 0.0284 - val_loss: 0.0415\n",
      "Epoch 25/120\n",
      "14084/14084 [==============================] - 19s 1ms/sample - loss: 0.0281 - val_loss: 0.0424\n",
      "Epoch 26/120\n",
      "14084/14084 [==============================] - 20s 1ms/sample - loss: 0.0264 - val_loss: 0.0562\n",
      "Epoch 27/120\n",
      "14084/14084 [==============================] - 20s 1ms/sample - loss: 0.0250 - val_loss: 0.0719\n",
      "Epoch 28/120\n",
      "14084/14084 [==============================] - 20s 1ms/sample - loss: 0.0240 - val_loss: 0.0483\n",
      "Epoch 29/120\n",
      "14084/14084 [==============================] - 20s 1ms/sample - loss: 0.0237 - val_loss: 0.0493\n",
      "Epoch 30/120\n",
      "14084/14084 [==============================] - 20s 1ms/sample - loss: 0.0248 - val_loss: 0.0571\n",
      "Epoch 31/120\n",
      "14084/14084 [==============================] - 20s 1ms/sample - loss: 0.0228 - val_loss: 0.0660\n",
      "Epoch 32/120\n",
      "14084/14084 [==============================] - 19s 1ms/sample - loss: 0.0235 - val_loss: 0.0527\n",
      "Epoch 33/120\n",
      "14084/14084 [==============================] - 19s 1ms/sample - loss: 0.0228 - val_loss: 0.0445\n",
      "Epoch 34/120\n",
      "14084/14084 [==============================] - 19s 1ms/sample - loss: 0.0220 - val_loss: 0.0599\n",
      "Epoch 35/120\n",
      "14084/14084 [==============================] - 20s 1ms/sample - loss: 0.0213 - val_loss: 0.0489\n",
      "Epoch 36/120\n",
      "14084/14084 [==============================] - 19s 1ms/sample - loss: 0.0228 - val_loss: 0.0558\n",
      "Epoch 37/120\n",
      "14084/14084 [==============================] - 20s 1ms/sample - loss: 0.0218 - val_loss: 0.0587\n",
      "Epoch 38/120\n",
      "14084/14084 [==============================] - 19s 1ms/sample - loss: 0.0197 - val_loss: 0.0521\n",
      "Epoch 39/120\n",
      "14084/14084 [==============================] - 20s 1ms/sample - loss: 0.0198 - val_loss: 0.0549\n",
      "Epoch 40/120\n",
      "14084/14084 [==============================] - 19s 1ms/sample - loss: 0.0209 - val_loss: 0.0688\n",
      "Epoch 41/120\n",
      "14084/14084 [==============================] - 19s 1ms/sample - loss: 0.0194 - val_loss: 0.0642\n",
      "Epoch 42/120\n",
      "14084/14084 [==============================] - 19s 1ms/sample - loss: 0.0192 - val_loss: 0.0526\n",
      "Epoch 43/120\n",
      "14084/14084 [==============================] - 19s 1ms/sample - loss: 0.0193 - val_loss: 0.0567\n",
      "Epoch 44/120\n",
      "14084/14084 [==============================] - 19s 1ms/sample - loss: 0.0187 - val_loss: 0.0501\n",
      "Epoch 45/120\n",
      "14084/14084 [==============================] - 19s 1ms/sample - loss: 0.0196 - val_loss: 0.0532\n",
      "Epoch 46/120\n",
      "14084/14084 [==============================] - 19s 1ms/sample - loss: 0.0180 - val_loss: 0.0499\n",
      "Epoch 47/120\n",
      "14084/14084 [==============================] - 20s 1ms/sample - loss: 0.0182 - val_loss: 0.0549\n",
      "Epoch 48/120\n",
      "14084/14084 [==============================] - 19s 1ms/sample - loss: 0.0180 - val_loss: 0.0524\n",
      "Epoch 49/120\n",
      "14084/14084 [==============================] - 19s 1ms/sample - loss: 0.0174 - val_loss: 0.0578\n",
      "Epoch 50/120\n",
      "14084/14084 [==============================] - 19s 1ms/sample - loss: 0.0180 - val_loss: 0.0552\n",
      "Epoch 51/120\n",
      "14084/14084 [==============================] - 19s 1ms/sample - loss: 0.0171 - val_loss: 0.0734\n",
      "Epoch 52/120\n",
      "14084/14084 [==============================] - 20s 1ms/sample - loss: 0.0176 - val_loss: 0.0648\n",
      "Epoch 53/120\n",
      "14084/14084 [==============================] - 20s 1ms/sample - loss: 0.0167 - val_loss: 0.0586\n",
      "Epoch 54/120\n",
      "14084/14084 [==============================] - 20s 1ms/sample - loss: 0.0162 - val_loss: 0.0533\n",
      "Epoch 55/120\n",
      "14084/14084 [==============================] - 19s 1ms/sample - loss: 0.0166 - val_loss: 0.0604\n",
      "Epoch 56/120\n",
      "14084/14084 [==============================] - 19s 1ms/sample - loss: 0.0171 - val_loss: 0.0531\n",
      "Epoch 57/120\n",
      "14084/14084 [==============================] - 19s 1ms/sample - loss: 0.0162 - val_loss: 0.0524\n",
      "Epoch 58/120\n",
      "14084/14084 [==============================] - 20s 1ms/sample - loss: 0.0160 - val_loss: 0.0644\n",
      "Epoch 59/120\n",
      "14084/14084 [==============================] - 19s 1ms/sample - loss: 0.0167 - val_loss: 0.0583\n",
      "Epoch 60/120\n",
      "14084/14084 [==============================] - 19s 1ms/sample - loss: 0.0157 - val_loss: 0.0620\n",
      "Epoch 61/120\n",
      "14084/14084 [==============================] - 19s 1ms/sample - loss: 0.0158 - val_loss: 0.0550\n",
      "Epoch 62/120\n",
      "14084/14084 [==============================] - 19s 1ms/sample - loss: 0.0154 - val_loss: 0.0559\n",
      "Epoch 63/120\n",
      "14084/14084 [==============================] - 19s 1ms/sample - loss: 0.0157 - val_loss: 0.0581\n",
      "Epoch 64/120\n",
      "14084/14084 [==============================] - 19s 1ms/sample - loss: 0.0155 - val_loss: 0.0633\n",
      "Epoch 65/120\n",
      "14084/14084 [==============================] - 19s 1ms/sample - loss: 0.0152 - val_loss: 0.0659\n",
      "Epoch 66/120\n",
      "14084/14084 [==============================] - 19s 1ms/sample - loss: 0.0152 - val_loss: 0.0623\n",
      "Epoch 67/120\n",
      "14084/14084 [==============================] - 19s 1ms/sample - loss: 0.0157 - val_loss: 0.0608\n",
      "Epoch 68/120\n",
      "14084/14084 [==============================] - 19s 1ms/sample - loss: 0.0145 - val_loss: 0.0588\n",
      "Epoch 69/120\n",
      "14084/14084 [==============================] - 20s 1ms/sample - loss: 0.0148 - val_loss: 0.0558\n",
      "Epoch 70/120\n",
      "14084/14084 [==============================] - 20s 1ms/sample - loss: 0.0147 - val_loss: 0.0529\n",
      "Epoch 71/120\n",
      "14084/14084 [==============================] - 19s 1ms/sample - loss: 0.0148 - val_loss: 0.0604\n",
      "Epoch 72/120\n",
      "14084/14084 [==============================] - 20s 1ms/sample - loss: 0.0145 - val_loss: 0.0644\n",
      "Epoch 73/120\n",
      "14084/14084 [==============================] - 19s 1ms/sample - loss: 0.0144 - val_loss: 0.0518\n",
      "Epoch 74/120\n",
      "14084/14084 [==============================] - 19s 1ms/sample - loss: 0.0144 - val_loss: 0.0504\n",
      "Epoch 75/120\n"
     ]
    },
    {
     "name": "stdout",
     "output_type": "stream",
     "text": [
      "14084/14084 [==============================] - 20s 1ms/sample - loss: 0.0145 - val_loss: 0.0581\n",
      "Epoch 76/120\n",
      "14084/14084 [==============================] - 20s 1ms/sample - loss: 0.0141 - val_loss: 0.0575\n",
      "Epoch 77/120\n",
      "14084/14084 [==============================] - 19s 1ms/sample - loss: 0.0143 - val_loss: 0.0578\n",
      "Epoch 78/120\n",
      "14084/14084 [==============================] - 20s 1ms/sample - loss: 0.0144 - val_loss: 0.0492\n",
      "Epoch 79/120\n",
      "14084/14084 [==============================] - 20s 1ms/sample - loss: 0.0144 - val_loss: 0.0575\n",
      "Epoch 80/120\n",
      "14084/14084 [==============================] - 19s 1ms/sample - loss: 0.0140 - val_loss: 0.0540\n",
      "Epoch 81/120\n",
      "14084/14084 [==============================] - 20s 1ms/sample - loss: 0.0136 - val_loss: 0.0547\n",
      "Epoch 82/120\n",
      "14084/14084 [==============================] - 20s 1ms/sample - loss: 0.0142 - val_loss: 0.0617\n",
      "Epoch 83/120\n",
      "14084/14084 [==============================] - 20s 1ms/sample - loss: 0.0139 - val_loss: 0.0645\n",
      "Epoch 84/120\n",
      "14084/14084 [==============================] - 20s 1ms/sample - loss: 0.0143 - val_loss: 0.0577\n",
      "Epoch 85/120\n",
      "14084/14084 [==============================] - 20s 1ms/sample - loss: 0.0139 - val_loss: 0.0522\n",
      "Epoch 86/120\n",
      "14084/14084 [==============================] - 20s 1ms/sample - loss: 0.0134 - val_loss: 0.0663\n",
      "Epoch 87/120\n",
      "14084/14084 [==============================] - 19s 1ms/sample - loss: 0.0134 - val_loss: 0.0666\n",
      "Epoch 88/120\n",
      "14084/14084 [==============================] - 19s 1ms/sample - loss: 0.0132 - val_loss: 0.0634\n",
      "Epoch 89/120\n",
      "14084/14084 [==============================] - 20s 1ms/sample - loss: 0.0134 - val_loss: 0.0551\n",
      "Epoch 90/120\n",
      "14084/14084 [==============================] - 19s 1ms/sample - loss: 0.0133 - val_loss: 0.0553\n",
      "Epoch 91/120\n",
      "14084/14084 [==============================] - 20s 1ms/sample - loss: 0.0128 - val_loss: 0.0600\n",
      "Epoch 92/120\n",
      "14084/14084 [==============================] - 19s 1ms/sample - loss: 0.0132 - val_loss: 0.0533\n",
      "Epoch 93/120\n",
      "14084/14084 [==============================] - 19s 1ms/sample - loss: 0.0132 - val_loss: 0.0575\n",
      "Epoch 94/120\n",
      "14084/14084 [==============================] - 19s 1ms/sample - loss: 0.0127 - val_loss: 0.0579\n",
      "Epoch 95/120\n",
      "14084/14084 [==============================] - 20s 1ms/sample - loss: 0.0130 - val_loss: 0.0615\n",
      "Epoch 96/120\n",
      "14084/14084 [==============================] - 20s 1ms/sample - loss: 0.0134 - val_loss: 0.0606\n",
      "Epoch 97/120\n",
      "14084/14084 [==============================] - 20s 1ms/sample - loss: 0.0134 - val_loss: 0.0588\n",
      "Epoch 98/120\n",
      "14084/14084 [==============================] - 20s 1ms/sample - loss: 0.0132 - val_loss: 0.0555\n",
      "Epoch 99/120\n",
      "14084/14084 [==============================] - 19s 1ms/sample - loss: 0.0127 - val_loss: 0.0581\n",
      "Epoch 100/120\n",
      "14084/14084 [==============================] - 20s 1ms/sample - loss: 0.0125 - val_loss: 0.0597\n",
      "Epoch 101/120\n",
      "14084/14084 [==============================] - 19s 1ms/sample - loss: 0.0123 - val_loss: 0.0591\n",
      "Epoch 102/120\n",
      "14084/14084 [==============================] - 19s 1ms/sample - loss: 0.0129 - val_loss: 0.0549\n",
      "Epoch 103/120\n",
      "14084/14084 [==============================] - 19s 1ms/sample - loss: 0.0136 - val_loss: 0.0632\n",
      "Epoch 104/120\n",
      "14084/14084 [==============================] - 19s 1ms/sample - loss: 0.0132 - val_loss: 0.0646\n",
      "Epoch 105/120\n",
      "14084/14084 [==============================] - 19s 1ms/sample - loss: 0.0128 - val_loss: 0.0556\n",
      "Epoch 106/120\n",
      "14084/14084 [==============================] - 19s 1ms/sample - loss: 0.0121 - val_loss: 0.0594\n",
      "Epoch 107/120\n",
      "14084/14084 [==============================] - 20s 1ms/sample - loss: 0.0129 - val_loss: 0.0569\n",
      "Epoch 108/120\n",
      "14084/14084 [==============================] - 19s 1ms/sample - loss: 0.0122 - val_loss: 0.0658\n",
      "Epoch 109/120\n",
      "14084/14084 [==============================] - 20s 1ms/sample - loss: 0.0125 - val_loss: 0.0599\n",
      "Epoch 110/120\n",
      "14084/14084 [==============================] - 19s 1ms/sample - loss: 0.0125 - val_loss: 0.0535\n",
      "Epoch 111/120\n",
      "14084/14084 [==============================] - 19s 1ms/sample - loss: 0.0125 - val_loss: 0.0672\n",
      "Epoch 112/120\n",
      "14084/14084 [==============================] - 19s 1ms/sample - loss: 0.0123 - val_loss: 0.0571\n",
      "Epoch 113/120\n",
      "14084/14084 [==============================] - 20s 1ms/sample - loss: 0.0125 - val_loss: 0.0583\n",
      "Epoch 114/120\n",
      "14084/14084 [==============================] - 19s 1ms/sample - loss: 0.0119 - val_loss: 0.0568\n",
      "Epoch 115/120\n",
      "14084/14084 [==============================] - 19s 1ms/sample - loss: 0.0124 - val_loss: 0.0632\n",
      "Epoch 116/120\n",
      "14084/14084 [==============================] - 19s 1ms/sample - loss: 0.0122 - val_loss: 0.0595\n",
      "Epoch 117/120\n",
      "14084/14084 [==============================] - 19s 1ms/sample - loss: 0.0122 - val_loss: 0.0588\n",
      "Epoch 118/120\n",
      "14084/14084 [==============================] - 20s 1ms/sample - loss: 0.0122 - val_loss: 0.0591\n",
      "Epoch 119/120\n",
      "14084/14084 [==============================] - 20s 1ms/sample - loss: 0.0120 - val_loss: 0.0513\n",
      "Epoch 120/120\n",
      "14084/14084 [==============================] - 19s 1ms/sample - loss: 0.0120 - val_loss: 0.0547\n"
     ]
    }
   ],
   "source": [
    "print('Train...')\n",
    "model.compile(optimizer = \"nadam\" , loss=\"mse\")\n",
    "history = model.fit(x_train, y_train, epochs=120, batch_size=12, validation_split=0.1, shuffle=True)\n",
    "#Save Model\n",
    "model.save('TCN_model_1.h5')  # creates a HDF5 file \n",
    "del model"
   ]
  },
  {
   "cell_type": "code",
   "execution_count": 24,
   "metadata": {},
   "outputs": [
    {
     "name": "stdout",
     "output_type": "stream",
     "text": [
      "Load Success\n",
      "Predict time:  1.0178794860839844\n",
      "RMSE:  1332.7839669493603\n",
      "R-square:  -1.0573860331880511\n",
      "Adj R-square:  -1.0573860331880511\n"
     ]
    },
    {
     "data": {
      "text/plain": [
       "Text(0, 0.5, 'mse score')"
      ]
     },
     "execution_count": 24,
     "metadata": {},
     "output_type": "execute_result"
    },
    {
     "data": {
      "image/png": "[encoded data removed]",
      "text/plain": [
       "<Figure size 432x288 with 1 Axes>"
      ]
     },
     "metadata": {
      "needs_background": "light"
     },
     "output_type": "display_data"
    }
   ],
   "source": [
    "from tensorflow.keras.utils import plot_model\n",
    "custom_ob = {'TCN': TCN}\n",
    "# model = load_model('TCN_model_1.h5', custom_objects=custom_ob)\n",
    "model = load_model('TCN_model_1.h5', custom_objects=custom_ob)\n",
    "print('Load Success')\n",
    "# plot_model(\n",
    "#     model, to_file='model.png', show_shapes=True,\n",
    "#     show_layer_names=True, rankdir='TB', expand_nested=False, dpi=96\n",
    "# )\n",
    "\n",
    "import time\n",
    "t1 = time.time()\n",
    "y_pred = model.predict(x_test)\n",
    "t2 = time.time()\n",
    "print('Predict time: ',t2-t1)\n",
    "y_pred = scaler.inverse_transform(y_pred)#Undo scaling\n",
    "\n",
    "from sklearn.metrics import mean_squared_error, r2_score\n",
    "rmse_lstm = np.sqrt(mean_squared_error(y_test, y_pred))\n",
    "print('RMSE: ',rmse_lstm)\n",
    "\n",
    "r2 =  r2_score(y_test, y_pred)\n",
    "print('R-square: ',r2)\n",
    "\n",
    "n = len(y_test)\n",
    "p = 12\n",
    "Adj_r2 = 1-(1-r2)*(n-1)/(n-p-1)\n",
    "print('Adj R-square: ',r2)\n",
    "\n",
    "plt.plot(history.history[\"loss\"],label=\"loss\")\n",
    "plt.plot(history.history[\"val_loss\"],label=\"val_loss\")\n",
    "plt.legend(loc=\"best\")\n",
    "plt.xlabel(\"No. Of Epochs\")\n",
    "plt.ylabel(\"mse score\")"
   ]
  },
  {
   "cell_type": "code",
   "execution_count": null,
   "metadata": {},
   "outputs": [],
   "source": []
  },
  {
   "cell_type": "code",
   "execution_count": null,
   "metadata": {},
   "outputs": [],
   "source": [
    "plt.figure(figsize=(16, 8))\n",
    "plt.plot(y_test, label='true')\n",
    "plt.plot(y_pred, label='predicted')\n",
    "plt.legend()"
   ]
  },
  {
   "cell_type": "code",
   "execution_count": null,
   "metadata": {},
   "outputs": [],
   "source": []
  },
  {
   "cell_type": "code",
   "execution_count": null,
   "metadata": {},
   "outputs": [],
   "source": []
  },
  {
   "cell_type": "code",
   "execution_count": null,
   "metadata": {},
   "outputs": [],
   "source": []
  }
 ],
 "metadata": {
  "kernelspec": {
   "display_name": "Python 3",
   "language": "python",
   "name": "python3"
  },
  "language_info": {
   "codemirror_mode": {
    "name": "ipython",
    "version": 3
   },
   "file_extension": ".py",
   "mimetype": "text/x-python",
   "name": "python",
   "nbconvert_exporter": "python",
   "pygments_lexer": "ipython3",
   "version": "3.7.7"
  }
 },
 "nbformat": 4,
 "nbformat_minor": 4
}
